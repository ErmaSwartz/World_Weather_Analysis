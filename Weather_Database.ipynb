{
 "cells": [
  {
   "cell_type": "code",
   "execution_count": 1,
   "metadata": {},
   "outputs": [],
   "source": [
    "# import the dependencies \n",
    "import pandas as pd \n",
    "import matplotlib.pyplot as plt \n",
    "import numpy as np "
   ]
  },
  {
   "cell_type": "code",
   "execution_count": 2,
   "metadata": {},
   "outputs": [
    {
     "data": {
      "text/plain": [
       "<zip at 0x240b25e2088>"
      ]
     },
     "execution_count": 2,
     "metadata": {},
     "output_type": "execute_result"
    }
   ],
   "source": [
    "# Create a set of random latitude and longitude combinations.\n",
    "lats = np.random.uniform(low=-90.000, high=90.000, size=1500)\n",
    "lngs = np.random.uniform(low=-180.000, high=180.000, size=1500)\n",
    "lat_lngs = zip(lats, lngs)\n",
    "lat_lngs"
   ]
  },
  {
   "cell_type": "code",
   "execution_count": 3,
   "metadata": {},
   "outputs": [],
   "source": [
    "# Add the latitudes and longitudes to a list.\n",
    "coordinates = list(lat_lngs)"
   ]
  },
  {
   "cell_type": "code",
   "execution_count": 4,
   "metadata": {},
   "outputs": [],
   "source": [
    "# Use the citipy module to determine city based on latitude and longitude.\n",
    "from citipy import citipy"
   ]
  },
  {
   "cell_type": "code",
   "execution_count": 5,
   "metadata": {},
   "outputs": [
    {
     "data": {
      "text/plain": [
       "625"
      ]
     },
     "execution_count": 5,
     "metadata": {},
     "output_type": "execute_result"
    }
   ],
   "source": [
    "# Create a list for holding the cities.\n",
    "cities = []\n",
    "# Identify the nearest city for each latitude and longitude combination.\n",
    "for coordinate in coordinates:\n",
    "    city = citipy.nearest_city(coordinate[0], coordinate[1]).city_name\n",
    "\n",
    "    # If the city is unique, then we will add it to the cities list.\n",
    "    if city not in cities:\n",
    "        cities.append(city)\n",
    "# Print the city count to confirm sufficient count.\n",
    "len(cities)"
   ]
  },
  {
   "cell_type": "code",
   "execution_count": 6,
   "metadata": {},
   "outputs": [],
   "source": [
    "import requests \n",
    "from config import weather_api_key"
   ]
  },
  {
   "cell_type": "code",
   "execution_count": 7,
   "metadata": {},
   "outputs": [
    {
     "name": "stdout",
     "output_type": "stream",
     "text": [
      "http://api.openweathermap.org/data/2.5/weather?units=Imperial&APPID=a77414ceb13dc7b7f8781106de8688af\n"
     ]
    }
   ],
   "source": [
    "# Starting URL for Weather Map API Call.\n",
    "url = \"http://api.openweathermap.org/data/2.5/weather?units=Imperial&APPID=\" + weather_api_key\n",
    "print(url)"
   ]
  },
  {
   "cell_type": "code",
   "execution_count": 8,
   "metadata": {},
   "outputs": [
    {
     "name": "stdout",
     "output_type": "stream",
     "text": [
      "http://api.openweathermap.org/data/2.5/weather?units=Imperial&APPID=a77414ceb13dc7b7f8781106de8688af&q=Boston\n"
     ]
    }
   ],
   "source": [
    "# Create an endpoint URL for a city.\n",
    "city_url = url + \"&q=\" + \"Boston\"\n",
    "print(city_url)"
   ]
  },
  {
   "cell_type": "code",
   "execution_count": 9,
   "metadata": {},
   "outputs": [
    {
     "data": {
      "text/plain": [
       "<Response [200]>"
      ]
     },
     "execution_count": 9,
     "metadata": {},
     "output_type": "execute_result"
    }
   ],
   "source": [
    "# Make a 'Get' request for the city weather.\n",
    "city_weather = requests.get(city_url)\n",
    "city_weather"
   ]
  },
  {
   "cell_type": "code",
   "execution_count": 10,
   "metadata": {},
   "outputs": [
    {
     "data": {
      "text/plain": [
       "<Response [200]>"
      ]
     },
     "execution_count": 10,
     "metadata": {},
     "output_type": "execute_result"
    }
   ],
   "source": [
    "# Create an endpoint URL for a city.\n",
    "city_url = url + \"&q=\" + \"Boston\"\n",
    "city_weather = requests.get(city_url)\n",
    "city_weather"
   ]
  },
  {
   "cell_type": "code",
   "execution_count": 11,
   "metadata": {},
   "outputs": [
    {
     "data": {
      "text/plain": [
       "'{\"coord\":{\"lon\":-71.0598,\"lat\":42.3584},\"weather\":[{\"id\":804,\"main\":\"Clouds\",\"description\":\"overcast clouds\",\"icon\":\"04n\"}],\"base\":\"stations\",\"main\":{\"temp\":32.56,\"feels_like\":23.36,\"temp_min\":30,\"temp_max\":35.01,\"pressure\":1022,\"humidity\":51},\"visibility\":10000,\"wind\":{\"speed\":6.91,\"deg\":290},\"clouds\":{\"all\":90},\"dt\":1610413320,\"sys\":{\"type\":1,\"id\":3486,\"country\":\"US\",\"sunrise\":1610367130,\"sunset\":1610400717},\"timezone\":-18000,\"id\":4930956,\"name\":\"Boston\",\"cod\":200}'"
      ]
     },
     "execution_count": 11,
     "metadata": {},
     "output_type": "execute_result"
    }
   ],
   "source": [
    "# Get the text of the 'Get' request.\n",
    "city_weather.text"
   ]
  },
  {
   "cell_type": "code",
   "execution_count": 12,
   "metadata": {},
   "outputs": [
    {
     "data": {
      "text/plain": [
       "{'coord': {'lon': -71.0598, 'lat': 42.3584},\n",
       " 'weather': [{'id': 804,\n",
       "   'main': 'Clouds',\n",
       "   'description': 'overcast clouds',\n",
       "   'icon': '04n'}],\n",
       " 'base': 'stations',\n",
       " 'main': {'temp': 32.56,\n",
       "  'feels_like': 23.36,\n",
       "  'temp_min': 30,\n",
       "  'temp_max': 35.01,\n",
       "  'pressure': 1022,\n",
       "  'humidity': 51},\n",
       " 'visibility': 10000,\n",
       " 'wind': {'speed': 6.91, 'deg': 290},\n",
       " 'clouds': {'all': 90},\n",
       " 'dt': 1610413320,\n",
       " 'sys': {'type': 1,\n",
       "  'id': 3486,\n",
       "  'country': 'US',\n",
       "  'sunrise': 1610367130,\n",
       "  'sunset': 1610400717},\n",
       " 'timezone': -18000,\n",
       " 'id': 4930956,\n",
       " 'name': 'Boston',\n",
       " 'cod': 200}"
      ]
     },
     "execution_count": 12,
     "metadata": {},
     "output_type": "execute_result"
    }
   ],
   "source": [
    "# Get the JSON text of the 'Get' request.\n",
    "city_weather.json()"
   ]
  },
  {
   "cell_type": "code",
   "execution_count": 13,
   "metadata": {},
   "outputs": [
    {
     "name": "stdout",
     "output_type": "stream",
     "text": [
      "City Weather found.\n"
     ]
    }
   ],
   "source": [
    "# Create an endpoint URL for a city.\n",
    "city_url = url + \"&q=\" + \"Boston\"\n",
    "city_weather = requests.get(city_url)\n",
    "if city_weather.status_code == 200:\n",
    "    print(f\"City Weather found.\")\n",
    "else:\n",
    "    print(f\"City weather not found.\")"
   ]
  },
  {
   "cell_type": "code",
   "execution_count": 14,
   "metadata": {},
   "outputs": [
    {
     "name": "stdout",
     "output_type": "stream",
     "text": [
      "City Weather found.\n"
     ]
    }
   ],
   "source": [
    "# Create an endpoint URL for a city.\n",
    "city_url = url + \"&q=\" + \"Boston\"\n",
    "city_weather = requests.get(city_url)\n",
    "if city_weather.json():\n",
    "    print(f\"City Weather found.\")\n",
    "else:\n",
    "    print(f\"City weather not found.\")"
   ]
  },
  {
   "cell_type": "code",
   "execution_count": 15,
   "metadata": {},
   "outputs": [
    {
     "name": "stdout",
     "output_type": "stream",
     "text": [
      "http://api.openweathermap.org/data/2.5/weather?units=Imperial&APPID=a77414ceb13dc7b7f8781106de8688af&q=Boston\n"
     ]
    }
   ],
   "source": [
    "print(city_url)"
   ]
  },
  {
   "cell_type": "code",
   "execution_count": 16,
   "metadata": {},
   "outputs": [
    {
     "data": {
      "text/plain": [
       "{'coord': {'lon': -71.0598, 'lat': 42.3584},\n",
       " 'weather': [{'id': 804,\n",
       "   'main': 'Clouds',\n",
       "   'description': 'overcast clouds',\n",
       "   'icon': '04n'}],\n",
       " 'base': 'stations',\n",
       " 'main': {'temp': 32.56,\n",
       "  'feels_like': 23.36,\n",
       "  'temp_min': 30,\n",
       "  'temp_max': 35.01,\n",
       "  'pressure': 1022,\n",
       "  'humidity': 51},\n",
       " 'visibility': 10000,\n",
       " 'wind': {'speed': 6.91, 'deg': 290},\n",
       " 'clouds': {'all': 90},\n",
       " 'dt': 1610413320,\n",
       " 'sys': {'type': 1,\n",
       "  'id': 3486,\n",
       "  'country': 'US',\n",
       "  'sunrise': 1610367130,\n",
       "  'sunset': 1610400717},\n",
       " 'timezone': -18000,\n",
       " 'id': 4930956,\n",
       " 'name': 'Boston',\n",
       " 'cod': 200}"
      ]
     },
     "execution_count": 16,
     "metadata": {},
     "output_type": "execute_result"
    }
   ],
   "source": [
    "# Create an endpoint URL for a city.\n",
    "city_url = url + \"&q=\" + \"Boston\"\n",
    "city_weather = requests.get(city_url)\n",
    "city_weather.json()"
   ]
  },
  {
   "cell_type": "code",
   "execution_count": 17,
   "metadata": {},
   "outputs": [],
   "source": [
    "# Get the JSON data.\n",
    "boston_data = city_weather.json()"
   ]
  },
  {
   "cell_type": "code",
   "execution_count": 18,
   "metadata": {},
   "outputs": [
    {
     "data": {
      "text/plain": [
       "{'type': 1,\n",
       " 'id': 3486,\n",
       " 'country': 'US',\n",
       " 'sunrise': 1610367130,\n",
       " 'sunset': 1610400717}"
      ]
     },
     "execution_count": 18,
     "metadata": {},
     "output_type": "execute_result"
    }
   ],
   "source": [
    "boston_data[\"sys\"]"
   ]
  },
  {
   "cell_type": "code",
   "execution_count": 19,
   "metadata": {},
   "outputs": [
    {
     "data": {
      "text/plain": [
       "[{'id': 804,\n",
       "  'main': 'Clouds',\n",
       "  'description': 'overcast clouds',\n",
       "  'icon': '04n'}]"
      ]
     },
     "execution_count": 19,
     "metadata": {},
     "output_type": "execute_result"
    }
   ],
   "source": [
    "boston_data[\"weather\"]"
   ]
  },
  {
   "cell_type": "code",
   "execution_count": 20,
   "metadata": {},
   "outputs": [
    {
     "data": {
      "text/plain": [
       "'2021-01-12 01:02:00'"
      ]
     },
     "execution_count": 20,
     "metadata": {},
     "output_type": "execute_result"
    }
   ],
   "source": [
    "# Import the datetime module from the datetime library.\n",
    "from datetime import datetime\n",
    "# Get the date from the JSON file.\n",
    "date = boston_data[\"dt\"]\n",
    "# Convert the UTC date to a date format with year, month, day, hours, minutes, and seconds.\n",
    "datetime.utcfromtimestamp(date).strftime('%Y-%m-%d %H:%M:%S')"
   ]
  },
  {
   "cell_type": "code",
   "execution_count": 21,
   "metadata": {},
   "outputs": [
    {
     "name": "stdout",
     "output_type": "stream",
     "text": [
      "Beginning Data Retrieval     \n",
      "-----------------------------\n"
     ]
    }
   ],
   "source": [
    "\n",
    "# Create an empty list to hold the weather data.\n",
    "city_data = []\n",
    "# Print the beginning of the logging.\n",
    "print(\"Beginning Data Retrieval     \")\n",
    "print(\"-----------------------------\")\n",
    "\n",
    "# Create counters.\n",
    "record_count = 1\n",
    "set_count = 1"
   ]
  },
  {
   "cell_type": "code",
   "execution_count": null,
   "metadata": {},
   "outputs": [
    {
     "name": "stdout",
     "output_type": "stream",
     "text": [
      "Processing Record 1 of Set 1 | busselton\n",
      "Processing Record 2 of Set 1 | iranshahr\n",
      "Processing Record 3 of Set 1 | santa cruz\n",
      "Processing Record 4 of Set 1 | grand river south east\n",
      "City not found. Skipping...\n",
      "Processing Record 5 of Set 1 | saldanha\n",
      "Processing Record 6 of Set 1 | karakol\n",
      "Processing Record 7 of Set 1 | evensk\n",
      "Processing Record 8 of Set 1 | alofi\n",
      "Processing Record 9 of Set 1 | ribeira grande\n",
      "Processing Record 10 of Set 1 | rikitea\n",
      "Processing Record 11 of Set 1 | dikson\n",
      "Processing Record 12 of Set 1 | vermillion\n",
      "Processing Record 13 of Set 1 | arlit\n",
      "Processing Record 14 of Set 1 | atuona\n",
      "Processing Record 15 of Set 1 | belushya guba\n",
      "City not found. Skipping...\n",
      "Processing Record 16 of Set 1 | albany\n",
      "Processing Record 17 of Set 1 | anadyr\n",
      "Processing Record 18 of Set 1 | salinas\n",
      "Processing Record 19 of Set 1 | beira\n",
      "Processing Record 20 of Set 1 | cockburn harbour\n",
      "City not found. Skipping...\n",
      "Processing Record 21 of Set 1 | tuktoyaktuk\n",
      "Processing Record 22 of Set 1 | poum\n",
      "Processing Record 23 of Set 1 | paraopeba\n",
      "Processing Record 24 of Set 1 | banda aceh\n",
      "Processing Record 25 of Set 1 | castro\n",
      "Processing Record 26 of Set 1 | carnarvon\n",
      "Processing Record 27 of Set 1 | sumbawa\n",
      "City not found. Skipping...\n",
      "Processing Record 28 of Set 1 | galiwinku\n",
      "City not found. Skipping...\n",
      "Processing Record 29 of Set 1 | qandala\n",
      "Processing Record 30 of Set 1 | hami\n",
      "Processing Record 31 of Set 1 | nikolskoye\n",
      "Processing Record 32 of Set 1 | chokurdakh\n",
      "Processing Record 33 of Set 1 | ponta do sol\n",
      "Processing Record 34 of Set 1 | hermanus\n",
      "Processing Record 35 of Set 1 | petropavlovsk-kamchatskiy\n",
      "Processing Record 36 of Set 1 | kargasok\n",
      "Processing Record 37 of Set 1 | qaanaaq\n",
      "Processing Record 38 of Set 1 | illoqqortoormiut\n",
      "City not found. Skipping...\n",
      "Processing Record 39 of Set 1 | saint anthony\n",
      "Processing Record 40 of Set 1 | lagos\n",
      "Processing Record 41 of Set 1 | ust-nera\n",
      "Processing Record 42 of Set 1 | high level\n",
      "Processing Record 43 of Set 1 | jiwani\n",
      "Processing Record 44 of Set 1 | sidi ali\n",
      "Processing Record 45 of Set 1 | hilo\n",
      "Processing Record 46 of Set 1 | havelock\n",
      "Processing Record 47 of Set 1 | luderitz\n",
      "Processing Record 48 of Set 1 | georgetown\n",
      "Processing Record 49 of Set 1 | kapaa\n",
      "Processing Record 50 of Set 1 | saskylakh\n",
      "Processing Record 1 of Set 2 | mataura\n",
      "Processing Record 2 of Set 2 | lebu\n",
      "Processing Record 3 of Set 2 | narsaq\n",
      "Processing Record 4 of Set 2 | jamestown\n",
      "Processing Record 5 of Set 2 | pevek\n",
      "Processing Record 6 of Set 2 | ardahan\n",
      "Processing Record 7 of Set 2 | helong\n",
      "Processing Record 8 of Set 2 | isangel\n",
      "Processing Record 9 of Set 2 | tessalit\n",
      "Processing Record 10 of Set 2 | toftir\n",
      "City not found. Skipping...\n",
      "Processing Record 11 of Set 2 | bengkulu\n",
      "Processing Record 12 of Set 2 | saint george\n",
      "Processing Record 13 of Set 2 | richards bay\n",
      "Processing Record 14 of Set 2 | hobart\n",
      "Processing Record 15 of Set 2 | cotusca\n",
      "Processing Record 16 of Set 2 | tsihombe\n",
      "City not found. Skipping...\n",
      "Processing Record 17 of Set 2 | jalu\n",
      "Processing Record 18 of Set 2 | khash\n",
      "Processing Record 19 of Set 2 | ushuaia\n",
      "Processing Record 20 of Set 2 | yulara\n",
      "Processing Record 21 of Set 2 | arica\n",
      "Processing Record 22 of Set 2 | attawapiskat\n",
      "City not found. Skipping...\n",
      "Processing Record 23 of Set 2 | asyut\n",
      "Processing Record 24 of Set 2 | fare\n",
      "Processing Record 25 of Set 2 | christchurch\n",
      "Processing Record 26 of Set 2 | bambous virieux\n",
      "Processing Record 27 of Set 2 | torbay\n",
      "Processing Record 28 of Set 2 | te anau\n",
      "Processing Record 29 of Set 2 | sedelnikovo\n",
      "City not found. Skipping...\n",
      "Processing Record 30 of Set 2 | tucurui\n",
      "Processing Record 31 of Set 2 | mar del plata\n",
      "Processing Record 32 of Set 2 | kahului\n",
      "Processing Record 33 of Set 2 | talnakh\n",
      "Processing Record 34 of Set 2 | margate\n",
      "Processing Record 35 of Set 2 | olafsvik\n",
      "Processing Record 36 of Set 2 | kamenskoye\n",
      "City not found. Skipping...\n",
      "Processing Record 37 of Set 2 | leningradskiy\n",
      "Processing Record 38 of Set 2 | vestmannaeyjar\n",
      "Processing Record 39 of Set 2 | huaibei\n",
      "Processing Record 40 of Set 2 | port alfred\n",
      "Processing Record 41 of Set 2 | taolanaro\n",
      "City not found. Skipping...\n",
      "Processing Record 42 of Set 2 | kodiak\n",
      "Processing Record 43 of Set 2 | cape town\n",
      "Processing Record 44 of Set 2 | buchanan\n",
      "Processing Record 45 of Set 2 | norman wells\n",
      "Processing Record 46 of Set 2 | mount isa\n",
      "Processing Record 47 of Set 2 | omsukchan\n",
      "Processing Record 48 of Set 2 | hasaki\n",
      "Processing Record 49 of Set 2 | punta arenas\n",
      "Processing Record 50 of Set 2 | jumla\n",
      "Processing Record 1 of Set 3 | vaini\n",
      "Processing Record 2 of Set 3 | acapulco\n",
      "Processing Record 3 of Set 3 | brazzaville\n",
      "Processing Record 4 of Set 3 | general pico\n",
      "Processing Record 5 of Set 3 | chingirlau\n",
      "Processing Record 6 of Set 3 | bethel\n",
      "Processing Record 7 of Set 3 | fortuna\n",
      "Processing Record 8 of Set 3 | northam\n",
      "Processing Record 9 of Set 3 | tutoia\n",
      "Processing Record 10 of Set 3 | portland\n",
      "Processing Record 11 of Set 3 | bluff\n",
      "Processing Record 12 of Set 3 | cranbrook\n",
      "Processing Record 13 of Set 3 | mullaitivu\n",
      "City not found. Skipping...\n",
      "Processing Record 14 of Set 3 | bredasdorp\n",
      "Processing Record 15 of Set 3 | tilichiki\n",
      "Processing Record 16 of Set 3 | khatanga\n",
      "Processing Record 17 of Set 3 | chumikan\n",
      "Processing Record 18 of Set 3 | angoram\n",
      "Processing Record 19 of Set 3 | kanalia\n",
      "Processing Record 20 of Set 3 | adrar\n",
      "Processing Record 21 of Set 3 | camocim\n",
      "Processing Record 22 of Set 3 | ilulissat\n",
      "Processing Record 23 of Set 3 | tebingtinggi\n",
      "Processing Record 24 of Set 3 | acuna\n",
      "City not found. Skipping...\n",
      "Processing Record 25 of Set 3 | lavrentiya\n",
      "Processing Record 26 of Set 3 | vila velha\n",
      "Processing Record 27 of Set 3 | bar harbor\n",
      "Processing Record 28 of Set 3 | manado\n",
      "Processing Record 29 of Set 3 | yeppoon\n",
      "Processing Record 30 of Set 3 | vilhena\n",
      "Processing Record 31 of Set 3 | berezovyy\n",
      "Processing Record 32 of Set 3 | igarka\n",
      "Processing Record 33 of Set 3 | chifeng\n",
      "Processing Record 34 of Set 3 | ushtobe\n",
      "Processing Record 35 of Set 3 | quatre cocos\n",
      "Processing Record 36 of Set 3 | bayir\n",
      "Processing Record 37 of Set 3 | constitucion\n",
      "Processing Record 38 of Set 3 | nixa\n",
      "Processing Record 39 of Set 3 | longyearbyen\n",
      "Processing Record 40 of Set 3 | vaitupu\n",
      "City not found. Skipping...\n",
      "Processing Record 41 of Set 3 | hualmay\n",
      "Processing Record 42 of Set 3 | caravelas\n",
      "Processing Record 43 of Set 3 | smidovich\n",
      "Processing Record 44 of Set 3 | poltavka\n",
      "Processing Record 45 of Set 3 | aswan\n",
      "Processing Record 46 of Set 3 | sulangan\n",
      "Processing Record 47 of Set 3 | east london\n",
      "Processing Record 48 of Set 3 | hambantota\n",
      "Processing Record 49 of Set 3 | mehamn\n",
      "Processing Record 50 of Set 3 | puerto vallarta\n",
      "Processing Record 1 of Set 4 | haines junction\n",
      "Processing Record 2 of Set 4 | kismayo\n",
      "Processing Record 3 of Set 4 | butaritari\n",
      "Processing Record 4 of Set 4 | esfahan\n",
      "Processing Record 5 of Set 4 | port moresby\n",
      "Processing Record 6 of Set 4 | hithadhoo\n",
      "Processing Record 7 of Set 4 | xixiang\n",
      "Processing Record 8 of Set 4 | poya\n",
      "Processing Record 9 of Set 4 | hovd\n",
      "Processing Record 10 of Set 4 | tiksi\n",
      "Processing Record 11 of Set 4 | banjarmasin\n",
      "Processing Record 12 of Set 4 | harboore\n",
      "Processing Record 13 of Set 4 | sao joao da barra\n",
      "Processing Record 14 of Set 4 | port lincoln\n",
      "Processing Record 15 of Set 4 | port elizabeth\n",
      "Processing Record 16 of Set 4 | placetas\n",
      "Processing Record 17 of Set 4 | thompson\n",
      "Processing Record 18 of Set 4 | placido de castro\n",
      "Processing Record 19 of Set 4 | antequera\n",
      "Processing Record 20 of Set 4 | pocatello\n",
      "Processing Record 21 of Set 4 | thabazimbi\n",
      "Processing Record 22 of Set 4 | maba\n",
      "Processing Record 23 of Set 4 | price\n",
      "Processing Record 24 of Set 4 | saint-philippe\n",
      "Processing Record 25 of Set 4 | khormuj\n",
      "City not found. Skipping...\n",
      "Processing Record 26 of Set 4 | atasu\n",
      "Processing Record 27 of Set 4 | tuatapere\n",
      "Processing Record 28 of Set 4 | aykhal\n",
      "Processing Record 29 of Set 4 | tasiilaq\n",
      "Processing Record 30 of Set 4 | chalus\n",
      "Processing Record 31 of Set 4 | masasi\n",
      "Processing Record 32 of Set 4 | vila franca do campo\n",
      "Processing Record 33 of Set 4 | pavia\n",
      "Processing Record 34 of Set 4 | skalistyy\n",
      "City not found. Skipping...\n",
      "Processing Record 35 of Set 4 | aksarka\n",
      "Processing Record 36 of Set 4 | alvorada\n",
      "Processing Record 37 of Set 4 | tateyama\n"
     ]
    },
    {
     "name": "stdout",
     "output_type": "stream",
     "text": [
      "Processing Record 38 of Set 4 | coihaique\n",
      "Processing Record 39 of Set 4 | barrow\n",
      "Processing Record 40 of Set 4 | tautira\n",
      "Processing Record 41 of Set 4 | darapidap\n",
      "Processing Record 42 of Set 4 | ryotsu\n",
      "Processing Record 43 of Set 4 | tubuala\n",
      "Processing Record 44 of Set 4 | umzimvubu\n",
      "City not found. Skipping...\n",
      "Processing Record 45 of Set 4 | oktyabrskoye\n",
      "Processing Record 46 of Set 4 | cabo san lucas\n",
      "Processing Record 47 of Set 4 | chapleau\n",
      "Processing Record 48 of Set 4 | vestmanna\n",
      "Processing Record 49 of Set 4 | mahebourg\n",
      "Processing Record 50 of Set 4 | gao\n",
      "Processing Record 1 of Set 5 | hermiston\n",
      "Processing Record 2 of Set 5 | sao filipe\n",
      "Processing Record 3 of Set 5 | kuito\n",
      "Processing Record 4 of Set 5 | florence\n",
      "Processing Record 5 of Set 5 | terrasini\n",
      "Processing Record 6 of Set 5 | swakopmund\n",
      "Processing Record 7 of Set 5 | cherskiy\n",
      "Processing Record 8 of Set 5 | san patricio\n",
      "Processing Record 9 of Set 5 | beringovskiy\n",
      "Processing Record 10 of Set 5 | dingle\n",
      "Processing Record 11 of Set 5 | baykit\n",
      "Processing Record 12 of Set 5 | bismil\n",
      "Processing Record 13 of Set 5 | sentyabrskiy\n",
      "City not found. Skipping...\n",
      "Processing Record 14 of Set 5 | wanning\n",
      "Processing Record 15 of Set 5 | chapais\n",
      "Processing Record 16 of Set 5 | berlevag\n",
      "Processing Record 17 of Set 5 | nantucket\n",
      "Processing Record 18 of Set 5 | mahajanga\n",
      "Processing Record 19 of Set 5 | cabedelo\n",
      "Processing Record 20 of Set 5 | cayenne\n",
      "Processing Record 21 of Set 5 | hihifo\n",
      "City not found. Skipping...\n",
      "Processing Record 22 of Set 5 | ponta delgada\n",
      "Processing Record 23 of Set 5 | puerto ayora\n",
      "Processing Record 24 of Set 5 | kavieng\n",
      "Processing Record 25 of Set 5 | avarua\n",
      "Processing Record 26 of Set 5 | carrefour\n",
      "Processing Record 27 of Set 5 | san ramon\n",
      "Processing Record 28 of Set 5 | vao\n",
      "Processing Record 29 of Set 5 | esperance\n",
      "Processing Record 30 of Set 5 | ostrovnoy\n",
      "Processing Record 31 of Set 5 | taoudenni\n",
      "Processing Record 32 of Set 5 | saint-francois\n",
      "Processing Record 33 of Set 5 | ferrol\n",
      "Processing Record 34 of Set 5 | hailar\n",
      "Processing Record 35 of Set 5 | taltal\n",
      "Processing Record 36 of Set 5 | matara\n",
      "Processing Record 37 of Set 5 | sindor\n",
      "Processing Record 38 of Set 5 | san andres\n",
      "Processing Record 39 of Set 5 | lompoc\n",
      "Processing Record 40 of Set 5 | arraial do cabo\n",
      "Processing Record 41 of Set 5 | cravo norte\n",
      "Processing Record 42 of Set 5 | koeru\n",
      "Processing Record 43 of Set 5 | ekimchan\n",
      "Processing Record 44 of Set 5 | le port\n",
      "Processing Record 45 of Set 5 | ambon\n",
      "Processing Record 46 of Set 5 | ketchikan\n",
      "Processing Record 47 of Set 5 | tokmak\n",
      "Processing Record 48 of Set 5 | lom sak\n",
      "Processing Record 49 of Set 5 | chuy\n",
      "Processing Record 50 of Set 5 | upernavik\n",
      "Processing Record 1 of Set 6 | casablanca\n",
      "Processing Record 2 of Set 6 | yellowknife\n",
      "Processing Record 3 of Set 6 | oktyabrskiy\n",
      "Processing Record 4 of Set 6 | gangotri\n",
      "City not found. Skipping...\n",
      "Processing Record 5 of Set 6 | colonelganj\n",
      "Processing Record 6 of Set 6 | potosi\n",
      "Processing Record 7 of Set 6 | ayan\n",
      "Processing Record 8 of Set 6 | scottsburgh\n",
      "City not found. Skipping...\n",
      "Processing Record 9 of Set 6 | saryshagan\n",
      "City not found. Skipping...\n",
      "Processing Record 10 of Set 6 | corinto\n",
      "Processing Record 11 of Set 6 | praya\n",
      "Processing Record 12 of Set 6 | viedma\n",
      "Processing Record 13 of Set 6 | cascais\n",
      "Processing Record 14 of Set 6 | csenger\n",
      "Processing Record 15 of Set 6 | amderma\n",
      "City not found. Skipping...\n",
      "Processing Record 16 of Set 6 | kruisfontein\n",
      "Processing Record 17 of Set 6 | bilma\n",
      "Processing Record 18 of Set 6 | nanortalik\n",
      "Processing Record 19 of Set 6 | mayumba\n",
      "Processing Record 20 of Set 6 | toliary\n",
      "City not found. Skipping...\n",
      "Processing Record 21 of Set 6 | russell\n",
      "Processing Record 22 of Set 6 | asfi\n",
      "Processing Record 23 of Set 6 | hamilton\n",
      "Processing Record 24 of Set 6 | buckeye\n",
      "Processing Record 25 of Set 6 | gamba\n",
      "Processing Record 26 of Set 6 | zeya\n",
      "Processing Record 27 of Set 6 | timizart\n",
      "Processing Record 28 of Set 6 | ola\n",
      "Processing Record 29 of Set 6 | tambo grande\n",
      "Processing Record 30 of Set 6 | aqtobe\n",
      "Processing Record 31 of Set 6 | provideniya\n",
      "Processing Record 32 of Set 6 | matehuala\n",
      "Processing Record 33 of Set 6 | sumenep\n",
      "Processing Record 34 of Set 6 | godinesti\n",
      "Processing Record 35 of Set 6 | new norfolk\n",
      "Processing Record 36 of Set 6 | dovolnoye\n",
      "Processing Record 37 of Set 6 | sulina\n",
      "Processing Record 38 of Set 6 | kaeo\n",
      "Processing Record 39 of Set 6 | doctor pedro p. pena\n",
      "City not found. Skipping...\n",
      "Processing Record 40 of Set 6 | gairo\n",
      "Processing Record 41 of Set 6 | guntakal\n",
      "Processing Record 42 of Set 6 | sigayevo\n",
      "Processing Record 43 of Set 6 | pandan\n",
      "Processing Record 44 of Set 6 | vostok\n",
      "Processing Record 45 of Set 6 | vitim\n",
      "Processing Record 46 of Set 6 | tashtagol\n",
      "Processing Record 47 of Set 6 | tulsipur\n",
      "Processing Record 48 of Set 6 | kushiro\n",
      "Processing Record 49 of Set 6 | tigil\n",
      "Processing Record 50 of Set 6 | nishihara\n",
      "Processing Record 1 of Set 7 | vila\n",
      "Processing Record 2 of Set 7 | namibe\n",
      "Processing Record 3 of Set 7 | oil city\n",
      "Processing Record 4 of Set 7 | osterholz-scharmbeck\n",
      "Processing Record 5 of Set 7 | baruun-urt\n",
      "Processing Record 6 of Set 7 | san cristobal\n",
      "Processing Record 7 of Set 7 | barentsburg\n",
      "City not found. Skipping...\n",
      "Processing Record 8 of Set 7 | samarai\n",
      "Processing Record 9 of Set 7 | tiarei\n",
      "Processing Record 10 of Set 7 | axim\n",
      "Processing Record 11 of Set 7 | asau\n",
      "Processing Record 12 of Set 7 | louisbourg\n",
      "City not found. Skipping...\n",
      "Processing Record 13 of Set 7 | galgani\n",
      "City not found. Skipping...\n",
      "Processing Record 14 of Set 7 | klaksvik\n",
      "Processing Record 15 of Set 7 | kumano\n",
      "Processing Record 16 of Set 7 | bardiyah\n",
      "Processing Record 17 of Set 7 | piacabucu\n",
      "Processing Record 18 of Set 7 | riihimaki\n",
      "Processing Record 19 of Set 7 | bermeo\n",
      "Processing Record 20 of Set 7 | airai\n",
      "Processing Record 21 of Set 7 | pombia\n",
      "Processing Record 22 of Set 7 | skagastrond\n",
      "City not found. Skipping...\n",
      "Processing Record 23 of Set 7 | nizhneyansk\n",
      "City not found. Skipping...\n",
      "Processing Record 24 of Set 7 | cocobeach\n",
      "Processing Record 25 of Set 7 | luwuk\n",
      "Processing Record 26 of Set 7 | mackenzie\n",
      "Processing Record 27 of Set 7 | lasa\n",
      "Processing Record 28 of Set 7 | pacifica\n",
      "Processing Record 29 of Set 7 | tallahassee\n",
      "Processing Record 30 of Set 7 | khasan\n",
      "Processing Record 31 of Set 7 | katsuura\n",
      "Processing Record 32 of Set 7 | maneadero\n",
      "Processing Record 33 of Set 7 | tenenkou\n",
      "Processing Record 34 of Set 7 | los llanos de aridane\n",
      "Processing Record 35 of Set 7 | mairwa\n",
      "Processing Record 36 of Set 7 | kyra\n",
      "Processing Record 37 of Set 7 | miles city\n",
      "Processing Record 38 of Set 7 | mys shmidta\n",
      "City not found. Skipping...\n",
      "Processing Record 39 of Set 7 | mandalgovi\n",
      "Processing Record 40 of Set 7 | krasnoselkup\n",
      "Processing Record 41 of Set 7 | severo-kurilsk\n",
      "Processing Record 42 of Set 7 | sosua\n",
      "Processing Record 43 of Set 7 | bilibino\n",
      "Processing Record 44 of Set 7 | alghero\n",
      "Processing Record 45 of Set 7 | srednekolymsk\n",
      "Processing Record 46 of Set 7 | bokspits\n",
      "City not found. Skipping...\n",
      "Processing Record 47 of Set 7 | port-gentil\n",
      "Processing Record 48 of Set 7 | talaya\n",
      "Processing Record 49 of Set 7 | port macquarie\n",
      "Processing Record 50 of Set 7 | canete\n",
      "Processing Record 1 of Set 8 | les cayes\n",
      "Processing Record 2 of Set 8 | thinadhoo\n",
      "Processing Record 3 of Set 8 | atambua\n",
      "Processing Record 4 of Set 8 | letka\n",
      "Processing Record 5 of Set 8 | hay river\n",
      "Processing Record 6 of Set 8 | trofors\n",
      "Processing Record 7 of Set 8 | pahrump\n",
      "Processing Record 8 of Set 8 | kloulklubed\n",
      "Processing Record 9 of Set 8 | mayor pablo lagerenza\n",
      "Processing Record 10 of Set 8 | hirara\n",
      "Processing Record 11 of Set 8 | pokhara\n",
      "Processing Record 12 of Set 8 | canmore\n",
      "Processing Record 13 of Set 8 | kochkurovo\n",
      "Processing Record 14 of Set 8 | comodoro rivadavia\n",
      "Processing Record 15 of Set 8 | assomada\n",
      "Processing Record 16 of Set 8 | port blair\n",
      "Processing Record 17 of Set 8 | kavaratti\n",
      "Processing Record 18 of Set 8 | kiunga\n",
      "Processing Record 19 of Set 8 | solwezi\n",
      "Processing Record 20 of Set 8 | urucara\n",
      "Processing Record 21 of Set 8 | leshukonskoye\n",
      "Processing Record 22 of Set 8 | romny\n",
      "Processing Record 23 of Set 8 | alpatovo\n",
      "Processing Record 24 of Set 8 | harper\n",
      "Processing Record 25 of Set 8 | pangody\n",
      "Processing Record 26 of Set 8 | texistepeque\n",
      "Processing Record 27 of Set 8 | lata\n"
     ]
    },
    {
     "name": "stdout",
     "output_type": "stream",
     "text": [
      "Processing Record 28 of Set 8 | kalevala\n",
      "Processing Record 29 of Set 8 | pennadam\n",
      "Processing Record 30 of Set 8 | zilupe\n",
      "Processing Record 31 of Set 8 | kaitangata\n",
      "Processing Record 32 of Set 8 | bonoua\n",
      "Processing Record 33 of Set 8 | puro\n",
      "Processing Record 34 of Set 8 | slave lake\n",
      "Processing Record 35 of Set 8 | moengo\n",
      "Processing Record 36 of Set 8 | parana\n",
      "Processing Record 37 of Set 8 | meadow lake\n",
      "Processing Record 38 of Set 8 | joshimath\n",
      "Processing Record 39 of Set 8 | pangai\n",
      "Processing Record 40 of Set 8 | klyuchi\n",
      "Processing Record 41 of Set 8 | sao sebastiao\n",
      "Processing Record 42 of Set 8 | yunyang\n",
      "Processing Record 43 of Set 8 | polunochnoye\n",
      "Processing Record 44 of Set 8 | saint-georges\n",
      "Processing Record 45 of Set 8 | aragarcas\n",
      "Processing Record 46 of Set 8 | ahipara\n",
      "Processing Record 47 of Set 8 | ostersund\n",
      "Processing Record 48 of Set 8 | pisco\n",
      "Processing Record 49 of Set 8 | fort walton beach\n",
      "Processing Record 50 of Set 8 | keti bandar\n",
      "Processing Record 1 of Set 9 | fort nelson\n",
      "Processing Record 2 of Set 9 | malacacheta\n"
     ]
    }
   ],
   "source": [
    "# Loop through all the cities in the list.\n",
    "for i, city in enumerate(cities):\n",
    "\n",
    "    # Group cities in sets of 50 for logging purposes.\n",
    "    if (i % 50 == 0 and i >= 50):\n",
    "        set_count += 1\n",
    "        record_count = 1\n",
    "    # Create endpoint URL with each city.\n",
    "    city_url = url + \"&q=\" + city.replace(\" \",\"+\")\n",
    "\n",
    "    # Log the URL, record, and set numbers and the city.\n",
    "    print(f\"Processing Record {record_count} of Set {set_count} | {city}\")\n",
    "    # Add 1 to the record count.\n",
    "    record_count += 1\n",
    "# Run an API request for each of the cities.\n",
    "    try:\n",
    "        # Parse the JSON and retrieve data.\n",
    "        city_weather = requests.get(city_url).json()\n",
    "        # Parse out the needed data.\n",
    "        city_lat = city_weather[\"coord\"][\"lat\"]\n",
    "        city_lng = city_weather[\"coord\"][\"lon\"]\n",
    "        city_max_temp = city_weather[\"main\"][\"temp_max\"]\n",
    "        city_humidity = city_weather[\"main\"][\"humidity\"]\n",
    "        city_clouds = city_weather[\"clouds\"][\"all\"]\n",
    "        city_wind = city_weather[\"wind\"][\"speed\"]\n",
    "        city_country = city_weather[\"sys\"][\"country\"]\n",
    "        city_description = city_weather[\"weather\"][0][\"description\"]\n",
    "        \n",
    "        # Convert the date to ISO standard.\n",
    "        city_date = datetime.utcfromtimestamp(city_weather[\"dt\"]).strftime('%Y-%m-%d %H:%M:%S')\n",
    "        # Append the city information into city_data list.\n",
    "        city_data.append({\"City\": city.title(),\n",
    "                          \"Lat\": city_lat,\n",
    "                          \"Lng\": city_lng,\n",
    "                          \"Max Temp\": city_max_temp,\n",
    "                          \"Humidity\": city_humidity,\n",
    "                          \"Cloudiness\": city_clouds,\n",
    "                          \"Wind Speed\": city_wind,\n",
    "                          \"Country\": city_country,\n",
    "                          \"Description\": city_description})\n",
    "\n",
    "# If an error is experienced, skip the city.\n",
    "    except:\n",
    "        print(\"City not found. Skipping...\")\n",
    "        pass\n",
    "\n",
    "# Indicate that Data Loading is complete.\n",
    "print(\"-----------------------------\")\n",
    "print(\"Data Retrieval Complete      \")\n",
    "print(\"-----------------------------\")\n"
   ]
  },
  {
   "cell_type": "code",
   "execution_count": null,
   "metadata": {},
   "outputs": [],
   "source": [
    "# Create the output file (CSV).\n",
    "output_data_file = \"weather_data/cities.csv\"\n",
    "# Export the City_Data into a CSV.\n",
    "city_data_df.to_csv(output_data_file, index_label=\"City_ID\")"
   ]
  },
  {
   "cell_type": "code",
   "execution_count": null,
   "metadata": {},
   "outputs": [],
   "source": [
    "# Convert the array of dictionaries to a Pandas DataFrame.\n",
    "city_data_df = pd.DataFrame(city_data)\n",
    "city_data_df.head(10)"
   ]
  },
  {
   "cell_type": "code",
   "execution_count": null,
   "metadata": {},
   "outputs": [],
   "source": [
    "# Create the output file (CSV).\n",
    "output_data_file = \"weather_data/cities.csv\"\n",
    "# Export the City_Data into a CSV.\n",
    "city_data_df.to_csv(output_data_file, index_label=\"City_ID\")"
   ]
  },
  {
   "cell_type": "code",
   "execution_count": null,
   "metadata": {},
   "outputs": [],
   "source": [
    "#reorder columns \n",
    "#new_column_order = [\"City\", \"Country\", \"Lat\", \"Lng\", \"Max Temp\", \"Humidity\", \"Cloudiness\", \"Wind Speed\", \"Description\"]\n",
    "\n",
    "#city_data_df = city_data_df[new_column_order]\n",
    "#city_data_df"
   ]
  },
  {
   "cell_type": "code",
   "execution_count": null,
   "metadata": {},
   "outputs": [],
   "source": []
  }
 ],
 "metadata": {
  "kernelspec": {
   "display_name": "PythonData",
   "language": "python",
   "name": "pythondata"
  },
  "language_info": {
   "codemirror_mode": {
    "name": "ipython",
    "version": 3
   },
   "file_extension": ".py",
   "mimetype": "text/x-python",
   "name": "python",
   "nbconvert_exporter": "python",
   "pygments_lexer": "ipython3",
   "version": "3.7.9"
  }
 },
 "nbformat": 4,
 "nbformat_minor": 4
}
