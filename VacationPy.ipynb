{
 "cells": [
  {
   "cell_type": "code",
   "execution_count": 1,
   "metadata": {},
   "outputs": [],
   "source": [
    "# import the dependencies \n",
    "import pandas as pd \n",
    "import matplotlib.pyplot as plt \n",
    "import numpy as np "
   ]
  },
  {
   "cell_type": "code",
   "execution_count": 2,
   "metadata": {},
   "outputs": [
    {
     "data": {
      "text/plain": [
       "<zip at 0x2682ded1748>"
      ]
     },
     "execution_count": 2,
     "metadata": {},
     "output_type": "execute_result"
    }
   ],
   "source": [
    "# Create a set of random latitude and longitude combinations.\n",
    "lats = np.random.uniform(low=-90.000, high=90.000, size=1500)\n",
    "lngs = np.random.uniform(low=-180.000, high=180.000, size=1500)\n",
    "lat_lngs = zip(lats, lngs)\n",
    "lat_lngs"
   ]
  },
  {
   "cell_type": "code",
   "execution_count": 3,
   "metadata": {},
   "outputs": [],
   "source": [
    "# Add the latitudes and longitudes to a list.\n",
    "coordinates = list(lat_lngs)"
   ]
  },
  {
   "cell_type": "code",
   "execution_count": 4,
   "metadata": {},
   "outputs": [],
   "source": [
    "# Use the citipy module to determine city based on latitude and longitude.\n",
    "from citipy import citipy"
   ]
  },
  {
   "cell_type": "code",
   "execution_count": 5,
   "metadata": {},
   "outputs": [
    {
     "data": {
      "text/plain": [
       "592"
      ]
     },
     "execution_count": 5,
     "metadata": {},
     "output_type": "execute_result"
    }
   ],
   "source": [
    "# Create a list for holding the cities.\n",
    "cities = []\n",
    "# Identify the nearest city for each latitude and longitude combination.\n",
    "for coordinate in coordinates:\n",
    "    city = citipy.nearest_city(coordinate[0], coordinate[1]).city_name\n",
    "\n",
    "    # If the city is unique, then we will add it to the cities list.\n",
    "    if city not in cities:\n",
    "        cities.append(city)\n",
    "# Print the city count to confirm sufficient count.\n",
    "len(cities)"
   ]
  },
  {
   "cell_type": "code",
   "execution_count": 6,
   "metadata": {},
   "outputs": [],
   "source": [
    "import requests \n",
    "from config import weather_api_key"
   ]
  },
  {
   "cell_type": "code",
   "execution_count": 7,
   "metadata": {},
   "outputs": [
    {
     "name": "stdout",
     "output_type": "stream",
     "text": [
      "http://api.openweathermap.org/data/2.5/weather?units=Imperial&APPID=a77414ceb13dc7b7f8781106de8688af\n"
     ]
    }
   ],
   "source": [
    "# Starting URL for Weather Map API Call.\n",
    "url = \"http://api.openweathermap.org/data/2.5/weather?units=Imperial&APPID=\" + weather_api_key\n",
    "print(url)"
   ]
  },
  {
   "cell_type": "code",
   "execution_count": 8,
   "metadata": {},
   "outputs": [
    {
     "name": "stdout",
     "output_type": "stream",
     "text": [
      "http://api.openweathermap.org/data/2.5/weather?units=Imperial&APPID=a77414ceb13dc7b7f8781106de8688af&q=Boston\n"
     ]
    }
   ],
   "source": [
    "# Create an endpoint URL for a city.\n",
    "city_url = url + \"&q=\" + \"Boston\"\n",
    "print(city_url)"
   ]
  },
  {
   "cell_type": "code",
   "execution_count": 9,
   "metadata": {},
   "outputs": [
    {
     "data": {
      "text/plain": [
       "<Response [200]>"
      ]
     },
     "execution_count": 9,
     "metadata": {},
     "output_type": "execute_result"
    }
   ],
   "source": [
    "# Make a 'Get' request for the city weather.\n",
    "city_weather = requests.get(city_url)\n",
    "city_weather"
   ]
  },
  {
   "cell_type": "code",
   "execution_count": 10,
   "metadata": {},
   "outputs": [
    {
     "data": {
      "text/plain": [
       "<Response [404]>"
      ]
     },
     "execution_count": 10,
     "metadata": {},
     "output_type": "execute_result"
    }
   ],
   "source": [
    "# Create an endpoint URL for a city.\n",
    "city_url = url + \"&q=\" + \"Bston\"\n",
    "city_weather = requests.get(city_url)\n",
    "city_weather"
   ]
  },
  {
   "cell_type": "code",
   "execution_count": 11,
   "metadata": {},
   "outputs": [
    {
     "data": {
      "text/plain": [
       "<Response [200]>"
      ]
     },
     "execution_count": 11,
     "metadata": {},
     "output_type": "execute_result"
    }
   ],
   "source": [
    "# Create an endpoint URL for a city.\n",
    "city_url = url + \"&q=\" + \"Boston\"\n",
    "city_weather = requests.get(city_url)\n",
    "city_weather"
   ]
  },
  {
   "cell_type": "code",
   "execution_count": 12,
   "metadata": {},
   "outputs": [
    {
     "data": {
      "text/plain": [
       "'{\"coord\":{\"lon\":-71.0598,\"lat\":42.3584},\"weather\":[{\"id\":804,\"main\":\"Clouds\",\"description\":\"overcast clouds\",\"icon\":\"04n\"}],\"base\":\"stations\",\"main\":{\"temp\":33.51,\"feels_like\":24.26,\"temp_min\":30.99,\"temp_max\":36,\"pressure\":1022,\"humidity\":48},\"visibility\":10000,\"wind\":{\"speed\":6.91,\"deg\":220},\"clouds\":{\"all\":90},\"dt\":1610405722,\"sys\":{\"type\":1,\"id\":3486,\"country\":\"US\",\"sunrise\":1610367130,\"sunset\":1610400717},\"timezone\":-18000,\"id\":4930956,\"name\":\"Boston\",\"cod\":200}'"
      ]
     },
     "execution_count": 12,
     "metadata": {},
     "output_type": "execute_result"
    }
   ],
   "source": [
    "# Get the text of the 'Get' request.\n",
    "city_weather.text"
   ]
  },
  {
   "cell_type": "code",
   "execution_count": 13,
   "metadata": {},
   "outputs": [
    {
     "data": {
      "text/plain": [
       "{'coord': {'lon': -71.0598, 'lat': 42.3584},\n",
       " 'weather': [{'id': 804,\n",
       "   'main': 'Clouds',\n",
       "   'description': 'overcast clouds',\n",
       "   'icon': '04n'}],\n",
       " 'base': 'stations',\n",
       " 'main': {'temp': 33.51,\n",
       "  'feels_like': 24.26,\n",
       "  'temp_min': 30.99,\n",
       "  'temp_max': 36,\n",
       "  'pressure': 1022,\n",
       "  'humidity': 48},\n",
       " 'visibility': 10000,\n",
       " 'wind': {'speed': 6.91, 'deg': 220},\n",
       " 'clouds': {'all': 90},\n",
       " 'dt': 1610405722,\n",
       " 'sys': {'type': 1,\n",
       "  'id': 3486,\n",
       "  'country': 'US',\n",
       "  'sunrise': 1610367130,\n",
       "  'sunset': 1610400717},\n",
       " 'timezone': -18000,\n",
       " 'id': 4930956,\n",
       " 'name': 'Boston',\n",
       " 'cod': 200}"
      ]
     },
     "execution_count": 13,
     "metadata": {},
     "output_type": "execute_result"
    }
   ],
   "source": [
    "# Get the JSON text of the 'Get' request.\n",
    "city_weather.json()"
   ]
  },
  {
   "cell_type": "code",
   "execution_count": 14,
   "metadata": {},
   "outputs": [
    {
     "name": "stdout",
     "output_type": "stream",
     "text": [
      "City Weather found.\n"
     ]
    }
   ],
   "source": [
    "# Create an endpoint URL for a city.\n",
    "city_url = url + \"&q=\" + \"Boston\"\n",
    "city_weather = requests.get(city_url)\n",
    "if city_weather.status_code == 200:\n",
    "    print(f\"City Weather found.\")\n",
    "else:\n",
    "    print(f\"City weather not found.\")"
   ]
  },
  {
   "cell_type": "code",
   "execution_count": 15,
   "metadata": {},
   "outputs": [
    {
     "name": "stdout",
     "output_type": "stream",
     "text": [
      "City Weather found.\n"
     ]
    }
   ],
   "source": [
    "# Create an endpoint URL for a city.\n",
    "city_url = url + \"&q=\" + \"Boston\"\n",
    "city_weather = requests.get(city_url)\n",
    "if city_weather.json():\n",
    "    print(f\"City Weather found.\")\n",
    "else:\n",
    "    print(f\"City weather not found.\")"
   ]
  },
  {
   "cell_type": "code",
   "execution_count": 16,
   "metadata": {},
   "outputs": [
    {
     "name": "stdout",
     "output_type": "stream",
     "text": [
      "http://api.openweathermap.org/data/2.5/weather?units=Imperial&APPID=a77414ceb13dc7b7f8781106de8688af&q=Boston\n"
     ]
    }
   ],
   "source": [
    "print(city_url)"
   ]
  },
  {
   "cell_type": "code",
   "execution_count": 17,
   "metadata": {},
   "outputs": [
    {
     "data": {
      "text/plain": [
       "{'coord': {'lon': -71.0598, 'lat': 42.3584},\n",
       " 'weather': [{'id': 804,\n",
       "   'main': 'Clouds',\n",
       "   'description': 'overcast clouds',\n",
       "   'icon': '04n'}],\n",
       " 'base': 'stations',\n",
       " 'main': {'temp': 33.51,\n",
       "  'feels_like': 24.26,\n",
       "  'temp_min': 30.99,\n",
       "  'temp_max': 36,\n",
       "  'pressure': 1022,\n",
       "  'humidity': 48},\n",
       " 'visibility': 10000,\n",
       " 'wind': {'speed': 6.91, 'deg': 220},\n",
       " 'clouds': {'all': 90},\n",
       " 'dt': 1610405722,\n",
       " 'sys': {'type': 1,\n",
       "  'id': 3486,\n",
       "  'country': 'US',\n",
       "  'sunrise': 1610367130,\n",
       "  'sunset': 1610400717},\n",
       " 'timezone': -18000,\n",
       " 'id': 4930956,\n",
       " 'name': 'Boston',\n",
       " 'cod': 200}"
      ]
     },
     "execution_count": 17,
     "metadata": {},
     "output_type": "execute_result"
    }
   ],
   "source": [
    "# Create an endpoint URL for a city.\n",
    "city_url = url + \"&q=\" + \"Boston\"\n",
    "city_weather = requests.get(city_url)\n",
    "city_weather.json()"
   ]
  },
  {
   "cell_type": "code",
   "execution_count": 18,
   "metadata": {},
   "outputs": [],
   "source": [
    "# Get the JSON data.\n",
    "boston_data = city_weather.json()"
   ]
  },
  {
   "cell_type": "code",
   "execution_count": 19,
   "metadata": {},
   "outputs": [
    {
     "data": {
      "text/plain": [
       "{'type': 1,\n",
       " 'id': 3486,\n",
       " 'country': 'US',\n",
       " 'sunrise': 1610367130,\n",
       " 'sunset': 1610400717}"
      ]
     },
     "execution_count": 19,
     "metadata": {},
     "output_type": "execute_result"
    }
   ],
   "source": [
    "boston_data[\"sys\"]"
   ]
  },
  {
   "cell_type": "code",
   "execution_count": 20,
   "metadata": {},
   "outputs": [
    {
     "data": {
      "text/plain": [
       "'US'"
      ]
     },
     "execution_count": 20,
     "metadata": {},
     "output_type": "execute_result"
    }
   ],
   "source": [
    "boston_data[\"sys\"][\"country\"]"
   ]
  },
  {
   "cell_type": "code",
   "execution_count": 21,
   "metadata": {},
   "outputs": [
    {
     "data": {
      "text/plain": [
       "1610405722"
      ]
     },
     "execution_count": 21,
     "metadata": {},
     "output_type": "execute_result"
    }
   ],
   "source": [
    "boston_data[\"dt\"]"
   ]
  },
  {
   "cell_type": "code",
   "execution_count": 22,
   "metadata": {},
   "outputs": [
    {
     "name": "stdout",
     "output_type": "stream",
     "text": [
      "42.3584 -71.0598 36 48 90 6.91\n"
     ]
    }
   ],
   "source": [
    "lat = boston_data[\"coord\"][\"lat\"]\n",
    "lng = boston_data[\"coord\"][\"lon\"]\n",
    "max_temp = boston_data[\"main\"][\"temp_max\"]\n",
    "humidity = boston_data[\"main\"][\"humidity\"]\n",
    "clouds = boston_data[\"clouds\"][\"all\"]\n",
    "wind = boston_data[\"wind\"][\"speed\"]\n",
    "print(lat, lng, max_temp, humidity, clouds, wind)"
   ]
  },
  {
   "cell_type": "code",
   "execution_count": 23,
   "metadata": {},
   "outputs": [
    {
     "data": {
      "text/plain": [
       "'2021-01-11 22:55:22'"
      ]
     },
     "execution_count": 23,
     "metadata": {},
     "output_type": "execute_result"
    }
   ],
   "source": [
    "# Import the datetime module from the datetime library.\n",
    "from datetime import datetime\n",
    "# Get the date from the JSON file.\n",
    "date = boston_data[\"dt\"]\n",
    "# Convert the UTC date to a date format with year, month, day, hours, minutes, and seconds.\n",
    "datetime.utcfromtimestamp(date).strftime('%Y-%m-%d %H:%M:%S')"
   ]
  },
  {
   "cell_type": "code",
   "execution_count": 24,
   "metadata": {},
   "outputs": [
    {
     "name": "stdout",
     "output_type": "stream",
     "text": [
      "Beginning Data Retrieval     \n",
      "-----------------------------\n"
     ]
    }
   ],
   "source": [
    "\n",
    "# Create an empty list to hold the weather data.\n",
    "city_data = []\n",
    "# Print the beginning of the logging.\n",
    "print(\"Beginning Data Retrieval     \")\n",
    "print(\"-----------------------------\")\n",
    "\n",
    "# Create counters.\n",
    "record_count = 1\n",
    "set_count = 1"
   ]
  },
  {
   "cell_type": "code",
   "execution_count": 25,
   "metadata": {},
   "outputs": [
    {
     "name": "stdout",
     "output_type": "stream",
     "text": [
      "Processing Record 1 of Set 1 | samarai\n",
      "Processing Record 2 of Set 1 | pevek\n",
      "Processing Record 3 of Set 1 | iqaluit\n",
      "Processing Record 4 of Set 1 | tilichiki\n",
      "Processing Record 5 of Set 1 | tyup\n",
      "Processing Record 6 of Set 1 | cherskiy\n",
      "Processing Record 7 of Set 1 | bredasdorp\n",
      "Processing Record 8 of Set 1 | matagami\n",
      "Processing Record 9 of Set 1 | bud\n",
      "Processing Record 10 of Set 1 | atuona\n",
      "Processing Record 11 of Set 1 | punta arenas\n",
      "Processing Record 12 of Set 1 | ryotsu\n",
      "Processing Record 13 of Set 1 | agapovka\n",
      "Processing Record 14 of Set 1 | sakakah\n",
      "Processing Record 15 of Set 1 | maldonado\n",
      "Processing Record 16 of Set 1 | husavik\n",
      "Processing Record 17 of Set 1 | olafsvik\n",
      "Processing Record 18 of Set 1 | hermanus\n",
      "Processing Record 19 of Set 1 | busselton\n",
      "Processing Record 20 of Set 1 | ushuaia\n",
      "Processing Record 21 of Set 1 | mount isa\n",
      "Processing Record 22 of Set 1 | ponta do sol\n",
      "Processing Record 23 of Set 1 | port lincoln\n",
      "Processing Record 24 of Set 1 | faanui\n",
      "Processing Record 25 of Set 1 | alekseyevsk\n",
      "Processing Record 26 of Set 1 | kastamonu\n",
      "Processing Record 27 of Set 1 | luderitz\n",
      "Processing Record 28 of Set 1 | marawi\n",
      "Processing Record 29 of Set 1 | saint-philippe\n",
      "Processing Record 30 of Set 1 | clyde river\n",
      "Processing Record 31 of Set 1 | mataura\n",
      "Processing Record 32 of Set 1 | veraval\n",
      "Processing Record 33 of Set 1 | verkhnyaya inta\n",
      "Processing Record 34 of Set 1 | richards bay\n",
      "Processing Record 35 of Set 1 | shanghai\n",
      "Processing Record 36 of Set 1 | pag\n",
      "Processing Record 37 of Set 1 | sentyabrskiy\n",
      "City not found. Skipping...\n",
      "Processing Record 38 of Set 1 | port elizabeth\n",
      "Processing Record 39 of Set 1 | tsihombe\n",
      "City not found. Skipping...\n",
      "Processing Record 40 of Set 1 | saskylakh\n",
      "Processing Record 41 of Set 1 | vestmannaeyjar\n",
      "Processing Record 42 of Set 1 | souillac\n",
      "Processing Record 43 of Set 1 | hobyo\n",
      "Processing Record 44 of Set 1 | sinjar\n",
      "Processing Record 45 of Set 1 | taganak\n",
      "Processing Record 46 of Set 1 | marsh harbour\n",
      "Processing Record 47 of Set 1 | san ramon\n",
      "Processing Record 48 of Set 1 | new norfolk\n",
      "Processing Record 49 of Set 1 | san patricio\n",
      "Processing Record 50 of Set 1 | cockburn town\n",
      "Processing Record 1 of Set 2 | kahului\n",
      "Processing Record 2 of Set 2 | upernavik\n",
      "Processing Record 3 of Set 2 | moose factory\n",
      "Processing Record 4 of Set 2 | barrow\n",
      "Processing Record 5 of Set 2 | anadyr\n",
      "Processing Record 6 of Set 2 | tasiilaq\n",
      "Processing Record 7 of Set 2 | puerto ayacucho\n",
      "Processing Record 8 of Set 2 | rikitea\n",
      "Processing Record 9 of Set 2 | puerto colombia\n",
      "Processing Record 10 of Set 2 | danane\n",
      "Processing Record 11 of Set 2 | hilo\n",
      "Processing Record 12 of Set 2 | san policarpo\n",
      "Processing Record 13 of Set 2 | guerrero negro\n",
      "Processing Record 14 of Set 2 | barranca\n",
      "Processing Record 15 of Set 2 | butaritari\n",
      "Processing Record 16 of Set 2 | hihifo\n",
      "City not found. Skipping...\n",
      "Processing Record 17 of Set 2 | aklavik\n",
      "Processing Record 18 of Set 2 | stantsiya gorchakovo\n",
      "City not found. Skipping...\n",
      "Processing Record 19 of Set 2 | severo-kurilsk\n",
      "Processing Record 20 of Set 2 | dwarka\n",
      "Processing Record 21 of Set 2 | jamestown\n",
      "Processing Record 22 of Set 2 | yellowknife\n",
      "Processing Record 23 of Set 2 | ribeira grande\n",
      "Processing Record 24 of Set 2 | grand river south east\n",
      "City not found. Skipping...\n",
      "Processing Record 25 of Set 2 | avarua\n",
      "Processing Record 26 of Set 2 | bluff\n",
      "Processing Record 27 of Set 2 | carnarvon\n",
      "Processing Record 28 of Set 2 | odda\n",
      "Processing Record 29 of Set 2 | daru\n",
      "Processing Record 30 of Set 2 | cabo san lucas\n",
      "Processing Record 31 of Set 2 | cape town\n",
      "Processing Record 32 of Set 2 | shimoda\n",
      "Processing Record 33 of Set 2 | tumannyy\n",
      "City not found. Skipping...\n",
      "Processing Record 34 of Set 2 | san cristobal\n",
      "Processing Record 35 of Set 2 | kikwit\n",
      "Processing Record 36 of Set 2 | jibuti\n",
      "Processing Record 37 of Set 2 | karkaralinsk\n",
      "City not found. Skipping...\n",
      "Processing Record 38 of Set 2 | udachnyy\n",
      "Processing Record 39 of Set 2 | kapaa\n",
      "Processing Record 40 of Set 2 | riyadh\n",
      "Processing Record 41 of Set 2 | biak\n",
      "Processing Record 42 of Set 2 | hays\n",
      "Processing Record 43 of Set 2 | norman wells\n",
      "Processing Record 44 of Set 2 | amderma\n",
      "City not found. Skipping...\n",
      "Processing Record 45 of Set 2 | astipalaia\n",
      "City not found. Skipping...\n",
      "Processing Record 46 of Set 2 | ilulissat\n",
      "Processing Record 47 of Set 2 | yulara\n",
      "Processing Record 48 of Set 2 | longyearbyen\n",
      "Processing Record 49 of Set 2 | vila franca do campo\n",
      "Processing Record 50 of Set 2 | taraz\n",
      "Processing Record 1 of Set 3 | bengkulu\n",
      "Processing Record 2 of Set 3 | presidencia roque saenz pena\n",
      "Processing Record 3 of Set 3 | pisco\n",
      "Processing Record 4 of Set 3 | adrar\n",
      "Processing Record 5 of Set 3 | kavieng\n",
      "Processing Record 6 of Set 3 | tuktoyaktuk\n",
      "Processing Record 7 of Set 3 | stoyba\n",
      "City not found. Skipping...\n",
      "Processing Record 8 of Set 3 | linhares\n",
      "Processing Record 9 of Set 3 | kaitangata\n",
      "Processing Record 10 of Set 3 | thompson\n",
      "Processing Record 11 of Set 3 | attawapiskat\n",
      "City not found. Skipping...\n",
      "Processing Record 12 of Set 3 | debno\n",
      "Processing Record 13 of Set 3 | nichinan\n",
      "Processing Record 14 of Set 3 | taolanaro\n",
      "City not found. Skipping...\n",
      "Processing Record 15 of Set 3 | castro\n",
      "Processing Record 16 of Set 3 | tahoua\n",
      "Processing Record 17 of Set 3 | dumka\n",
      "Processing Record 18 of Set 3 | dikson\n",
      "Processing Record 19 of Set 3 | ngukurr\n",
      "City not found. Skipping...\n",
      "Processing Record 20 of Set 3 | atakpame\n",
      "Processing Record 21 of Set 3 | bethel\n",
      "Processing Record 22 of Set 3 | vuktyl\n",
      "Processing Record 23 of Set 3 | torbay\n",
      "Processing Record 24 of Set 3 | puerto ayora\n",
      "Processing Record 25 of Set 3 | balkanabat\n",
      "Processing Record 26 of Set 3 | broome\n",
      "Processing Record 27 of Set 3 | arkul\n",
      "Processing Record 28 of Set 3 | high level\n",
      "Processing Record 29 of Set 3 | port blair\n",
      "Processing Record 30 of Set 3 | narsaq\n",
      "Processing Record 31 of Set 3 | riachao das neves\n",
      "Processing Record 32 of Set 3 | rome\n",
      "Processing Record 33 of Set 3 | ligayan\n",
      "Processing Record 34 of Set 3 | mirabad\n",
      "Processing Record 35 of Set 3 | port-gentil\n",
      "Processing Record 36 of Set 3 | vaini\n",
      "Processing Record 37 of Set 3 | ixtapa\n",
      "Processing Record 38 of Set 3 | pastavy\n",
      "Processing Record 39 of Set 3 | saint-augustin\n",
      "Processing Record 40 of Set 3 | hobart\n",
      "Processing Record 41 of Set 3 | gurskoye\n",
      "City not found. Skipping...\n",
      "Processing Record 42 of Set 3 | manaira\n",
      "Processing Record 43 of Set 3 | airai\n",
      "Processing Record 44 of Set 3 | paradwip\n",
      "City not found. Skipping...\n",
      "Processing Record 45 of Set 3 | meyungs\n",
      "City not found. Skipping...\n",
      "Processing Record 46 of Set 3 | grindavik\n",
      "Processing Record 47 of Set 3 | albany\n",
      "Processing Record 48 of Set 3 | olinda\n",
      "Processing Record 49 of Set 3 | bambous virieux\n",
      "Processing Record 50 of Set 3 | nadvoitsy\n",
      "Processing Record 1 of Set 4 | vaitupu\n",
      "City not found. Skipping...\n",
      "Processing Record 2 of Set 4 | vahan\n",
      "Processing Record 3 of Set 4 | zhigansk\n",
      "Processing Record 4 of Set 4 | garm\n",
      "City not found. Skipping...\n",
      "Processing Record 5 of Set 4 | lasa\n",
      "Processing Record 6 of Set 4 | ust-ilimsk\n",
      "Processing Record 7 of Set 4 | akranes\n",
      "Processing Record 8 of Set 4 | bulgan\n",
      "Processing Record 9 of Set 4 | valdivia\n",
      "Processing Record 10 of Set 4 | kodiak\n",
      "Processing Record 11 of Set 4 | tiznit\n",
      "Processing Record 12 of Set 4 | shenkursk\n",
      "Processing Record 13 of Set 4 | thiene\n",
      "Processing Record 14 of Set 4 | geraldton\n",
      "Processing Record 15 of Set 4 | faya\n",
      "Processing Record 16 of Set 4 | port alfred\n",
      "Processing Record 17 of Set 4 | vostok\n",
      "Processing Record 18 of Set 4 | indiaroba\n",
      "Processing Record 19 of Set 4 | fortuna\n",
      "Processing Record 20 of Set 4 | belaya gora\n",
      "Processing Record 21 of Set 4 | jinchang\n",
      "Processing Record 22 of Set 4 | rio gallegos\n",
      "Processing Record 23 of Set 4 | belushya guba\n",
      "City not found. Skipping...\n",
      "Processing Record 24 of Set 4 | martinsville\n",
      "Processing Record 25 of Set 4 | chapais\n",
      "Processing Record 26 of Set 4 | sur\n",
      "Processing Record 27 of Set 4 | casablanca\n",
      "Processing Record 28 of Set 4 | nemuro\n",
      "Processing Record 29 of Set 4 | mbigou\n",
      "Processing Record 30 of Set 4 | salta\n",
      "Processing Record 31 of Set 4 | hasaki\n",
      "Processing Record 32 of Set 4 | tommot\n",
      "Processing Record 33 of Set 4 | saldanha\n",
      "Processing Record 34 of Set 4 | grinnell\n",
      "Processing Record 35 of Set 4 | nikolskoye\n",
      "Processing Record 36 of Set 4 | illoqqortoormiut\n",
      "City not found. Skipping...\n",
      "Processing Record 37 of Set 4 | ornskoldsvik\n"
     ]
    },
    {
     "name": "stdout",
     "output_type": "stream",
     "text": [
      "Processing Record 38 of Set 4 | kysyl-syr\n",
      "Processing Record 39 of Set 4 | alofi\n",
      "Processing Record 40 of Set 4 | ostrovnoy\n",
      "Processing Record 41 of Set 4 | yerbogachen\n",
      "Processing Record 42 of Set 4 | dzhusaly\n",
      "City not found. Skipping...\n",
      "Processing Record 43 of Set 4 | tiarei\n",
      "Processing Record 44 of Set 4 | georgetown\n",
      "Processing Record 45 of Set 4 | chokurdakh\n",
      "Processing Record 46 of Set 4 | spokane\n",
      "Processing Record 47 of Set 4 | juneau\n",
      "Processing Record 48 of Set 4 | selma\n",
      "Processing Record 49 of Set 4 | druzhba\n",
      "Processing Record 50 of Set 4 | paka\n",
      "Processing Record 1 of Set 5 | lovozero\n",
      "Processing Record 2 of Set 5 | east london\n",
      "Processing Record 3 of Set 5 | sacramento\n",
      "Processing Record 4 of Set 5 | chuy\n",
      "Processing Record 5 of Set 5 | gorno-chuyskiy\n",
      "City not found. Skipping...\n",
      "Processing Record 6 of Set 5 | waimana\n",
      "Processing Record 7 of Set 5 | vila velha\n",
      "Processing Record 8 of Set 5 | hithadhoo\n",
      "Processing Record 9 of Set 5 | cheuskiny\n",
      "City not found. Skipping...\n",
      "Processing Record 10 of Set 5 | amberley\n",
      "Processing Record 11 of Set 5 | vanimo\n",
      "Processing Record 12 of Set 5 | tacuarembo\n",
      "Processing Record 13 of Set 5 | omboue\n",
      "Processing Record 14 of Set 5 | dandong\n",
      "Processing Record 15 of Set 5 | jatai\n",
      "Processing Record 16 of Set 5 | palabuhanratu\n",
      "City not found. Skipping...\n",
      "Processing Record 17 of Set 5 | ambilobe\n",
      "Processing Record 18 of Set 5 | salalah\n",
      "Processing Record 19 of Set 5 | morgan city\n",
      "Processing Record 20 of Set 5 | bosobolo\n",
      "Processing Record 21 of Set 5 | beira\n",
      "Processing Record 22 of Set 5 | barentsburg\n",
      "City not found. Skipping...\n",
      "Processing Record 23 of Set 5 | paso de los toros\n",
      "Processing Record 24 of Set 5 | saraipali\n",
      "Processing Record 25 of Set 5 | lebu\n",
      "Processing Record 26 of Set 5 | klaksvik\n",
      "Processing Record 27 of Set 5 | ballina\n",
      "Processing Record 28 of Set 5 | sechura\n",
      "Processing Record 29 of Set 5 | arraial do cabo\n",
      "Processing Record 30 of Set 5 | grand gaube\n",
      "Processing Record 31 of Set 5 | zhezkazgan\n",
      "Processing Record 32 of Set 5 | camana\n",
      "Processing Record 33 of Set 5 | juegang\n",
      "Processing Record 34 of Set 5 | naze\n",
      "Processing Record 35 of Set 5 | simao\n",
      "Processing Record 36 of Set 5 | hamilton\n",
      "Processing Record 37 of Set 5 | atar\n",
      "Processing Record 38 of Set 5 | nyurba\n",
      "Processing Record 39 of Set 5 | mandla\n",
      "Processing Record 40 of Set 5 | sitka\n",
      "Processing Record 41 of Set 5 | lanzhou\n",
      "Processing Record 42 of Set 5 | khilok\n",
      "Processing Record 43 of Set 5 | dicabisagan\n",
      "Processing Record 44 of Set 5 | nome\n",
      "Processing Record 45 of Set 5 | bubaque\n",
      "Processing Record 46 of Set 5 | little current\n",
      "Processing Record 47 of Set 5 | abu kamal\n",
      "Processing Record 48 of Set 5 | litoral del san juan\n",
      "City not found. Skipping...\n",
      "Processing Record 49 of Set 5 | chara\n",
      "Processing Record 50 of Set 5 | katsuura\n",
      "Processing Record 1 of Set 6 | leningradskiy\n",
      "Processing Record 2 of Set 6 | nizhneyansk\n",
      "City not found. Skipping...\n",
      "Processing Record 3 of Set 6 | honda\n",
      "Processing Record 4 of Set 6 | dingle\n",
      "Processing Record 5 of Set 6 | fairmont\n",
      "Processing Record 6 of Set 6 | yanchukan\n",
      "City not found. Skipping...\n",
      "Processing Record 7 of Set 6 | qaqortoq\n",
      "Processing Record 8 of Set 6 | mangrol\n",
      "Processing Record 9 of Set 6 | dryden\n",
      "Processing Record 10 of Set 6 | gouyave\n",
      "Processing Record 11 of Set 6 | harlingen\n",
      "Processing Record 12 of Set 6 | tadine\n",
      "Processing Record 13 of Set 6 | saleaula\n",
      "City not found. Skipping...\n",
      "Processing Record 14 of Set 6 | mys shmidta\n",
      "City not found. Skipping...\n",
      "Processing Record 15 of Set 6 | sumbawa\n",
      "City not found. Skipping...\n",
      "Processing Record 16 of Set 6 | la ronge\n",
      "Processing Record 17 of Set 6 | neiafu\n",
      "Processing Record 18 of Set 6 | victoria\n",
      "Processing Record 19 of Set 6 | winnemucca\n",
      "Processing Record 20 of Set 6 | mayskiy\n",
      "Processing Record 21 of Set 6 | sinalunga\n",
      "Processing Record 22 of Set 6 | rio brilhante\n",
      "Processing Record 23 of Set 6 | sangar\n",
      "Processing Record 24 of Set 6 | dongsheng\n",
      "Processing Record 25 of Set 6 | portland\n",
      "Processing Record 26 of Set 6 | tignere\n",
      "Processing Record 27 of Set 6 | san juan nepomuceno\n",
      "Processing Record 28 of Set 6 | bhabua\n",
      "Processing Record 29 of Set 6 | quatre cocos\n",
      "Processing Record 30 of Set 6 | hambantota\n",
      "Processing Record 31 of Set 6 | sao filipe\n",
      "Processing Record 32 of Set 6 | kuche\n",
      "City not found. Skipping...\n",
      "Processing Record 33 of Set 6 | lagoa\n",
      "Processing Record 34 of Set 6 | rabo de peixe\n",
      "Processing Record 35 of Set 6 | makakilo city\n",
      "Processing Record 36 of Set 6 | ialibu\n",
      "Processing Record 37 of Set 6 | haibowan\n",
      "City not found. Skipping...\n",
      "Processing Record 38 of Set 6 | nadym\n",
      "Processing Record 39 of Set 6 | banjar\n",
      "Processing Record 40 of Set 6 | san juan de los morros\n",
      "Processing Record 41 of Set 6 | urubicha\n",
      "Processing Record 42 of Set 6 | batagay-alyta\n",
      "Processing Record 43 of Set 6 | tabou\n",
      "Processing Record 44 of Set 6 | tiksi\n",
      "Processing Record 45 of Set 6 | esso\n",
      "Processing Record 46 of Set 6 | havre-saint-pierre\n",
      "Processing Record 47 of Set 6 | raga\n",
      "Processing Record 48 of Set 6 | mayumba\n",
      "Processing Record 49 of Set 6 | bestobe\n",
      "Processing Record 50 of Set 6 | newport\n",
      "Processing Record 1 of Set 7 | yaizu\n",
      "Processing Record 2 of Set 7 | aksarka\n",
      "Processing Record 3 of Set 7 | perth\n",
      "Processing Record 4 of Set 7 | bolungarvik\n",
      "City not found. Skipping...\n",
      "Processing Record 5 of Set 7 | pasighat\n",
      "Processing Record 6 of Set 7 | rapar\n",
      "Processing Record 7 of Set 7 | nador\n",
      "Processing Record 8 of Set 7 | okitipupa\n",
      "Processing Record 9 of Set 7 | llangefni\n",
      "Processing Record 10 of Set 7 | gat\n",
      "Processing Record 11 of Set 7 | meulaboh\n",
      "Processing Record 12 of Set 7 | annau\n",
      "Processing Record 13 of Set 7 | bandarbeyla\n",
      "Processing Record 14 of Set 7 | hofn\n",
      "Processing Record 15 of Set 7 | finnsnes\n",
      "Processing Record 16 of Set 7 | malinovoye ozero\n",
      "Processing Record 17 of Set 7 | bridlington\n",
      "Processing Record 18 of Set 7 | samalaeulu\n",
      "City not found. Skipping...\n",
      "Processing Record 19 of Set 7 | barhi\n",
      "Processing Record 20 of Set 7 | bushehr\n",
      "Processing Record 21 of Set 7 | leshukonskoye\n",
      "Processing Record 22 of Set 7 | mar del plata\n",
      "Processing Record 23 of Set 7 | hondo\n",
      "Processing Record 24 of Set 7 | oltina\n",
      "Processing Record 25 of Set 7 | axim\n",
      "Processing Record 26 of Set 7 | fare\n",
      "Processing Record 27 of Set 7 | katherine\n",
      "Processing Record 28 of Set 7 | beringovskiy\n",
      "Processing Record 29 of Set 7 | leh\n",
      "Processing Record 30 of Set 7 | bairiki\n",
      "Processing Record 31 of Set 7 | qaanaaq\n",
      "Processing Record 32 of Set 7 | jaguey grande\n",
      "Processing Record 33 of Set 7 | ndiekro\n",
      "City not found. Skipping...\n",
      "Processing Record 34 of Set 7 | vardo\n",
      "Processing Record 35 of Set 7 | ucluelet\n",
      "Processing Record 36 of Set 7 | bosaso\n",
      "Processing Record 37 of Set 7 | safaga\n",
      "Processing Record 38 of Set 7 | davis\n",
      "Processing Record 39 of Set 7 | ahipara\n",
      "Processing Record 40 of Set 7 | sao jose de ribamar\n",
      "Processing Record 41 of Set 7 | blonduos\n",
      "City not found. Skipping...\n",
      "Processing Record 42 of Set 7 | khatanga\n",
      "Processing Record 43 of Set 7 | road town\n",
      "Processing Record 44 of Set 7 | kununurra\n",
      "Processing Record 45 of Set 7 | hualmay\n",
      "Processing Record 46 of Set 7 | salinopolis\n",
      "Processing Record 47 of Set 7 | sal rei\n",
      "Processing Record 48 of Set 7 | tahe\n",
      "Processing Record 49 of Set 7 | thohoyandou\n",
      "Processing Record 50 of Set 7 | azle\n",
      "Processing Record 1 of Set 8 | reitz\n",
      "Processing Record 2 of Set 8 | college\n",
      "Processing Record 3 of Set 8 | padang\n",
      "Processing Record 4 of Set 8 | arman\n",
      "Processing Record 5 of Set 8 | rovaniemi\n",
      "Processing Record 6 of Set 8 | akdepe\n",
      "Processing Record 7 of Set 8 | aripuana\n",
      "Processing Record 8 of Set 8 | nguiu\n",
      "City not found. Skipping...\n",
      "Processing Record 9 of Set 8 | coihaique\n",
      "Processing Record 10 of Set 8 | marienburg\n",
      "Processing Record 11 of Set 8 | haines junction\n",
      "Processing Record 12 of Set 8 | walvis bay\n",
      "Processing Record 13 of Set 8 | bathsheba\n",
      "Processing Record 14 of Set 8 | the valley\n",
      "Processing Record 15 of Set 8 | asau\n",
      "Processing Record 16 of Set 8 | ancud\n",
      "Processing Record 17 of Set 8 | mukhen\n",
      "Processing Record 18 of Set 8 | kosh-agach\n",
      "Processing Record 19 of Set 8 | lavrentiya\n",
      "Processing Record 20 of Set 8 | mahebourg\n",
      "Processing Record 21 of Set 8 | barsovo\n",
      "Processing Record 22 of Set 8 | kutum\n",
      "Processing Record 23 of Set 8 | cururupu\n",
      "Processing Record 24 of Set 8 | charters towers\n",
      "Processing Record 25 of Set 8 | ambon\n",
      "Processing Record 26 of Set 8 | balkhash\n"
     ]
    },
    {
     "name": "stdout",
     "output_type": "stream",
     "text": [
      "Processing Record 27 of Set 8 | alice springs\n",
      "Processing Record 28 of Set 8 | batagay\n",
      "Processing Record 29 of Set 8 | sinnamary\n",
      "Processing Record 30 of Set 8 | george\n",
      "Processing Record 31 of Set 8 | maragogi\n",
      "Processing Record 32 of Set 8 | deputatskiy\n",
      "Processing Record 33 of Set 8 | saint-pierre\n",
      "Processing Record 34 of Set 8 | tecoanapa\n",
      "Processing Record 35 of Set 8 | mahesana\n",
      "Processing Record 36 of Set 8 | zhigalovo\n",
      "Processing Record 37 of Set 8 | berlevag\n",
      "Processing Record 38 of Set 8 | santo antonio do ica\n",
      "Processing Record 39 of Set 8 | karaul\n",
      "City not found. Skipping...\n",
      "Processing Record 40 of Set 8 | maturin\n",
      "Processing Record 41 of Set 8 | te anau\n",
      "Processing Record 42 of Set 8 | grand centre\n",
      "City not found. Skipping...\n",
      "Processing Record 43 of Set 8 | plettenberg bay\n",
      "Processing Record 44 of Set 8 | katobu\n",
      "Processing Record 45 of Set 8 | teya\n",
      "Processing Record 46 of Set 8 | hami\n",
      "Processing Record 47 of Set 8 | taltal\n",
      "Processing Record 48 of Set 8 | prince rupert\n",
      "Processing Record 49 of Set 8 | basco\n",
      "Processing Record 50 of Set 8 | provideniya\n",
      "Processing Record 1 of Set 9 | kincardine\n",
      "Processing Record 2 of Set 9 | kachiry\n",
      "Processing Record 3 of Set 9 | coquimbo\n",
      "Processing Record 4 of Set 9 | puri\n",
      "Processing Record 5 of Set 9 | araouane\n",
      "Processing Record 6 of Set 9 | constitucion\n",
      "Processing Record 7 of Set 9 | irtyshskiy\n",
      "Processing Record 8 of Set 9 | kavaratti\n",
      "Processing Record 9 of Set 9 | alyangula\n",
      "Processing Record 10 of Set 9 | itarema\n",
      "Processing Record 11 of Set 9 | hanmer springs\n",
      "Processing Record 12 of Set 9 | saint george\n",
      "Processing Record 13 of Set 9 | kieta\n",
      "Processing Record 14 of Set 9 | ahmadpur east\n",
      "Processing Record 15 of Set 9 | margate\n",
      "Processing Record 16 of Set 9 | east bethel\n",
      "Processing Record 17 of Set 9 | pratapgarh\n",
      "Processing Record 18 of Set 9 | nouadhibou\n",
      "Processing Record 19 of Set 9 | urumqi\n",
      "Processing Record 20 of Set 9 | tual\n",
      "Processing Record 21 of Set 9 | arroyo\n",
      "Processing Record 22 of Set 9 | praia da vitoria\n",
      "Processing Record 23 of Set 9 | temaraia\n",
      "City not found. Skipping...\n",
      "Processing Record 24 of Set 9 | kyshtovka\n",
      "Processing Record 25 of Set 9 | vieques\n",
      "Processing Record 26 of Set 9 | kokuy\n",
      "Processing Record 27 of Set 9 | labutta\n",
      "City not found. Skipping...\n",
      "Processing Record 28 of Set 9 | lompoc\n",
      "Processing Record 29 of Set 9 | tuatapere\n",
      "Processing Record 30 of Set 9 | hunfeld\n",
      "Processing Record 31 of Set 9 | khormuj\n",
      "City not found. Skipping...\n",
      "Processing Record 32 of Set 9 | waingapu\n",
      "Processing Record 33 of Set 9 | harrisburg\n",
      "Processing Record 34 of Set 9 | cidreira\n",
      "Processing Record 35 of Set 9 | rio grande\n",
      "Processing Record 36 of Set 9 | kassala\n",
      "Processing Record 37 of Set 9 | bozhou\n",
      "Processing Record 38 of Set 9 | esperance\n",
      "Processing Record 39 of Set 9 | tautira\n",
      "Processing Record 40 of Set 9 | codrington\n",
      "Processing Record 41 of Set 9 | port said\n",
      "Processing Record 42 of Set 9 | schwedt\n",
      "Processing Record 43 of Set 9 | umm jarr\n",
      "City not found. Skipping...\n",
      "Processing Record 44 of Set 9 | ust-nera\n",
      "Processing Record 45 of Set 9 | salinas\n",
      "Processing Record 46 of Set 9 | skrunda\n",
      "Processing Record 47 of Set 9 | chicama\n",
      "Processing Record 48 of Set 9 | panjakent\n",
      "Processing Record 49 of Set 9 | najran\n",
      "Processing Record 50 of Set 9 | tazmalt\n",
      "Processing Record 1 of Set 10 | adiake\n",
      "Processing Record 2 of Set 10 | half moon bay\n",
      "Processing Record 3 of Set 10 | ogawara\n",
      "Processing Record 4 of Set 10 | morlaix\n",
      "Processing Record 5 of Set 10 | christchurch\n",
      "Processing Record 6 of Set 10 | sao felix do xingu\n",
      "Processing Record 7 of Set 10 | inirida\n",
      "Processing Record 8 of Set 10 | atagay\n",
      "Processing Record 9 of Set 10 | saint-georges\n",
      "Processing Record 10 of Set 10 | chaplygin\n",
      "Processing Record 11 of Set 10 | kenai\n",
      "Processing Record 12 of Set 10 | bria\n",
      "Processing Record 13 of Set 10 | blatec\n",
      "Processing Record 14 of Set 10 | buritis\n",
      "Processing Record 15 of Set 10 | hareid\n",
      "Processing Record 16 of Set 10 | cayenne\n",
      "Processing Record 17 of Set 10 | acapulco\n",
      "Processing Record 18 of Set 10 | khani\n",
      "Processing Record 19 of Set 10 | port-cartier\n",
      "Processing Record 20 of Set 10 | nanortalik\n",
      "Processing Record 21 of Set 10 | namatanai\n",
      "Processing Record 22 of Set 10 | mizpe ramon\n",
      "City not found. Skipping...\n",
      "Processing Record 23 of Set 10 | shymkent\n",
      "Processing Record 24 of Set 10 | upington\n",
      "Processing Record 25 of Set 10 | verkhoyansk\n",
      "Processing Record 26 of Set 10 | tarauaca\n",
      "Processing Record 27 of Set 10 | viesca\n",
      "Processing Record 28 of Set 10 | yumen\n",
      "Processing Record 29 of Set 10 | illapel\n",
      "Processing Record 30 of Set 10 | emerald\n",
      "Processing Record 31 of Set 10 | zermatt\n",
      "Processing Record 32 of Set 10 | nam tha\n",
      "City not found. Skipping...\n",
      "Processing Record 33 of Set 10 | batemans bay\n",
      "Processing Record 34 of Set 10 | panaba\n",
      "Processing Record 35 of Set 10 | tres arroyos\n",
      "Processing Record 36 of Set 10 | tyukhtet\n",
      "Processing Record 37 of Set 10 | genhe\n",
      "Processing Record 38 of Set 10 | zvishavane\n",
      "Processing Record 39 of Set 10 | celestun\n",
      "Processing Record 40 of Set 10 | refojos de basto\n",
      "Processing Record 41 of Set 10 | touros\n",
      "Processing Record 42 of Set 10 | wampusirpi\n",
      "City not found. Skipping...\n",
      "Processing Record 43 of Set 10 | trapani\n",
      "Processing Record 44 of Set 10 | boyuibe\n",
      "Processing Record 45 of Set 10 | noumea\n",
      "Processing Record 46 of Set 10 | norsup\n",
      "Processing Record 47 of Set 10 | dracena\n",
      "Processing Record 48 of Set 10 | jiuquan\n",
      "Processing Record 49 of Set 10 | maceio\n",
      "Processing Record 50 of Set 10 | dezful\n",
      "Processing Record 1 of Set 11 | pericos\n",
      "Processing Record 2 of Set 11 | san francisco morazan\n",
      "City not found. Skipping...\n",
      "Processing Record 3 of Set 11 | chadiza\n",
      "Processing Record 4 of Set 11 | leiyang\n",
      "Processing Record 5 of Set 11 | golaghat\n",
      "Processing Record 6 of Set 11 | omsukchan\n",
      "Processing Record 7 of Set 11 | lethem\n",
      "Processing Record 8 of Set 11 | marica\n",
      "Processing Record 9 of Set 11 | tazovskiy\n",
      "Processing Record 10 of Set 11 | cagayan de tawi-tawi\n",
      "City not found. Skipping...\n",
      "Processing Record 11 of Set 11 | ulu tiram\n",
      "Processing Record 12 of Set 11 | kruisfontein\n",
      "Processing Record 13 of Set 11 | labuan\n",
      "Processing Record 14 of Set 11 | pinhao\n",
      "Processing Record 15 of Set 11 | miraflores\n",
      "Processing Record 16 of Set 11 | kita\n",
      "Processing Record 17 of Set 11 | schiffdorf\n",
      "Processing Record 18 of Set 11 | benton\n",
      "Processing Record 19 of Set 11 | broken hill\n",
      "Processing Record 20 of Set 11 | cleveland\n",
      "Processing Record 21 of Set 11 | piterka\n",
      "Processing Record 22 of Set 11 | barda\n",
      "Processing Record 23 of Set 11 | trincomalee\n",
      "Processing Record 24 of Set 11 | flin flon\n",
      "Processing Record 25 of Set 11 | sobolevo\n",
      "Processing Record 26 of Set 11 | arlit\n",
      "Processing Record 27 of Set 11 | ajdabiya\n",
      "Processing Record 28 of Set 11 | atasu\n",
      "Processing Record 29 of Set 11 | maxixe\n",
      "Processing Record 30 of Set 11 | erzin\n",
      "Processing Record 31 of Set 11 | pontefract\n",
      "Processing Record 32 of Set 11 | egvekinot\n",
      "Processing Record 33 of Set 11 | linqu\n",
      "Processing Record 34 of Set 11 | sibu\n",
      "Processing Record 35 of Set 11 | qabis\n",
      "City not found. Skipping...\n",
      "Processing Record 36 of Set 11 | champerico\n",
      "Processing Record 37 of Set 11 | kapoeta\n",
      "Processing Record 38 of Set 11 | fairbanks\n",
      "Processing Record 39 of Set 11 | sivaki\n",
      "Processing Record 40 of Set 11 | tonantins\n",
      "Processing Record 41 of Set 11 | palmer\n",
      "Processing Record 42 of Set 11 | mirnyy\n",
      "Processing Record 43 of Set 11 | tocopilla\n",
      "Processing Record 44 of Set 11 | tongliao\n",
      "Processing Record 45 of Set 11 | isangel\n",
      "Processing Record 46 of Set 11 | chato\n",
      "Processing Record 47 of Set 11 | caravelas\n",
      "Processing Record 48 of Set 11 | pinawa\n",
      "Processing Record 49 of Set 11 | warrington\n",
      "Processing Record 50 of Set 11 | penuelas\n",
      "Processing Record 1 of Set 12 | stornoway\n",
      "Processing Record 2 of Set 12 | popondetta\n",
      "Processing Record 3 of Set 12 | ayagoz\n",
      "Processing Record 4 of Set 12 | ye\n",
      "City not found. Skipping...\n",
      "Processing Record 5 of Set 12 | kyra\n",
      "Processing Record 6 of Set 12 | buala\n",
      "Processing Record 7 of Set 12 | bom jesus\n",
      "Processing Record 8 of Set 12 | pacific grove\n",
      "Processing Record 9 of Set 12 | houma\n",
      "Processing Record 10 of Set 12 | samusu\n",
      "City not found. Skipping...\n",
      "Processing Record 11 of Set 12 | barcelos\n",
      "Processing Record 12 of Set 12 | imbituba\n",
      "Processing Record 13 of Set 12 | darnah\n",
      "Processing Record 14 of Set 12 | suruc\n",
      "Processing Record 15 of Set 12 | namibe\n"
     ]
    },
    {
     "name": "stdout",
     "output_type": "stream",
     "text": [
      "Processing Record 16 of Set 12 | kendari\n",
      "Processing Record 17 of Set 12 | mecca\n",
      "Processing Record 18 of Set 12 | springfield\n",
      "Processing Record 19 of Set 12 | lata\n",
      "Processing Record 20 of Set 12 | pasni\n",
      "Processing Record 21 of Set 12 | whitehorse\n",
      "Processing Record 22 of Set 12 | graaff-reinet\n",
      "Processing Record 23 of Set 12 | wuwei\n",
      "Processing Record 24 of Set 12 | severodvinsk\n",
      "Processing Record 25 of Set 12 | gondanglegi\n",
      "Processing Record 26 of Set 12 | ewa beach\n",
      "Processing Record 27 of Set 12 | eureka\n",
      "Processing Record 28 of Set 12 | xiaoweizhai\n",
      "Processing Record 29 of Set 12 | saint anthony\n",
      "Processing Record 30 of Set 12 | bonavista\n",
      "Processing Record 31 of Set 12 | makasar\n",
      "Processing Record 32 of Set 12 | roseburg\n",
      "Processing Record 33 of Set 12 | borovskoy\n",
      "Processing Record 34 of Set 12 | mackay\n",
      "Processing Record 35 of Set 12 | gulshat\n",
      "City not found. Skipping...\n",
      "Processing Record 36 of Set 12 | skerries\n",
      "Processing Record 37 of Set 12 | kinshasa\n",
      "Processing Record 38 of Set 12 | yenagoa\n",
      "Processing Record 39 of Set 12 | ruatoria\n",
      "City not found. Skipping...\n",
      "Processing Record 40 of Set 12 | fereydun kenar\n",
      "Processing Record 41 of Set 12 | glens falls\n",
      "Processing Record 42 of Set 12 | talnakh\n",
      "-----------------------------\n",
      "Data Retrieval Complete      \n",
      "-----------------------------\n"
     ]
    }
   ],
   "source": [
    "# Loop through all the cities in the list.\n",
    "for i, city in enumerate(cities):\n",
    "\n",
    "    # Group cities in sets of 50 for logging purposes.\n",
    "    if (i % 50 == 0 and i >= 50):\n",
    "        set_count += 1\n",
    "        record_count = 1\n",
    "    # Create endpoint URL with each city.\n",
    "    city_url = url + \"&q=\" + city.replace(\" \",\"+\")\n",
    "\n",
    "    # Log the URL, record, and set numbers and the city.\n",
    "    print(f\"Processing Record {record_count} of Set {set_count} | {city}\")\n",
    "    # Add 1 to the record count.\n",
    "    record_count += 1\n",
    "# Run an API request for each of the cities.\n",
    "    try:\n",
    "        # Parse the JSON and retrieve data.\n",
    "        city_weather = requests.get(city_url).json()\n",
    "        # Parse out the needed data.\n",
    "        city_lat = city_weather[\"coord\"][\"lat\"]\n",
    "        city_lng = city_weather[\"coord\"][\"lon\"]\n",
    "        city_max_temp = city_weather[\"main\"][\"temp_max\"]\n",
    "        city_humidity = city_weather[\"main\"][\"humidity\"]\n",
    "        city_clouds = city_weather[\"clouds\"][\"all\"]\n",
    "        city_wind = city_weather[\"wind\"][\"speed\"]\n",
    "        city_country = city_weather[\"sys\"][\"country\"]\n",
    "        # Convert the date to ISO standard.\n",
    "        city_date = datetime.utcfromtimestamp(city_weather[\"dt\"]).strftime('%Y-%m-%d %H:%M:%S')\n",
    "        # Append the city information into city_data list.\n",
    "        city_data.append({\"City\": city.title(),\n",
    "                          \"Lat\": city_lat,\n",
    "                          \"Lng\": city_lng,\n",
    "                          \"Max Temp\": city_max_temp,\n",
    "                          \"Humidity\": city_humidity,\n",
    "                          \"Cloudiness\": city_clouds,\n",
    "                          \"Wind Speed\": city_wind,\n",
    "                          \"Country\": city_country,\n",
    "                          \"Date\": city_date})\n",
    "\n",
    "# If an error is experienced, skip the city.\n",
    "    except:\n",
    "        print(\"City not found. Skipping...\")\n",
    "        pass\n",
    "\n",
    "# Indicate that Data Loading is complete.\n",
    "print(\"-----------------------------\")\n",
    "print(\"Data Retrieval Complete      \")\n",
    "print(\"-----------------------------\")\n",
    "\n"
   ]
  },
  {
   "cell_type": "code",
   "execution_count": 26,
   "metadata": {},
   "outputs": [
    {
     "data": {
      "text/html": [
       "<div>\n",
       "<style scoped>\n",
       "    .dataframe tbody tr th:only-of-type {\n",
       "        vertical-align: middle;\n",
       "    }\n",
       "\n",
       "    .dataframe tbody tr th {\n",
       "        vertical-align: top;\n",
       "    }\n",
       "\n",
       "    .dataframe thead th {\n",
       "        text-align: right;\n",
       "    }\n",
       "</style>\n",
       "<table border=\"1\" class=\"dataframe\">\n",
       "  <thead>\n",
       "    <tr style=\"text-align: right;\">\n",
       "      <th></th>\n",
       "      <th>City</th>\n",
       "      <th>Lat</th>\n",
       "      <th>Lng</th>\n",
       "      <th>Max Temp</th>\n",
       "      <th>Humidity</th>\n",
       "      <th>Cloudiness</th>\n",
       "      <th>Wind Speed</th>\n",
       "      <th>Country</th>\n",
       "      <th>Date</th>\n",
       "    </tr>\n",
       "  </thead>\n",
       "  <tbody>\n",
       "    <tr>\n",
       "      <th>0</th>\n",
       "      <td>Samarai</td>\n",
       "      <td>-10.6167</td>\n",
       "      <td>150.6667</td>\n",
       "      <td>85.15</td>\n",
       "      <td>71</td>\n",
       "      <td>98</td>\n",
       "      <td>8.08</td>\n",
       "      <td>PG</td>\n",
       "      <td>2021-01-11 22:55:35</td>\n",
       "    </tr>\n",
       "    <tr>\n",
       "      <th>1</th>\n",
       "      <td>Pevek</td>\n",
       "      <td>69.7008</td>\n",
       "      <td>170.3133</td>\n",
       "      <td>-32.06</td>\n",
       "      <td>85</td>\n",
       "      <td>27</td>\n",
       "      <td>1.97</td>\n",
       "      <td>RU</td>\n",
       "      <td>2021-01-11 22:55:35</td>\n",
       "    </tr>\n",
       "    <tr>\n",
       "      <th>2</th>\n",
       "      <td>Iqaluit</td>\n",
       "      <td>63.7506</td>\n",
       "      <td>-68.5145</td>\n",
       "      <td>6.80</td>\n",
       "      <td>78</td>\n",
       "      <td>90</td>\n",
       "      <td>2.86</td>\n",
       "      <td>CA</td>\n",
       "      <td>2021-01-11 22:55:35</td>\n",
       "    </tr>\n",
       "    <tr>\n",
       "      <th>3</th>\n",
       "      <td>Tilichiki</td>\n",
       "      <td>60.4667</td>\n",
       "      <td>166.1000</td>\n",
       "      <td>-18.78</td>\n",
       "      <td>86</td>\n",
       "      <td>95</td>\n",
       "      <td>11.30</td>\n",
       "      <td>RU</td>\n",
       "      <td>2021-01-11 22:55:37</td>\n",
       "    </tr>\n",
       "    <tr>\n",
       "      <th>4</th>\n",
       "      <td>Tyup</td>\n",
       "      <td>42.7276</td>\n",
       "      <td>78.3648</td>\n",
       "      <td>19.62</td>\n",
       "      <td>78</td>\n",
       "      <td>0</td>\n",
       "      <td>3.09</td>\n",
       "      <td>KG</td>\n",
       "      <td>2021-01-11 22:55:37</td>\n",
       "    </tr>\n",
       "    <tr>\n",
       "      <th>5</th>\n",
       "      <td>Cherskiy</td>\n",
       "      <td>68.7500</td>\n",
       "      <td>161.3000</td>\n",
       "      <td>-34.85</td>\n",
       "      <td>82</td>\n",
       "      <td>0</td>\n",
       "      <td>1.41</td>\n",
       "      <td>RU</td>\n",
       "      <td>2021-01-11 22:55:37</td>\n",
       "    </tr>\n",
       "    <tr>\n",
       "      <th>6</th>\n",
       "      <td>Bredasdorp</td>\n",
       "      <td>-34.5322</td>\n",
       "      <td>20.0403</td>\n",
       "      <td>66.20</td>\n",
       "      <td>94</td>\n",
       "      <td>100</td>\n",
       "      <td>9.22</td>\n",
       "      <td>ZA</td>\n",
       "      <td>2021-01-11 22:55:37</td>\n",
       "    </tr>\n",
       "    <tr>\n",
       "      <th>7</th>\n",
       "      <td>Matagami</td>\n",
       "      <td>49.7502</td>\n",
       "      <td>-77.6328</td>\n",
       "      <td>19.40</td>\n",
       "      <td>93</td>\n",
       "      <td>90</td>\n",
       "      <td>9.22</td>\n",
       "      <td>CA</td>\n",
       "      <td>2021-01-11 22:55:37</td>\n",
       "    </tr>\n",
       "    <tr>\n",
       "      <th>8</th>\n",
       "      <td>Bud</td>\n",
       "      <td>39.4470</td>\n",
       "      <td>-86.1758</td>\n",
       "      <td>25.00</td>\n",
       "      <td>89</td>\n",
       "      <td>0</td>\n",
       "      <td>5.93</td>\n",
       "      <td>US</td>\n",
       "      <td>2021-01-11 22:50:51</td>\n",
       "    </tr>\n",
       "    <tr>\n",
       "      <th>9</th>\n",
       "      <td>Atuona</td>\n",
       "      <td>-9.8000</td>\n",
       "      <td>-139.0333</td>\n",
       "      <td>77.43</td>\n",
       "      <td>81</td>\n",
       "      <td>5</td>\n",
       "      <td>16.26</td>\n",
       "      <td>PF</td>\n",
       "      <td>2021-01-11 22:55:38</td>\n",
       "    </tr>\n",
       "  </tbody>\n",
       "</table>\n",
       "</div>"
      ],
      "text/plain": [
       "         City      Lat       Lng  Max Temp  Humidity  Cloudiness  Wind Speed  \\\n",
       "0     Samarai -10.6167  150.6667     85.15        71          98        8.08   \n",
       "1       Pevek  69.7008  170.3133    -32.06        85          27        1.97   \n",
       "2     Iqaluit  63.7506  -68.5145      6.80        78          90        2.86   \n",
       "3   Tilichiki  60.4667  166.1000    -18.78        86          95       11.30   \n",
       "4        Tyup  42.7276   78.3648     19.62        78           0        3.09   \n",
       "5    Cherskiy  68.7500  161.3000    -34.85        82           0        1.41   \n",
       "6  Bredasdorp -34.5322   20.0403     66.20        94         100        9.22   \n",
       "7    Matagami  49.7502  -77.6328     19.40        93          90        9.22   \n",
       "8         Bud  39.4470  -86.1758     25.00        89           0        5.93   \n",
       "9      Atuona  -9.8000 -139.0333     77.43        81           5       16.26   \n",
       "\n",
       "  Country                 Date  \n",
       "0      PG  2021-01-11 22:55:35  \n",
       "1      RU  2021-01-11 22:55:35  \n",
       "2      CA  2021-01-11 22:55:35  \n",
       "3      RU  2021-01-11 22:55:37  \n",
       "4      KG  2021-01-11 22:55:37  \n",
       "5      RU  2021-01-11 22:55:37  \n",
       "6      ZA  2021-01-11 22:55:37  \n",
       "7      CA  2021-01-11 22:55:37  \n",
       "8      US  2021-01-11 22:50:51  \n",
       "9      PF  2021-01-11 22:55:38  "
      ]
     },
     "execution_count": 26,
     "metadata": {},
     "output_type": "execute_result"
    }
   ],
   "source": [
    "# Convert the array of dictionaries to a Pandas DataFrame.\n",
    "city_data_df = pd.DataFrame(city_data)\n",
    "city_data_df.head(10)"
   ]
  },
  {
   "cell_type": "code",
   "execution_count": 27,
   "metadata": {},
   "outputs": [
    {
     "data": {
      "text/html": [
       "<div>\n",
       "<style scoped>\n",
       "    .dataframe tbody tr th:only-of-type {\n",
       "        vertical-align: middle;\n",
       "    }\n",
       "\n",
       "    .dataframe tbody tr th {\n",
       "        vertical-align: top;\n",
       "    }\n",
       "\n",
       "    .dataframe thead th {\n",
       "        text-align: right;\n",
       "    }\n",
       "</style>\n",
       "<table border=\"1\" class=\"dataframe\">\n",
       "  <thead>\n",
       "    <tr style=\"text-align: right;\">\n",
       "      <th></th>\n",
       "      <th>City</th>\n",
       "      <th>Country</th>\n",
       "      <th>Date</th>\n",
       "      <th>Lat</th>\n",
       "      <th>Lng</th>\n",
       "      <th>Max Temp</th>\n",
       "      <th>Humidity</th>\n",
       "      <th>Cloudiness</th>\n",
       "      <th>Wind Speed</th>\n",
       "    </tr>\n",
       "  </thead>\n",
       "  <tbody>\n",
       "    <tr>\n",
       "      <th>0</th>\n",
       "      <td>Samarai</td>\n",
       "      <td>PG</td>\n",
       "      <td>2021-01-11 22:55:35</td>\n",
       "      <td>-10.6167</td>\n",
       "      <td>150.6667</td>\n",
       "      <td>85.15</td>\n",
       "      <td>71</td>\n",
       "      <td>98</td>\n",
       "      <td>8.08</td>\n",
       "    </tr>\n",
       "    <tr>\n",
       "      <th>1</th>\n",
       "      <td>Pevek</td>\n",
       "      <td>RU</td>\n",
       "      <td>2021-01-11 22:55:35</td>\n",
       "      <td>69.7008</td>\n",
       "      <td>170.3133</td>\n",
       "      <td>-32.06</td>\n",
       "      <td>85</td>\n",
       "      <td>27</td>\n",
       "      <td>1.97</td>\n",
       "    </tr>\n",
       "    <tr>\n",
       "      <th>2</th>\n",
       "      <td>Iqaluit</td>\n",
       "      <td>CA</td>\n",
       "      <td>2021-01-11 22:55:35</td>\n",
       "      <td>63.7506</td>\n",
       "      <td>-68.5145</td>\n",
       "      <td>6.80</td>\n",
       "      <td>78</td>\n",
       "      <td>90</td>\n",
       "      <td>2.86</td>\n",
       "    </tr>\n",
       "    <tr>\n",
       "      <th>3</th>\n",
       "      <td>Tilichiki</td>\n",
       "      <td>RU</td>\n",
       "      <td>2021-01-11 22:55:37</td>\n",
       "      <td>60.4667</td>\n",
       "      <td>166.1000</td>\n",
       "      <td>-18.78</td>\n",
       "      <td>86</td>\n",
       "      <td>95</td>\n",
       "      <td>11.30</td>\n",
       "    </tr>\n",
       "    <tr>\n",
       "      <th>4</th>\n",
       "      <td>Tyup</td>\n",
       "      <td>KG</td>\n",
       "      <td>2021-01-11 22:55:37</td>\n",
       "      <td>42.7276</td>\n",
       "      <td>78.3648</td>\n",
       "      <td>19.62</td>\n",
       "      <td>78</td>\n",
       "      <td>0</td>\n",
       "      <td>3.09</td>\n",
       "    </tr>\n",
       "    <tr>\n",
       "      <th>...</th>\n",
       "      <td>...</td>\n",
       "      <td>...</td>\n",
       "      <td>...</td>\n",
       "      <td>...</td>\n",
       "      <td>...</td>\n",
       "      <td>...</td>\n",
       "      <td>...</td>\n",
       "      <td>...</td>\n",
       "      <td>...</td>\n",
       "    </tr>\n",
       "    <tr>\n",
       "      <th>533</th>\n",
       "      <td>Kinshasa</td>\n",
       "      <td>CD</td>\n",
       "      <td>2021-01-11 22:57:22</td>\n",
       "      <td>-4.3246</td>\n",
       "      <td>15.3215</td>\n",
       "      <td>78.80</td>\n",
       "      <td>78</td>\n",
       "      <td>100</td>\n",
       "      <td>3.44</td>\n",
       "    </tr>\n",
       "    <tr>\n",
       "      <th>534</th>\n",
       "      <td>Yenagoa</td>\n",
       "      <td>NG</td>\n",
       "      <td>2021-01-11 22:57:08</td>\n",
       "      <td>4.9247</td>\n",
       "      <td>6.2642</td>\n",
       "      <td>76.91</td>\n",
       "      <td>88</td>\n",
       "      <td>0</td>\n",
       "      <td>6.13</td>\n",
       "    </tr>\n",
       "    <tr>\n",
       "      <th>535</th>\n",
       "      <td>Fereydun Kenar</td>\n",
       "      <td>IR</td>\n",
       "      <td>2021-01-11 22:57:22</td>\n",
       "      <td>36.6864</td>\n",
       "      <td>52.5225</td>\n",
       "      <td>49.87</td>\n",
       "      <td>65</td>\n",
       "      <td>0</td>\n",
       "      <td>5.97</td>\n",
       "    </tr>\n",
       "    <tr>\n",
       "      <th>536</th>\n",
       "      <td>Glens Falls</td>\n",
       "      <td>US</td>\n",
       "      <td>2021-01-11 22:57:22</td>\n",
       "      <td>43.3095</td>\n",
       "      <td>-73.6440</td>\n",
       "      <td>26.01</td>\n",
       "      <td>93</td>\n",
       "      <td>90</td>\n",
       "      <td>2.55</td>\n",
       "    </tr>\n",
       "    <tr>\n",
       "      <th>537</th>\n",
       "      <td>Talnakh</td>\n",
       "      <td>RU</td>\n",
       "      <td>2021-01-11 22:57:22</td>\n",
       "      <td>69.4865</td>\n",
       "      <td>88.3972</td>\n",
       "      <td>-20.13</td>\n",
       "      <td>86</td>\n",
       "      <td>95</td>\n",
       "      <td>1.50</td>\n",
       "    </tr>\n",
       "  </tbody>\n",
       "</table>\n",
       "<p>538 rows × 9 columns</p>\n",
       "</div>"
      ],
      "text/plain": [
       "               City Country                 Date      Lat       Lng  Max Temp  \\\n",
       "0           Samarai      PG  2021-01-11 22:55:35 -10.6167  150.6667     85.15   \n",
       "1             Pevek      RU  2021-01-11 22:55:35  69.7008  170.3133    -32.06   \n",
       "2           Iqaluit      CA  2021-01-11 22:55:35  63.7506  -68.5145      6.80   \n",
       "3         Tilichiki      RU  2021-01-11 22:55:37  60.4667  166.1000    -18.78   \n",
       "4              Tyup      KG  2021-01-11 22:55:37  42.7276   78.3648     19.62   \n",
       "..              ...     ...                  ...      ...       ...       ...   \n",
       "533        Kinshasa      CD  2021-01-11 22:57:22  -4.3246   15.3215     78.80   \n",
       "534         Yenagoa      NG  2021-01-11 22:57:08   4.9247    6.2642     76.91   \n",
       "535  Fereydun Kenar      IR  2021-01-11 22:57:22  36.6864   52.5225     49.87   \n",
       "536     Glens Falls      US  2021-01-11 22:57:22  43.3095  -73.6440     26.01   \n",
       "537         Talnakh      RU  2021-01-11 22:57:22  69.4865   88.3972    -20.13   \n",
       "\n",
       "     Humidity  Cloudiness  Wind Speed  \n",
       "0          71          98        8.08  \n",
       "1          85          27        1.97  \n",
       "2          78          90        2.86  \n",
       "3          86          95       11.30  \n",
       "4          78           0        3.09  \n",
       "..        ...         ...         ...  \n",
       "533        78         100        3.44  \n",
       "534        88           0        6.13  \n",
       "535        65           0        5.97  \n",
       "536        93          90        2.55  \n",
       "537        86          95        1.50  \n",
       "\n",
       "[538 rows x 9 columns]"
      ]
     },
     "execution_count": 27,
     "metadata": {},
     "output_type": "execute_result"
    }
   ],
   "source": [
    "#reorder columns \n",
    "new_column_order = [\"City\", \"Country\", \"Date\", \"Lat\", \"Lng\", \"Max Temp\", \"Humidity\", \"Cloudiness\", \"Wind Speed\"]\n",
    "\n",
    "city_data_df = city_data_df[new_column_order]\n",
    "city_data_df"
   ]
  },
  {
   "cell_type": "code",
   "execution_count": 28,
   "metadata": {},
   "outputs": [],
   "source": [
    "# Create the output file (CSV).\n",
    "output_data_file = \"weather_data/cities.csv\"\n",
    "# Export the City_Data into a CSV.\n",
    "city_data_df.to_csv(output_data_file, index_label=\"City_ID\")"
   ]
  },
  {
   "cell_type": "code",
   "execution_count": 29,
   "metadata": {},
   "outputs": [],
   "source": [
    "# Extract relevant fields from the DataFrame for plotting.\n",
    "lats = city_data_df[\"Lat\"]\n",
    "max_temps = city_data_df[\"Max Temp\"]\n",
    "humidity = city_data_df[\"Humidity\"]\n",
    "cloudiness = city_data_df[\"Cloudiness\"]\n",
    "wind_speed = city_data_df[\"Wind Speed\"]"
   ]
  },
  {
   "cell_type": "code",
   "execution_count": 30,
   "metadata": {},
   "outputs": [
    {
     "data": {
      "text/plain": [
       "1610405843.7600982"
      ]
     },
     "execution_count": 30,
     "metadata": {},
     "output_type": "execute_result"
    }
   ],
   "source": [
    "# Import the time module.\n",
    "import time\n",
    "# Get today's date in seconds.\n",
    "today = time.time()\n",
    "today"
   ]
  },
  {
   "cell_type": "code",
   "execution_count": 31,
   "metadata": {},
   "outputs": [
    {
     "data": {
      "text/plain": [
       "'01/11/21'"
      ]
     },
     "execution_count": 31,
     "metadata": {},
     "output_type": "execute_result"
    }
   ],
   "source": [
    "today = time.strftime(\"%x\")\n",
    "today"
   ]
  },
  {
   "cell_type": "code",
   "execution_count": 32,
   "metadata": {},
   "outputs": [
    {
     "data": {
      "image/png": "[encoded data removed]",
      "text/plain": [
       "<Figure size 432x288 with 1 Axes>"
      ]
     },
     "metadata": {
      "needs_background": "light"
     },
     "output_type": "display_data"
    }
   ],
   "source": [
    "# Import time module\n",
    "import time\n",
    "\n",
    "# Build the scatter plot for latitude vs. max temperature.\n",
    "plt.scatter(lats,\n",
    "            max_temps,\n",
    "            edgecolor=\"black\", linewidths=1, marker=\"o\",\n",
    "            alpha=0.8, label=\"Cities\")\n",
    "\n",
    "# Incorporate the other graph properties.\n",
    "plt.title(f\"City Latitude vs. Max Temperature \"+ time.strftime(\"%x\"))\n",
    "plt.ylabel(\"Max Temperature (F)\")\n",
    "plt.xlabel(\"Latitude\")\n",
    "plt.grid(True)\n",
    "\n",
    "# Save the figure.\n",
    "plt.savefig(\"weather_data/Fig1.png\")\n",
    "\n",
    "# Show plot.\n",
    "plt.show()"
   ]
  },
  {
   "cell_type": "code",
   "execution_count": 33,
   "metadata": {},
   "outputs": [
    {
     "data": {
      "image/png": "[encoded data removed]",
      "text/plain": [
       "<Figure size 432x288 with 1 Axes>"
      ]
     },
     "metadata": {
      "needs_background": "light"
     },
     "output_type": "display_data"
    }
   ],
   "source": [
    "# Build the scatter plots for latitude vs. humidity.\n",
    "plt.scatter(lats,\n",
    "            humidity,\n",
    "            edgecolor=\"black\", linewidths=1, marker=\"o\",\n",
    "            alpha=0.8, label=\"Cities\")\n",
    "\n",
    "# Incorporate the other graph properties.\n",
    "plt.title(f\"City Latitude vs. Humidity \"+ time.strftime(\"%x\"))\n",
    "plt.ylabel(\"Humidity (%)\")\n",
    "plt.xlabel(\"Latitude\")\n",
    "plt.grid(True)\n",
    "# Save the figure.\n",
    "plt.savefig(\"weather_data/Fig2.png\")\n",
    "# Show plot.\n",
    "plt.show()"
   ]
  },
  {
   "cell_type": "code",
   "execution_count": 34,
   "metadata": {},
   "outputs": [
    {
     "data": {
      "image/png": "[encoded data removed]",
      "text/plain": [
       "<Figure size 432x288 with 1 Axes>"
      ]
     },
     "metadata": {
      "needs_background": "light"
     },
     "output_type": "display_data"
    }
   ],
   "source": [
    "# Build the scatter plots for latitude vs. cloudiness.\n",
    "plt.scatter(lats,\n",
    "            cloudiness,\n",
    "            edgecolor=\"black\", linewidths=1, marker=\"o\",\n",
    "            alpha=0.8, label=\"Cities\")\n",
    "\n",
    "# Incorporate the other graph properties.\n",
    "plt.title(f\"City Latitude vs. Cloudiness (%) \"+ time.strftime(\"%x\"))\n",
    "plt.ylabel(\"Cloudiness (%)\")\n",
    "plt.xlabel(\"Latitude\")\n",
    "plt.grid(True)\n",
    "# Save the figure.\n",
    "plt.savefig(\"weather_data/Fig3.png\")\n",
    "# Show plot.\n",
    "plt.show()"
   ]
  },
  {
   "cell_type": "code",
   "execution_count": 35,
   "metadata": {},
   "outputs": [
    {
     "data": {
      "image/png": "[encoded data removed]",
      "text/plain": [
       "<Figure size 432x288 with 1 Axes>"
      ]
     },
     "metadata": {
      "needs_background": "light"
     },
     "output_type": "display_data"
    }
   ],
   "source": [
    "# Build the scatter plots for latitude vs. wind speed.\n",
    "plt.scatter(lats,\n",
    "            wind_speed,\n",
    "            edgecolor=\"black\", linewidths=1, marker=\"o\",\n",
    "            alpha=0.8, label=\"Cities\")\n",
    "\n",
    "# Incorporate the other graph properties.\n",
    "plt.title(f\"City Latitude vs. Wind Speed \"+ time.strftime(\"%x\"))\n",
    "plt.ylabel(\"Wind Speed (mph)\")\n",
    "plt.xlabel(\"Latitude\")\n",
    "plt.grid(True)\n",
    "# Save the figure.\n",
    "plt.savefig(\"weather_data/Fig4.png\")\n",
    "# Show plot.\n",
    "plt.show()"
   ]
  },
  {
   "cell_type": "code",
   "execution_count": 36,
   "metadata": {},
   "outputs": [],
   "source": [
    "from scipy.stats import linregress"
   ]
  },
  {
   "cell_type": "code",
   "execution_count": 37,
   "metadata": {},
   "outputs": [],
   "source": [
    "# Create a function to create perform linear regression on the weather data\n",
    "# and plot a regression line and the equation with the data.\n",
    "# def plot_linear_regression(x_values, y_values, title, y_label, text_coordinates):\n",
    "\n",
    "# Import linregress\n",
    "#     from scipy.stats import linregress\n",
    "\n",
    "# Create a function to create perform linear regression on the weather data\n",
    "# and plot a regression line and the equation with the data.\n",
    "def plot_linear_regression(x_values, y_values, title, y_label, text_coordinates):\n",
    "\n",
    "    # Run regression on hemisphere weather data.\n",
    "    (slope, intercept, r_value, p_value, std_err) = linregress(x_values, y_values)\n",
    "\n",
    "    # Calculate the regression line \"y values\" from the slope and intercept.\n",
    "    regress_values = x_values * slope + intercept\n",
    "    # Get the equation of the line.\n",
    "    line_eq = \"y = \" + str(round(slope,2)) + \"x + \" + str(round(intercept,2))\n",
    "    # Create a scatter plot and plot the regression line.\n",
    "    plt.scatter(x_values,y_values)\n",
    "    plt.plot(x_values,regress_values,\"r\")\n",
    "    # Annotate the text for the line equation.\n",
    "    plt.annotate(line_eq, text_coordinates, fontsize=15, color=\"red\")\n",
    "    plt.xlabel('Latitude')\n",
    "    plt.ylabel(y_label)\n",
    "    plt.show()"
   ]
  },
  {
   "cell_type": "code",
   "execution_count": 38,
   "metadata": {},
   "outputs": [
    {
     "data": {
      "text/plain": [
       "City                      Sakakah\n",
       "Country                        SA\n",
       "Date          2021-01-11 22:54:51\n",
       "Lat                       29.9697\n",
       "Lng                       40.2064\n",
       "Max Temp                       50\n",
       "Humidity                       66\n",
       "Cloudiness                      0\n",
       "Wind Speed                   3.44\n",
       "Name: 13, dtype: object"
      ]
     },
     "execution_count": 38,
     "metadata": {},
     "output_type": "execute_result"
    }
   ],
   "source": [
    "index13 = city_data_df.loc[13]\n",
    "index13 \n"
   ]
  },
  {
   "cell_type": "code",
   "execution_count": 39,
   "metadata": {},
   "outputs": [
    {
     "data": {
      "text/plain": [
       "0      False\n",
       "1       True\n",
       "2       True\n",
       "3       True\n",
       "4       True\n",
       "       ...  \n",
       "533    False\n",
       "534     True\n",
       "535     True\n",
       "536     True\n",
       "537     True\n",
       "Name: Lat, Length: 538, dtype: bool"
      ]
     },
     "execution_count": 39,
     "metadata": {},
     "output_type": "execute_result"
    }
   ],
   "source": [
    "city_data_df[\"Lat\"] >= 0"
   ]
  },
  {
   "cell_type": "code",
   "execution_count": 40,
   "metadata": {},
   "outputs": [
    {
     "data": {
      "text/html": [
       "<div>\n",
       "<style scoped>\n",
       "    .dataframe tbody tr th:only-of-type {\n",
       "        vertical-align: middle;\n",
       "    }\n",
       "\n",
       "    .dataframe tbody tr th {\n",
       "        vertical-align: top;\n",
       "    }\n",
       "\n",
       "    .dataframe thead th {\n",
       "        text-align: right;\n",
       "    }\n",
       "</style>\n",
       "<table border=\"1\" class=\"dataframe\">\n",
       "  <thead>\n",
       "    <tr style=\"text-align: right;\">\n",
       "      <th></th>\n",
       "      <th>City</th>\n",
       "      <th>Country</th>\n",
       "      <th>Date</th>\n",
       "      <th>Lat</th>\n",
       "      <th>Lng</th>\n",
       "      <th>Max Temp</th>\n",
       "      <th>Humidity</th>\n",
       "      <th>Cloudiness</th>\n",
       "      <th>Wind Speed</th>\n",
       "    </tr>\n",
       "  </thead>\n",
       "  <tbody>\n",
       "    <tr>\n",
       "      <th>1</th>\n",
       "      <td>Pevek</td>\n",
       "      <td>RU</td>\n",
       "      <td>2021-01-11 22:55:35</td>\n",
       "      <td>69.7008</td>\n",
       "      <td>170.3133</td>\n",
       "      <td>-32.06</td>\n",
       "      <td>85</td>\n",
       "      <td>27</td>\n",
       "      <td>1.97</td>\n",
       "    </tr>\n",
       "    <tr>\n",
       "      <th>2</th>\n",
       "      <td>Iqaluit</td>\n",
       "      <td>CA</td>\n",
       "      <td>2021-01-11 22:55:35</td>\n",
       "      <td>63.7506</td>\n",
       "      <td>-68.5145</td>\n",
       "      <td>6.80</td>\n",
       "      <td>78</td>\n",
       "      <td>90</td>\n",
       "      <td>2.86</td>\n",
       "    </tr>\n",
       "    <tr>\n",
       "      <th>3</th>\n",
       "      <td>Tilichiki</td>\n",
       "      <td>RU</td>\n",
       "      <td>2021-01-11 22:55:37</td>\n",
       "      <td>60.4667</td>\n",
       "      <td>166.1000</td>\n",
       "      <td>-18.78</td>\n",
       "      <td>86</td>\n",
       "      <td>95</td>\n",
       "      <td>11.30</td>\n",
       "    </tr>\n",
       "    <tr>\n",
       "      <th>4</th>\n",
       "      <td>Tyup</td>\n",
       "      <td>KG</td>\n",
       "      <td>2021-01-11 22:55:37</td>\n",
       "      <td>42.7276</td>\n",
       "      <td>78.3648</td>\n",
       "      <td>19.62</td>\n",
       "      <td>78</td>\n",
       "      <td>0</td>\n",
       "      <td>3.09</td>\n",
       "    </tr>\n",
       "    <tr>\n",
       "      <th>5</th>\n",
       "      <td>Cherskiy</td>\n",
       "      <td>RU</td>\n",
       "      <td>2021-01-11 22:55:37</td>\n",
       "      <td>68.7500</td>\n",
       "      <td>161.3000</td>\n",
       "      <td>-34.85</td>\n",
       "      <td>82</td>\n",
       "      <td>0</td>\n",
       "      <td>1.41</td>\n",
       "    </tr>\n",
       "    <tr>\n",
       "      <th>...</th>\n",
       "      <td>...</td>\n",
       "      <td>...</td>\n",
       "      <td>...</td>\n",
       "      <td>...</td>\n",
       "      <td>...</td>\n",
       "      <td>...</td>\n",
       "      <td>...</td>\n",
       "      <td>...</td>\n",
       "      <td>...</td>\n",
       "    </tr>\n",
       "    <tr>\n",
       "      <th>532</th>\n",
       "      <td>Skerries</td>\n",
       "      <td>IE</td>\n",
       "      <td>2021-01-11 22:57:21</td>\n",
       "      <td>53.5828</td>\n",
       "      <td>-6.1083</td>\n",
       "      <td>48.99</td>\n",
       "      <td>93</td>\n",
       "      <td>75</td>\n",
       "      <td>16.11</td>\n",
       "    </tr>\n",
       "    <tr>\n",
       "      <th>534</th>\n",
       "      <td>Yenagoa</td>\n",
       "      <td>NG</td>\n",
       "      <td>2021-01-11 22:57:08</td>\n",
       "      <td>4.9247</td>\n",
       "      <td>6.2642</td>\n",
       "      <td>76.91</td>\n",
       "      <td>88</td>\n",
       "      <td>0</td>\n",
       "      <td>6.13</td>\n",
       "    </tr>\n",
       "    <tr>\n",
       "      <th>535</th>\n",
       "      <td>Fereydun Kenar</td>\n",
       "      <td>IR</td>\n",
       "      <td>2021-01-11 22:57:22</td>\n",
       "      <td>36.6864</td>\n",
       "      <td>52.5225</td>\n",
       "      <td>49.87</td>\n",
       "      <td>65</td>\n",
       "      <td>0</td>\n",
       "      <td>5.97</td>\n",
       "    </tr>\n",
       "    <tr>\n",
       "      <th>536</th>\n",
       "      <td>Glens Falls</td>\n",
       "      <td>US</td>\n",
       "      <td>2021-01-11 22:57:22</td>\n",
       "      <td>43.3095</td>\n",
       "      <td>-73.6440</td>\n",
       "      <td>26.01</td>\n",
       "      <td>93</td>\n",
       "      <td>90</td>\n",
       "      <td>2.55</td>\n",
       "    </tr>\n",
       "    <tr>\n",
       "      <th>537</th>\n",
       "      <td>Talnakh</td>\n",
       "      <td>RU</td>\n",
       "      <td>2021-01-11 22:57:22</td>\n",
       "      <td>69.4865</td>\n",
       "      <td>88.3972</td>\n",
       "      <td>-20.13</td>\n",
       "      <td>86</td>\n",
       "      <td>95</td>\n",
       "      <td>1.50</td>\n",
       "    </tr>\n",
       "  </tbody>\n",
       "</table>\n",
       "<p>375 rows × 9 columns</p>\n",
       "</div>"
      ],
      "text/plain": [
       "               City Country                 Date      Lat       Lng  Max Temp  \\\n",
       "1             Pevek      RU  2021-01-11 22:55:35  69.7008  170.3133    -32.06   \n",
       "2           Iqaluit      CA  2021-01-11 22:55:35  63.7506  -68.5145      6.80   \n",
       "3         Tilichiki      RU  2021-01-11 22:55:37  60.4667  166.1000    -18.78   \n",
       "4              Tyup      KG  2021-01-11 22:55:37  42.7276   78.3648     19.62   \n",
       "5          Cherskiy      RU  2021-01-11 22:55:37  68.7500  161.3000    -34.85   \n",
       "..              ...     ...                  ...      ...       ...       ...   \n",
       "532        Skerries      IE  2021-01-11 22:57:21  53.5828   -6.1083     48.99   \n",
       "534         Yenagoa      NG  2021-01-11 22:57:08   4.9247    6.2642     76.91   \n",
       "535  Fereydun Kenar      IR  2021-01-11 22:57:22  36.6864   52.5225     49.87   \n",
       "536     Glens Falls      US  2021-01-11 22:57:22  43.3095  -73.6440     26.01   \n",
       "537         Talnakh      RU  2021-01-11 22:57:22  69.4865   88.3972    -20.13   \n",
       "\n",
       "     Humidity  Cloudiness  Wind Speed  \n",
       "1          85          27        1.97  \n",
       "2          78          90        2.86  \n",
       "3          86          95       11.30  \n",
       "4          78           0        3.09  \n",
       "5          82           0        1.41  \n",
       "..        ...         ...         ...  \n",
       "532        93          75       16.11  \n",
       "534        88           0        6.13  \n",
       "535        65           0        5.97  \n",
       "536        93          90        2.55  \n",
       "537        86          95        1.50  \n",
       "\n",
       "[375 rows x 9 columns]"
      ]
     },
     "execution_count": 40,
     "metadata": {},
     "output_type": "execute_result"
    }
   ],
   "source": [
    "#return a dataframe with all data fitting the criteria for lats greate than or equal to zero \n",
    "city_data_df.loc[(city_data_df[\"Lat\"] >= 0)]"
   ]
  },
  {
   "cell_type": "code",
   "execution_count": 41,
   "metadata": {},
   "outputs": [],
   "source": [
    "northern_hemi_df = city_data_df.loc[(city_data_df[\"Lat\"] >= 0)].head()"
   ]
  },
  {
   "cell_type": "code",
   "execution_count": 42,
   "metadata": {},
   "outputs": [],
   "source": [
    "# Create Northern and Southern Hemisphere DataFrames.\n",
    "northern_hemi_df = city_data_df.loc[(city_data_df[\"Lat\"] >= 0)]\n",
    "southern_hemi_df = city_data_df.loc[(city_data_df[\"Lat\"] < 0)]"
   ]
  },
  {
   "cell_type": "code",
   "execution_count": 43,
   "metadata": {},
   "outputs": [
    {
     "data": {
      "image/png": "[encoded data removed]",
      "text/plain": [
       "<Figure size 432x288 with 1 Axes>"
      ]
     },
     "metadata": {
      "needs_background": "light"
     },
     "output_type": "display_data"
    }
   ],
   "source": [
    "# Linear regression on the Northern Hemisphere\n",
    "x_values = northern_hemi_df[\"Lat\"]\n",
    "y_values = northern_hemi_df[\"Max Temp\"]\n",
    "# Call the function.\n",
    "plot_linear_regression(x_values, y_values,\n",
    "                       'Linear Regression on the Northern Hemisphere \\\n",
    "                        for Maximum Temperature', 'Max Temp',(10,40))"
   ]
  },
  {
   "cell_type": "code",
   "execution_count": 44,
   "metadata": {},
   "outputs": [
    {
     "data": {
      "image/png": "[encoded data removed]",
      "text/plain": [
       "<Figure size 432x288 with 1 Axes>"
      ]
     },
     "metadata": {
      "needs_background": "light"
     },
     "output_type": "display_data"
    }
   ],
   "source": [
    "# Linear regression on the Southern Hemisphere\n",
    "x_values = southern_hemi_df[\"Lat\"]\n",
    "y_values = southern_hemi_df[\"Max Temp\"]\n",
    "# Call the function.\n",
    "plot_linear_regression(x_values, y_values,\n",
    "                       'Linear Regression on the Southern Hemisphere \\\n",
    "                        for Maximum Temperature', 'Max Temp',(-50,90))"
   ]
  },
  {
   "cell_type": "code",
   "execution_count": 45,
   "metadata": {},
   "outputs": [
    {
     "data": {
      "image/png": "[encoded data removed]",
      "text/plain": [
       "<Figure size 432x288 with 1 Axes>"
      ]
     },
     "metadata": {
      "needs_background": "light"
     },
     "output_type": "display_data"
    }
   ],
   "source": [
    "# Linear regression on the Northern Hemisphere\n",
    "x_values = northern_hemi_df[\"Lat\"]\n",
    "y_values = northern_hemi_df[\"Humidity\"]\n",
    "# Call the function.\n",
    "plot_linear_regression(x_values, y_values,\n",
    "                       'Linear Regression on the Northern Hemisphere \\\n",
    "                        for % Humidity', '% Humidity',(40,10))"
   ]
  },
  {
   "cell_type": "code",
   "execution_count": 46,
   "metadata": {},
   "outputs": [
    {
     "data": {
      "image/png": "[encoded data removed]",
      "text/plain": [
       "<Figure size 432x288 with 1 Axes>"
      ]
     },
     "metadata": {
      "needs_background": "light"
     },
     "output_type": "display_data"
    }
   ],
   "source": [
    "# Linear regression on the Southern Hemisphere\n",
    "x_values = southern_hemi_df[\"Lat\"]\n",
    "y_values = southern_hemi_df[\"Humidity\"]\n",
    "# Call the function.\n",
    "plot_linear_regression(x_values, y_values,\n",
    "                       'Linear Regression on the Southern Hemisphere \\\n",
    "                        for % Humidity', '% Humidity',(-50,15))"
   ]
  },
  {
   "cell_type": "code",
   "execution_count": 47,
   "metadata": {},
   "outputs": [
    {
     "data": {
      "image/png": "[encoded data removed]",
      "text/plain": [
       "<Figure size 432x288 with 1 Axes>"
      ]
     },
     "metadata": {
      "needs_background": "light"
     },
     "output_type": "display_data"
    }
   ],
   "source": [
    "# Linear regression on the Northern Hemisphere\n",
    "x_values = northern_hemi_df[\"Lat\"]\n",
    "y_values = northern_hemi_df[\"Cloudiness\"]\n",
    "# Call the function.\n",
    "plot_linear_regression(x_values, y_values,\n",
    "                       'Linear Regression on the Northern Hemisphere \\\n",
    "                        for % Cloudiness', '% Cloudiness',(40,10))"
   ]
  },
  {
   "cell_type": "code",
   "execution_count": 48,
   "metadata": {},
   "outputs": [
    {
     "data": {
      "image/png": "[encoded data removed]",
      "text/plain": [
       "<Figure size 432x288 with 1 Axes>"
      ]
     },
     "metadata": {
      "needs_background": "light"
     },
     "output_type": "display_data"
    }
   ],
   "source": [
    "# Linear regression on the Southern Hemisphere\n",
    "x_values = southern_hemi_df[\"Lat\"]\n",
    "y_values = southern_hemi_df[\"Cloudiness\"]\n",
    "# Call the function.\n",
    "plot_linear_regression(x_values, y_values,\n",
    "                       'Linear Regression on the Southern Hemisphere \\\n",
    "                        for % Cloudiness', '% Cloudiness',(-50,60))"
   ]
  },
  {
   "cell_type": "code",
   "execution_count": 49,
   "metadata": {},
   "outputs": [
    {
     "data": {
      "image/png": "[encoded data removed]",
      "text/plain": [
       "<Figure size 432x288 with 1 Axes>"
      ]
     },
     "metadata": {
      "needs_background": "light"
     },
     "output_type": "display_data"
    }
   ],
   "source": [
    "# Linear regression on the Northern Hemisphere\n",
    "x_values = northern_hemi_df[\"Lat\"]\n",
    "y_values = northern_hemi_df[\"Wind Speed\"]\n",
    "# Call the function.\n",
    "plot_linear_regression(x_values, y_values,\n",
    "                       'Linear Regression on the Northern Hemisphere \\\n",
    "                        for Wind Speed', 'Wind Speed',(40,35))"
   ]
  },
  {
   "cell_type": "code",
   "execution_count": 50,
   "metadata": {},
   "outputs": [
    {
     "data": {
      "image/png": "[encoded data removed]",
      "text/plain": [
       "<Figure size 432x288 with 1 Axes>"
      ]
     },
     "metadata": {
      "needs_background": "light"
     },
     "output_type": "display_data"
    }
   ],
   "source": [
    "# Linear regression on the Southern Hemisphere\n",
    "x_values = southern_hemi_df[\"Lat\"]\n",
    "y_values = southern_hemi_df[\"Wind Speed\"]\n",
    "# Call the function.\n",
    "plot_linear_regression(x_values, y_values,\n",
    "                       'Linear Regression on the Southern Hemisphere \\\n",
    "                        for Wind Speed', 'Wind Speed',(-50,35))"
   ]
  },
  {
   "cell_type": "code",
   "execution_count": 51,
   "metadata": {},
   "outputs": [],
   "source": [
    "# Import the dependencies.\n",
    "import pandas as pd\n",
    "import gmaps\n",
    "import requests\n",
    "# Import the API key.\n",
    "from config import g_key"
   ]
  },
  {
   "cell_type": "code",
   "execution_count": 52,
   "metadata": {},
   "outputs": [
    {
     "data": {
      "text/html": [
       "<div>\n",
       "<style scoped>\n",
       "    .dataframe tbody tr th:only-of-type {\n",
       "        vertical-align: middle;\n",
       "    }\n",
       "\n",
       "    .dataframe tbody tr th {\n",
       "        vertical-align: top;\n",
       "    }\n",
       "\n",
       "    .dataframe thead th {\n",
       "        text-align: right;\n",
       "    }\n",
       "</style>\n",
       "<table border=\"1\" class=\"dataframe\">\n",
       "  <thead>\n",
       "    <tr style=\"text-align: right;\">\n",
       "      <th></th>\n",
       "      <th>City_ID</th>\n",
       "      <th>City</th>\n",
       "      <th>Country</th>\n",
       "      <th>Date</th>\n",
       "      <th>Lat</th>\n",
       "      <th>Lng</th>\n",
       "      <th>Max Temp</th>\n",
       "      <th>Humidity</th>\n",
       "      <th>Cloudiness</th>\n",
       "      <th>Wind Speed</th>\n",
       "    </tr>\n",
       "  </thead>\n",
       "  <tbody>\n",
       "    <tr>\n",
       "      <th>0</th>\n",
       "      <td>0</td>\n",
       "      <td>Samarai</td>\n",
       "      <td>PG</td>\n",
       "      <td>2021-01-11 22:55:35</td>\n",
       "      <td>-10.6167</td>\n",
       "      <td>150.6667</td>\n",
       "      <td>85.15</td>\n",
       "      <td>71</td>\n",
       "      <td>98</td>\n",
       "      <td>8.08</td>\n",
       "    </tr>\n",
       "    <tr>\n",
       "      <th>1</th>\n",
       "      <td>1</td>\n",
       "      <td>Pevek</td>\n",
       "      <td>RU</td>\n",
       "      <td>2021-01-11 22:55:35</td>\n",
       "      <td>69.7008</td>\n",
       "      <td>170.3133</td>\n",
       "      <td>-32.06</td>\n",
       "      <td>85</td>\n",
       "      <td>27</td>\n",
       "      <td>1.97</td>\n",
       "    </tr>\n",
       "    <tr>\n",
       "      <th>2</th>\n",
       "      <td>2</td>\n",
       "      <td>Iqaluit</td>\n",
       "      <td>CA</td>\n",
       "      <td>2021-01-11 22:55:35</td>\n",
       "      <td>63.7506</td>\n",
       "      <td>-68.5145</td>\n",
       "      <td>6.80</td>\n",
       "      <td>78</td>\n",
       "      <td>90</td>\n",
       "      <td>2.86</td>\n",
       "    </tr>\n",
       "    <tr>\n",
       "      <th>3</th>\n",
       "      <td>3</td>\n",
       "      <td>Tilichiki</td>\n",
       "      <td>RU</td>\n",
       "      <td>2021-01-11 22:55:37</td>\n",
       "      <td>60.4667</td>\n",
       "      <td>166.1000</td>\n",
       "      <td>-18.78</td>\n",
       "      <td>86</td>\n",
       "      <td>95</td>\n",
       "      <td>11.30</td>\n",
       "    </tr>\n",
       "    <tr>\n",
       "      <th>4</th>\n",
       "      <td>4</td>\n",
       "      <td>Tyup</td>\n",
       "      <td>KG</td>\n",
       "      <td>2021-01-11 22:55:37</td>\n",
       "      <td>42.7276</td>\n",
       "      <td>78.3648</td>\n",
       "      <td>19.62</td>\n",
       "      <td>78</td>\n",
       "      <td>0</td>\n",
       "      <td>3.09</td>\n",
       "    </tr>\n",
       "  </tbody>\n",
       "</table>\n",
       "</div>"
      ],
      "text/plain": [
       "   City_ID       City Country                 Date      Lat       Lng  \\\n",
       "0        0    Samarai      PG  2021-01-11 22:55:35 -10.6167  150.6667   \n",
       "1        1      Pevek      RU  2021-01-11 22:55:35  69.7008  170.3133   \n",
       "2        2    Iqaluit      CA  2021-01-11 22:55:35  63.7506  -68.5145   \n",
       "3        3  Tilichiki      RU  2021-01-11 22:55:37  60.4667  166.1000   \n",
       "4        4       Tyup      KG  2021-01-11 22:55:37  42.7276   78.3648   \n",
       "\n",
       "   Max Temp  Humidity  Cloudiness  Wind Speed  \n",
       "0     85.15        71          98        8.08  \n",
       "1    -32.06        85          27        1.97  \n",
       "2      6.80        78          90        2.86  \n",
       "3    -18.78        86          95       11.30  \n",
       "4     19.62        78           0        3.09  "
      ]
     },
     "execution_count": 52,
     "metadata": {},
     "output_type": "execute_result"
    }
   ],
   "source": [
    "# Store the CSV you saved created in part one into a DataFrame.\n",
    "city_data_df = pd.read_csv(\"weather_data/cities.csv\")\n",
    "city_data_df.head()"
   ]
  },
  {
   "cell_type": "code",
   "execution_count": 53,
   "metadata": {},
   "outputs": [
    {
     "data": {
      "text/plain": [
       "City_ID         int64\n",
       "City           object\n",
       "Country        object\n",
       "Date           object\n",
       "Lat           float64\n",
       "Lng           float64\n",
       "Max Temp      float64\n",
       "Humidity        int64\n",
       "Cloudiness      int64\n",
       "Wind Speed    float64\n",
       "dtype: object"
      ]
     },
     "execution_count": 53,
     "metadata": {},
     "output_type": "execute_result"
    }
   ],
   "source": [
    "city_data_df.dtypes"
   ]
  },
  {
   "cell_type": "code",
   "execution_count": 54,
   "metadata": {},
   "outputs": [],
   "source": [
    "# Configure gmaps to use your Google API key.\n",
    "gmaps.configure(api_key=g_key)"
   ]
  },
  {
   "cell_type": "code",
   "execution_count": 55,
   "metadata": {},
   "outputs": [],
   "source": [
    "# Get the maximum temperature.\n",
    "max_temp = city_data_df[\"Max Temp\"]\n",
    "temps = []\n",
    "for temp in max_temp:\n",
    "    temps.append(max(temp, 0))"
   ]
  },
  {
   "cell_type": "code",
   "execution_count": 56,
   "metadata": {},
   "outputs": [
    {
     "data": {
      "application/vnd.jupyter.widget-view+json": {
       "model_id": "da603c1d0ee14eef95d9934a87933c85",
       "version_major": 2,
       "version_minor": 0
      },
      "text/plain": [
       "Figure(layout=FigureLayout(height='420px'))"
      ]
     },
     "metadata": {},
     "output_type": "display_data"
    }
   ],
   "source": [
    "# Heatmap of temperature\n",
    "# Get the latitude and longitude.\n",
    "locations = city_data_df[[\"Lat\", \"Lng\"]]\n",
    "# Get the maximum temperature.\n",
    "max_temp = city_data_df[\"Max Temp\"]\n",
    "# Assign the figure variable.\n",
    "fig = gmaps.figure()\n",
    "# add a zoom level\n",
    "fig = gmaps.figure(center=(30.0, 31.0), zoom_level=1.5)\n",
    "# Assign the heatmap variable.\n",
    "#heat_layer = gmaps.heatmap_layer(locations, weights=temps)\n",
    "#heat_layer = gmaps.heatmap_layer(locations, weights=[max(temp, 0) for temp in max_temp])\n",
    "heat_layer = gmaps.heatmap_layer(locations, weights=temps, dissipating=False, max_intensity=300, point_radius=4)\n",
    "# Add the heatmap layer.\n",
    "fig.add_layer(heat_layer)\n",
    "\n",
    "# Call the figure to plot the data.\n",
    "fig"
   ]
  },
  {
   "cell_type": "code",
   "execution_count": 57,
   "metadata": {},
   "outputs": [
    {
     "data": {
      "application/vnd.jupyter.widget-view+json": {
       "model_id": "07c90c7c54d442e08b88016eaded9fe6",
       "version_major": 2,
       "version_minor": 0
      },
      "text/plain": [
       "Figure(layout=FigureLayout(height='420px'))"
      ]
     },
     "metadata": {},
     "output_type": "display_data"
    }
   ],
   "source": [
    "# Heatmap of percent humidity\n",
    "locations = city_data_df[[\"Lat\", \"Lng\"]]\n",
    "humidity = city_data_df[\"Humidity\"]\n",
    "fig = gmaps.figure(center=(30.0, 31.0), zoom_level=1.5)\n",
    "heat_layer = gmaps.heatmap_layer(locations, weights=humidity, dissipating=False, max_intensity=300, point_radius=4)\n",
    "\n",
    "fig.add_layer(heat_layer)\n",
    "# Call the figure to plot the data.\n",
    "fig"
   ]
  },
  {
   "cell_type": "code",
   "execution_count": 58,
   "metadata": {},
   "outputs": [
    {
     "data": {
      "application/vnd.jupyter.widget-view+json": {
       "model_id": "1a936bd161da4042b77a4c5c58de3fc1",
       "version_major": 2,
       "version_minor": 0
      },
      "text/plain": [
       "Figure(layout=FigureLayout(height='420px'))"
      ]
     },
     "metadata": {},
     "output_type": "display_data"
    }
   ],
   "source": [
    "# Heatmap of percent humidity\n",
    "locations = city_data_df[[\"Lat\", \"Lng\"]]\n",
    "wind = city_data_df[\"Wind Speed\"]\n",
    "fig = gmaps.figure(center=(30.0, 31.0), zoom_level=1.5)\n",
    "heat_layer = gmaps.heatmap_layer(locations, weights=wind, dissipating=False, max_intensity=300, point_radius=4)\n",
    "\n",
    "fig.add_layer(heat_layer)\n",
    "# Call the figure to plot the data.\n",
    "fig"
   ]
  },
  {
   "cell_type": "code",
   "execution_count": 59,
   "metadata": {},
   "outputs": [
    {
     "name": "stdout",
     "output_type": "stream",
     "text": [
      "What is the minimum temperature you would like for your trip? 75\n",
      "What is the maximum temperature you would like for your trip? 90\n"
     ]
    }
   ],
   "source": [
    "# Ask the customer to add a minimum and maximum temperature value.\n",
    "min_temp = float(input(\"What is the minimum temperature you would like for your trip? \"))\n",
    "max_temp = float(input(\"What is the maximum temperature you would like for your trip? \"))"
   ]
  },
  {
   "cell_type": "code",
   "execution_count": 60,
   "metadata": {},
   "outputs": [
    {
     "data": {
      "text/html": [
       "<div>\n",
       "<style scoped>\n",
       "    .dataframe tbody tr th:only-of-type {\n",
       "        vertical-align: middle;\n",
       "    }\n",
       "\n",
       "    .dataframe tbody tr th {\n",
       "        vertical-align: top;\n",
       "    }\n",
       "\n",
       "    .dataframe thead th {\n",
       "        text-align: right;\n",
       "    }\n",
       "</style>\n",
       "<table border=\"1\" class=\"dataframe\">\n",
       "  <thead>\n",
       "    <tr style=\"text-align: right;\">\n",
       "      <th></th>\n",
       "      <th>City_ID</th>\n",
       "      <th>City</th>\n",
       "      <th>Country</th>\n",
       "      <th>Date</th>\n",
       "      <th>Lat</th>\n",
       "      <th>Lng</th>\n",
       "      <th>Max Temp</th>\n",
       "      <th>Humidity</th>\n",
       "      <th>Cloudiness</th>\n",
       "      <th>Wind Speed</th>\n",
       "    </tr>\n",
       "  </thead>\n",
       "  <tbody>\n",
       "    <tr>\n",
       "      <th>0</th>\n",
       "      <td>0</td>\n",
       "      <td>Samarai</td>\n",
       "      <td>PG</td>\n",
       "      <td>2021-01-11 22:55:35</td>\n",
       "      <td>-10.6167</td>\n",
       "      <td>150.6667</td>\n",
       "      <td>85.15</td>\n",
       "      <td>71</td>\n",
       "      <td>98</td>\n",
       "      <td>8.08</td>\n",
       "    </tr>\n",
       "    <tr>\n",
       "      <th>9</th>\n",
       "      <td>9</td>\n",
       "      <td>Atuona</td>\n",
       "      <td>PF</td>\n",
       "      <td>2021-01-11 22:55:38</td>\n",
       "      <td>-9.8000</td>\n",
       "      <td>-139.0333</td>\n",
       "      <td>77.43</td>\n",
       "      <td>81</td>\n",
       "      <td>5</td>\n",
       "      <td>16.26</td>\n",
       "    </tr>\n",
       "    <tr>\n",
       "      <th>20</th>\n",
       "      <td>20</td>\n",
       "      <td>Mount Isa</td>\n",
       "      <td>AU</td>\n",
       "      <td>2021-01-11 22:55:39</td>\n",
       "      <td>-20.7333</td>\n",
       "      <td>139.5000</td>\n",
       "      <td>87.80</td>\n",
       "      <td>48</td>\n",
       "      <td>1</td>\n",
       "      <td>8.05</td>\n",
       "    </tr>\n",
       "    <tr>\n",
       "      <th>23</th>\n",
       "      <td>23</td>\n",
       "      <td>Faanui</td>\n",
       "      <td>PF</td>\n",
       "      <td>2021-01-11 22:55:40</td>\n",
       "      <td>-16.4833</td>\n",
       "      <td>-151.7500</td>\n",
       "      <td>81.36</td>\n",
       "      <td>76</td>\n",
       "      <td>100</td>\n",
       "      <td>21.25</td>\n",
       "    </tr>\n",
       "    <tr>\n",
       "      <th>27</th>\n",
       "      <td>27</td>\n",
       "      <td>Marawi</td>\n",
       "      <td>PH</td>\n",
       "      <td>2021-01-11 22:55:40</td>\n",
       "      <td>7.9986</td>\n",
       "      <td>124.2928</td>\n",
       "      <td>75.00</td>\n",
       "      <td>95</td>\n",
       "      <td>85</td>\n",
       "      <td>3.00</td>\n",
       "    </tr>\n",
       "    <tr>\n",
       "      <th>28</th>\n",
       "      <td>28</td>\n",
       "      <td>Saint-Philippe</td>\n",
       "      <td>RE</td>\n",
       "      <td>2021-01-11 22:55:40</td>\n",
       "      <td>-21.3585</td>\n",
       "      <td>55.7679</td>\n",
       "      <td>77.00</td>\n",
       "      <td>88</td>\n",
       "      <td>20</td>\n",
       "      <td>4.61</td>\n",
       "    </tr>\n",
       "    <tr>\n",
       "      <th>39</th>\n",
       "      <td>39</td>\n",
       "      <td>Souillac</td>\n",
       "      <td>MU</td>\n",
       "      <td>2021-01-11 22:55:42</td>\n",
       "      <td>-20.5167</td>\n",
       "      <td>57.5167</td>\n",
       "      <td>78.80</td>\n",
       "      <td>94</td>\n",
       "      <td>40</td>\n",
       "      <td>18.41</td>\n",
       "    </tr>\n",
       "    <tr>\n",
       "      <th>42</th>\n",
       "      <td>42</td>\n",
       "      <td>Taganak</td>\n",
       "      <td>PH</td>\n",
       "      <td>2021-01-11 22:55:43</td>\n",
       "      <td>6.0833</td>\n",
       "      <td>118.3000</td>\n",
       "      <td>75.20</td>\n",
       "      <td>100</td>\n",
       "      <td>40</td>\n",
       "      <td>14.23</td>\n",
       "    </tr>\n",
       "    <tr>\n",
       "      <th>47</th>\n",
       "      <td>47</td>\n",
       "      <td>Cockburn Town</td>\n",
       "      <td>TC</td>\n",
       "      <td>2021-01-11 22:55:02</td>\n",
       "      <td>21.4612</td>\n",
       "      <td>-71.1419</td>\n",
       "      <td>78.80</td>\n",
       "      <td>73</td>\n",
       "      <td>40</td>\n",
       "      <td>11.50</td>\n",
       "    </tr>\n",
       "    <tr>\n",
       "      <th>48</th>\n",
       "      <td>48</td>\n",
       "      <td>Kahului</td>\n",
       "      <td>US</td>\n",
       "      <td>2021-01-11 22:55:44</td>\n",
       "      <td>20.8947</td>\n",
       "      <td>-156.4700</td>\n",
       "      <td>84.20</td>\n",
       "      <td>51</td>\n",
       "      <td>40</td>\n",
       "      <td>12.66</td>\n",
       "    </tr>\n",
       "  </tbody>\n",
       "</table>\n",
       "</div>"
      ],
      "text/plain": [
       "    City_ID            City Country                 Date      Lat       Lng  \\\n",
       "0         0         Samarai      PG  2021-01-11 22:55:35 -10.6167  150.6667   \n",
       "9         9          Atuona      PF  2021-01-11 22:55:38  -9.8000 -139.0333   \n",
       "20       20       Mount Isa      AU  2021-01-11 22:55:39 -20.7333  139.5000   \n",
       "23       23          Faanui      PF  2021-01-11 22:55:40 -16.4833 -151.7500   \n",
       "27       27          Marawi      PH  2021-01-11 22:55:40   7.9986  124.2928   \n",
       "28       28  Saint-Philippe      RE  2021-01-11 22:55:40 -21.3585   55.7679   \n",
       "39       39        Souillac      MU  2021-01-11 22:55:42 -20.5167   57.5167   \n",
       "42       42         Taganak      PH  2021-01-11 22:55:43   6.0833  118.3000   \n",
       "47       47   Cockburn Town      TC  2021-01-11 22:55:02  21.4612  -71.1419   \n",
       "48       48         Kahului      US  2021-01-11 22:55:44  20.8947 -156.4700   \n",
       "\n",
       "    Max Temp  Humidity  Cloudiness  Wind Speed  \n",
       "0      85.15        71          98        8.08  \n",
       "9      77.43        81           5       16.26  \n",
       "20     87.80        48           1        8.05  \n",
       "23     81.36        76         100       21.25  \n",
       "27     75.00        95          85        3.00  \n",
       "28     77.00        88          20        4.61  \n",
       "39     78.80        94          40       18.41  \n",
       "42     75.20       100          40       14.23  \n",
       "47     78.80        73          40       11.50  \n",
       "48     84.20        51          40       12.66  "
      ]
     },
     "execution_count": 60,
     "metadata": {},
     "output_type": "execute_result"
    }
   ],
   "source": [
    "# Filter the dataset to find the cities that fit the criteria.\n",
    "preferred_cities_df = city_data_df.loc[(city_data_df[\"Max Temp\"] <= max_temp) & \\\n",
    "                                       (city_data_df[\"Max Temp\"] >= min_temp)]\n",
    "preferred_cities_df.head(10)"
   ]
  },
  {
   "cell_type": "code",
   "execution_count": 61,
   "metadata": {},
   "outputs": [
    {
     "data": {
      "text/plain": [
       "City_ID       143\n",
       "City          143\n",
       "Country       143\n",
       "Date          143\n",
       "Lat           143\n",
       "Lng           143\n",
       "Max Temp      143\n",
       "Humidity      143\n",
       "Cloudiness    143\n",
       "Wind Speed    143\n",
       "dtype: int64"
      ]
     },
     "execution_count": 61,
     "metadata": {},
     "output_type": "execute_result"
    }
   ],
   "source": [
    "preferred_cities_df.count()"
   ]
  },
  {
   "cell_type": "code",
   "execution_count": 62,
   "metadata": {},
   "outputs": [
    {
     "data": {
      "text/html": [
       "<div>\n",
       "<style scoped>\n",
       "    .dataframe tbody tr th:only-of-type {\n",
       "        vertical-align: middle;\n",
       "    }\n",
       "\n",
       "    .dataframe tbody tr th {\n",
       "        vertical-align: top;\n",
       "    }\n",
       "\n",
       "    .dataframe thead th {\n",
       "        text-align: right;\n",
       "    }\n",
       "</style>\n",
       "<table border=\"1\" class=\"dataframe\">\n",
       "  <thead>\n",
       "    <tr style=\"text-align: right;\">\n",
       "      <th></th>\n",
       "      <th>City</th>\n",
       "      <th>Country</th>\n",
       "      <th>Max Temp</th>\n",
       "      <th>Lat</th>\n",
       "      <th>Lng</th>\n",
       "      <th>Hotel Name</th>\n",
       "    </tr>\n",
       "  </thead>\n",
       "  <tbody>\n",
       "    <tr>\n",
       "      <th>0</th>\n",
       "      <td>Samarai</td>\n",
       "      <td>PG</td>\n",
       "      <td>85.15</td>\n",
       "      <td>-10.6167</td>\n",
       "      <td>150.6667</td>\n",
       "      <td></td>\n",
       "    </tr>\n",
       "    <tr>\n",
       "      <th>9</th>\n",
       "      <td>Atuona</td>\n",
       "      <td>PF</td>\n",
       "      <td>77.43</td>\n",
       "      <td>-9.8000</td>\n",
       "      <td>-139.0333</td>\n",
       "      <td></td>\n",
       "    </tr>\n",
       "    <tr>\n",
       "      <th>20</th>\n",
       "      <td>Mount Isa</td>\n",
       "      <td>AU</td>\n",
       "      <td>87.80</td>\n",
       "      <td>-20.7333</td>\n",
       "      <td>139.5000</td>\n",
       "      <td></td>\n",
       "    </tr>\n",
       "    <tr>\n",
       "      <th>23</th>\n",
       "      <td>Faanui</td>\n",
       "      <td>PF</td>\n",
       "      <td>81.36</td>\n",
       "      <td>-16.4833</td>\n",
       "      <td>-151.7500</td>\n",
       "      <td></td>\n",
       "    </tr>\n",
       "    <tr>\n",
       "      <th>27</th>\n",
       "      <td>Marawi</td>\n",
       "      <td>PH</td>\n",
       "      <td>75.00</td>\n",
       "      <td>7.9986</td>\n",
       "      <td>124.2928</td>\n",
       "      <td></td>\n",
       "    </tr>\n",
       "    <tr>\n",
       "      <th>28</th>\n",
       "      <td>Saint-Philippe</td>\n",
       "      <td>RE</td>\n",
       "      <td>77.00</td>\n",
       "      <td>-21.3585</td>\n",
       "      <td>55.7679</td>\n",
       "      <td></td>\n",
       "    </tr>\n",
       "    <tr>\n",
       "      <th>39</th>\n",
       "      <td>Souillac</td>\n",
       "      <td>MU</td>\n",
       "      <td>78.80</td>\n",
       "      <td>-20.5167</td>\n",
       "      <td>57.5167</td>\n",
       "      <td></td>\n",
       "    </tr>\n",
       "    <tr>\n",
       "      <th>42</th>\n",
       "      <td>Taganak</td>\n",
       "      <td>PH</td>\n",
       "      <td>75.20</td>\n",
       "      <td>6.0833</td>\n",
       "      <td>118.3000</td>\n",
       "      <td></td>\n",
       "    </tr>\n",
       "    <tr>\n",
       "      <th>47</th>\n",
       "      <td>Cockburn Town</td>\n",
       "      <td>TC</td>\n",
       "      <td>78.80</td>\n",
       "      <td>21.4612</td>\n",
       "      <td>-71.1419</td>\n",
       "      <td></td>\n",
       "    </tr>\n",
       "    <tr>\n",
       "      <th>48</th>\n",
       "      <td>Kahului</td>\n",
       "      <td>US</td>\n",
       "      <td>84.20</td>\n",
       "      <td>20.8947</td>\n",
       "      <td>-156.4700</td>\n",
       "      <td></td>\n",
       "    </tr>\n",
       "  </tbody>\n",
       "</table>\n",
       "</div>"
      ],
      "text/plain": [
       "              City Country  Max Temp      Lat       Lng Hotel Name\n",
       "0          Samarai      PG     85.15 -10.6167  150.6667           \n",
       "9           Atuona      PF     77.43  -9.8000 -139.0333           \n",
       "20       Mount Isa      AU     87.80 -20.7333  139.5000           \n",
       "23          Faanui      PF     81.36 -16.4833 -151.7500           \n",
       "27          Marawi      PH     75.00   7.9986  124.2928           \n",
       "28  Saint-Philippe      RE     77.00 -21.3585   55.7679           \n",
       "39        Souillac      MU     78.80 -20.5167   57.5167           \n",
       "42         Taganak      PH     75.20   6.0833  118.3000           \n",
       "47   Cockburn Town      TC     78.80  21.4612  -71.1419           \n",
       "48         Kahului      US     84.20  20.8947 -156.4700           "
      ]
     },
     "execution_count": 62,
     "metadata": {},
     "output_type": "execute_result"
    }
   ],
   "source": [
    "# Create DataFrame called hotel_df to store hotel names along with city, country, max temp, and coordinates.\n",
    "hotel_df = preferred_cities_df[[\"City\", \"Country\", \"Max Temp\", \"Lat\", \"Lng\"]].copy()\n",
    "hotel_df[\"Hotel Name\"] = \"\"\n",
    "hotel_df.head(10)"
   ]
  },
  {
   "cell_type": "code",
   "execution_count": 63,
   "metadata": {},
   "outputs": [
    {
     "data": {
      "text/html": [
       "<div>\n",
       "<style scoped>\n",
       "    .dataframe tbody tr th:only-of-type {\n",
       "        vertical-align: middle;\n",
       "    }\n",
       "\n",
       "    .dataframe tbody tr th {\n",
       "        vertical-align: top;\n",
       "    }\n",
       "\n",
       "    .dataframe thead th {\n",
       "        text-align: right;\n",
       "    }\n",
       "</style>\n",
       "<table border=\"1\" class=\"dataframe\">\n",
       "  <thead>\n",
       "    <tr style=\"text-align: right;\">\n",
       "      <th></th>\n",
       "      <th>City</th>\n",
       "      <th>Country</th>\n",
       "      <th>Max Temp</th>\n",
       "      <th>Lat</th>\n",
       "      <th>Lng</th>\n",
       "      <th>Hotel Name</th>\n",
       "    </tr>\n",
       "  </thead>\n",
       "  <tbody>\n",
       "    <tr>\n",
       "      <th>0</th>\n",
       "      <td>Samarai</td>\n",
       "      <td>PG</td>\n",
       "      <td>85.15</td>\n",
       "      <td>-10.6167</td>\n",
       "      <td>150.6667</td>\n",
       "      <td></td>\n",
       "    </tr>\n",
       "    <tr>\n",
       "      <th>9</th>\n",
       "      <td>Atuona</td>\n",
       "      <td>PF</td>\n",
       "      <td>77.43</td>\n",
       "      <td>-9.8000</td>\n",
       "      <td>-139.0333</td>\n",
       "      <td></td>\n",
       "    </tr>\n",
       "    <tr>\n",
       "      <th>20</th>\n",
       "      <td>Mount Isa</td>\n",
       "      <td>AU</td>\n",
       "      <td>87.80</td>\n",
       "      <td>-20.7333</td>\n",
       "      <td>139.5000</td>\n",
       "      <td></td>\n",
       "    </tr>\n",
       "    <tr>\n",
       "      <th>23</th>\n",
       "      <td>Faanui</td>\n",
       "      <td>PF</td>\n",
       "      <td>81.36</td>\n",
       "      <td>-16.4833</td>\n",
       "      <td>-151.7500</td>\n",
       "      <td></td>\n",
       "    </tr>\n",
       "    <tr>\n",
       "      <th>27</th>\n",
       "      <td>Marawi</td>\n",
       "      <td>PH</td>\n",
       "      <td>75.00</td>\n",
       "      <td>7.9986</td>\n",
       "      <td>124.2928</td>\n",
       "      <td></td>\n",
       "    </tr>\n",
       "    <tr>\n",
       "      <th>28</th>\n",
       "      <td>Saint-Philippe</td>\n",
       "      <td>RE</td>\n",
       "      <td>77.00</td>\n",
       "      <td>-21.3585</td>\n",
       "      <td>55.7679</td>\n",
       "      <td></td>\n",
       "    </tr>\n",
       "    <tr>\n",
       "      <th>39</th>\n",
       "      <td>Souillac</td>\n",
       "      <td>MU</td>\n",
       "      <td>78.80</td>\n",
       "      <td>-20.5167</td>\n",
       "      <td>57.5167</td>\n",
       "      <td></td>\n",
       "    </tr>\n",
       "    <tr>\n",
       "      <th>42</th>\n",
       "      <td>Taganak</td>\n",
       "      <td>PH</td>\n",
       "      <td>75.20</td>\n",
       "      <td>6.0833</td>\n",
       "      <td>118.3000</td>\n",
       "      <td></td>\n",
       "    </tr>\n",
       "    <tr>\n",
       "      <th>47</th>\n",
       "      <td>Cockburn Town</td>\n",
       "      <td>TC</td>\n",
       "      <td>78.80</td>\n",
       "      <td>21.4612</td>\n",
       "      <td>-71.1419</td>\n",
       "      <td></td>\n",
       "    </tr>\n",
       "    <tr>\n",
       "      <th>48</th>\n",
       "      <td>Kahului</td>\n",
       "      <td>US</td>\n",
       "      <td>84.20</td>\n",
       "      <td>20.8947</td>\n",
       "      <td>-156.4700</td>\n",
       "      <td></td>\n",
       "    </tr>\n",
       "  </tbody>\n",
       "</table>\n",
       "</div>"
      ],
      "text/plain": [
       "              City Country  Max Temp      Lat       Lng Hotel Name\n",
       "0          Samarai      PG     85.15 -10.6167  150.6667           \n",
       "9           Atuona      PF     77.43  -9.8000 -139.0333           \n",
       "20       Mount Isa      AU     87.80 -20.7333  139.5000           \n",
       "23          Faanui      PF     81.36 -16.4833 -151.7500           \n",
       "27          Marawi      PH     75.00   7.9986  124.2928           \n",
       "28  Saint-Philippe      RE     77.00 -21.3585   55.7679           \n",
       "39        Souillac      MU     78.80 -20.5167   57.5167           \n",
       "42         Taganak      PH     75.20   6.0833  118.3000           \n",
       "47   Cockburn Town      TC     78.80  21.4612  -71.1419           \n",
       "48         Kahului      US     84.20  20.8947 -156.4700           "
      ]
     },
     "execution_count": 63,
     "metadata": {},
     "output_type": "execute_result"
    }
   ],
   "source": [
    "# Create DataFrame called hotel_df to store hotel names along with city, country, max temp, and coordinates.\n",
    "hotel_df = preferred_cities_df[[\"City\", \"Country\", \"Max Temp\", \"Lat\", \"Lng\"]].copy()\n",
    "hotel_df[\"Hotel Name\"] = \"\"\n",
    "hotel_df.head(10) "
   ]
  },
  {
   "cell_type": "code",
   "execution_count": 64,
   "metadata": {},
   "outputs": [],
   "source": [
    "# Set parameters to search for a hotel.\n",
    "params = {\n",
    "    \"radius\": 5000,\n",
    "    \"type\": \"lodging\",\n",
    "    \"key\": g_key\n",
    "}"
   ]
  },
  {
   "cell_type": "code",
   "execution_count": 74,
   "metadata": {},
   "outputs": [
    {
     "ename": "IndexError",
     "evalue": "list index out of range",
     "output_type": "error",
     "traceback": [
      "\u001b[1;31m---------------------------------------------------------------------------\u001b[0m",
      "\u001b[1;31mIndexError\u001b[0m                                Traceback (most recent call last)",
      "\u001b[1;32m<ipython-input-74-ed03c0401e29>\u001b[0m in \u001b[0;36m<module>\u001b[1;34m\u001b[0m\n\u001b[0;32m     13\u001b[0m     \u001b[0mhotels\u001b[0m \u001b[1;33m=\u001b[0m \u001b[0mrequests\u001b[0m\u001b[1;33m.\u001b[0m\u001b[0mget\u001b[0m\u001b[1;33m(\u001b[0m\u001b[0mbase_url\u001b[0m\u001b[1;33m,\u001b[0m \u001b[0mparams\u001b[0m\u001b[1;33m=\u001b[0m\u001b[0mparams\u001b[0m\u001b[1;33m)\u001b[0m\u001b[1;33m.\u001b[0m\u001b[0mjson\u001b[0m\u001b[1;33m(\u001b[0m\u001b[1;33m)\u001b[0m\u001b[1;33m\u001b[0m\u001b[1;33m\u001b[0m\u001b[0m\n\u001b[0;32m     14\u001b[0m     \u001b[1;31m# Grab the first hotel from the results and store the name.\u001b[0m\u001b[1;33m\u001b[0m\u001b[1;33m\u001b[0m\u001b[1;33m\u001b[0m\u001b[0m\n\u001b[1;32m---> 15\u001b[1;33m     \u001b[0mhotel_df\u001b[0m\u001b[1;33m.\u001b[0m\u001b[0mloc\u001b[0m\u001b[1;33m[\u001b[0m\u001b[0mindex\u001b[0m\u001b[1;33m,\u001b[0m \u001b[1;34m\"Hotel Name\"\u001b[0m\u001b[1;33m]\u001b[0m \u001b[1;33m=\u001b[0m \u001b[0mhotels\u001b[0m\u001b[1;33m[\u001b[0m\u001b[1;34m\"results\"\u001b[0m\u001b[1;33m]\u001b[0m\u001b[1;33m[\u001b[0m\u001b[1;36m0\u001b[0m\u001b[1;33m]\u001b[0m\u001b[1;33m[\u001b[0m\u001b[1;34m\"name\"\u001b[0m\u001b[1;33m]\u001b[0m\u001b[1;33m\u001b[0m\u001b[1;33m\u001b[0m\u001b[0m\n\u001b[0m\u001b[0;32m     16\u001b[0m     \u001b[1;31m# Grab the first hotel from the results and store the name.\u001b[0m\u001b[1;33m\u001b[0m\u001b[1;33m\u001b[0m\u001b[1;33m\u001b[0m\u001b[0m\n\u001b[0;32m     17\u001b[0m     \u001b[1;32mtry\u001b[0m\u001b[1;33m:\u001b[0m\u001b[1;33m\u001b[0m\u001b[1;33m\u001b[0m\u001b[0m\n",
      "\u001b[1;31mIndexError\u001b[0m: list index out of range"
     ]
    }
   ],
   "source": [
    "# Iterate through the DataFrame.\n",
    "for index, row in hotel_df.iterrows():\n",
    "    # Get the latitude and longitude.\n",
    "    lat = row[\"Lat\"]\n",
    "    lng = row[\"Lng\"]\n",
    "\n",
    "    # Add the latitude and longitude to location key for the params dictionary.\n",
    "    params[\"location\"] = f\"{lat},{lng}\"\n",
    "\n",
    "    # Use the search term: \"lodging\" and our latitude and longitude.\n",
    "    base_url = \"https://maps.googleapis.com/maps/api/place/nearbysearch/json\"\n",
    "    # Make request and get the JSON data from the search.\n",
    "    hotels = requests.get(base_url, params=params).json()\n",
    "    # Grab the first hotel from the results and store the name.\n",
    "    hotel_df.loc[index, \"Hotel Name\"] = hotels[\"results\"][0][\"name\"]\n",
    "    # Grab the first hotel from the results and store the name.\n",
    "    try:\n",
    "        hotel_df.loc[index, \"Hotel Name\"] = hotels[\"results\"][0][\"name\"]\n",
    "    except:\n",
    "        print(\"Hotel not found... skipping.\")\n",
    "                                                             \n",
    "        "
   ]
  },
  {
   "cell_type": "code",
   "execution_count": 66,
   "metadata": {},
   "outputs": [
    {
     "data": {
      "application/vnd.jupyter.widget-view+json": {
       "model_id": "d6451032d7ba474987bd6181928bbbda",
       "version_major": 2,
       "version_minor": 0
      },
      "text/plain": [
       "Figure(layout=FigureLayout(height='420px'))"
      ]
     },
     "metadata": {},
     "output_type": "display_data"
    }
   ],
   "source": [
    "# Add a heatmap of temperature for the vacation spots.\n",
    "locations = hotel_df[[\"Lat\", \"Lng\"]]\n",
    "max_temp = hotel_df[\"Max Temp\"]\n",
    "fig = gmaps.figure(center=(30.0, 31.0), zoom_level=1.5)\n",
    "heat_layer = gmaps.heatmap_layer(locations, weights=max_temp, dissipating=False,\n",
    "             max_intensity=300, point_radius=4)\n",
    "\n",
    "fig.add_layer(heat_layer)\n",
    "# Call the figure to plot the data.\n",
    "fig"
   ]
  },
  {
   "cell_type": "code",
   "execution_count": 67,
   "metadata": {},
   "outputs": [
    {
     "data": {
      "application/vnd.jupyter.widget-view+json": {
       "model_id": "899439bc7ac243298d53adfdf1cd8ae0",
       "version_major": 2,
       "version_minor": 0
      },
      "text/plain": [
       "Figure(layout=FigureLayout(height='420px'))"
      ]
     },
     "metadata": {},
     "output_type": "display_data"
    }
   ],
   "source": [
    "# Add a heatmap of temperature for the vacation spots and marker for each city.\n",
    "locations = hotel_df[[\"Lat\", \"Lng\"]]\n",
    "max_temp = hotel_df[\"Max Temp\"]\n",
    "fig = gmaps.figure(center=(30.0, 31.0), zoom_level=1.5)\n",
    "heat_layer = gmaps.heatmap_layer(locations, weights=max_temp,\n",
    "             dissipating=False, max_intensity=300, point_radius=4)\n",
    "marker_layer = gmaps.marker_layer(locations)\n",
    "fig.add_layer(heat_layer)\n",
    "fig.add_layer(marker_layer)\n",
    "# Call the figure to plot the data.\n",
    "fig"
   ]
  },
  {
   "cell_type": "code",
   "execution_count": 68,
   "metadata": {},
   "outputs": [],
   "source": [
    "info_box_template = \"\"\"\n",
    "<dl>\n",
    "<dt>Name</dt><dd>{column1}</dd>\n",
    "<dt>Another name</dt><dd>{column2}</dd>\n",
    "</dl>\n",
    "\"\"\""
   ]
  },
  {
   "cell_type": "code",
   "execution_count": 69,
   "metadata": {},
   "outputs": [],
   "source": [
    "info_box_template = \"\"\"\n",
    "<dl>\n",
    "<dt>Hotel Name</dt><dd>{Hotel Name}</dd>\n",
    "<dt>City</dt><dd>{City}</dd>\n",
    "<dt>Country</dt><dd>{Country}</dd>\n",
    "<dt>Max Temp</dt><dd>{Max Temp} °F</dd>\n",
    "</dl>\n",
    "\"\"\""
   ]
  },
  {
   "cell_type": "code",
   "execution_count": 70,
   "metadata": {},
   "outputs": [],
   "source": [
    "# Store the DataFrame Row.\n",
    "hotel_info = [info_box_template.format(**row) for index, row in hotel_df.iterrows()]"
   ]
  },
  {
   "cell_type": "code",
   "execution_count": 71,
   "metadata": {},
   "outputs": [
    {
     "data": {
      "application/vnd.jupyter.widget-view+json": {
       "model_id": "5d5437d94d6c4836be1fa4ead248f499",
       "version_major": 2,
       "version_minor": 0
      },
      "text/plain": [
       "Figure(layout=FigureLayout(height='420px'))"
      ]
     },
     "metadata": {},
     "output_type": "display_data"
    }
   ],
   "source": [
    "# Add a heatmap of temperature for the vacation spots and a pop-up marker for each city.\n",
    "locations = hotel_df[[\"Lat\", \"Lng\"]]\n",
    "max_temp = hotel_df[\"Max Temp\"]\n",
    "fig = gmaps.figure(center=(30.0, 31.0), zoom_level=1.5)\n",
    "heat_layer = gmaps.heatmap_layer(locations, weights=max_temp,dissipating=False,\n",
    "             max_intensity=300, point_radius=4)\n",
    "marker_layer = gmaps.marker_layer(locations, info_box_content=hotel_info)\n",
    "fig.add_layer(heat_layer)\n",
    "fig.add_layer(marker_layer)\n",
    "\n",
    "# Call the figure to plot the data.\n",
    "fig"
   ]
  },
  {
   "cell_type": "code",
   "execution_count": null,
   "metadata": {},
   "outputs": [],
   "source": []
  }
 ],
 "metadata": {
  "kernelspec": {
   "display_name": "PythonData",
   "language": "python",
   "name": "pythondata"
  },
  "language_info": {
   "codemirror_mode": {
    "name": "ipython",
    "version": 3
   },
   "file_extension": ".py",
   "mimetype": "text/x-python",
   "name": "python",
   "nbconvert_exporter": "python",
   "pygments_lexer": "ipython3",
   "version": "3.7.9"
  }
 },
 "nbformat": 4,
 "nbformat_minor": 4
}
