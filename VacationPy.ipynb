{
 "cells": [
  {
   "cell_type": "code",
   "execution_count": 1,
   "metadata": {},
   "outputs": [],
   "source": [
    "# import the dependencies \n",
    "import pandas as pd \n",
    "import matplotlib.pyplot as plt \n",
    "import numpy as np "
   ]
  },
  {
   "cell_type": "code",
   "execution_count": 2,
   "metadata": {},
   "outputs": [
    {
     "data": {
      "text/plain": [
       "<zip at 0x227065b4208>"
      ]
     },
     "execution_count": 2,
     "metadata": {},
     "output_type": "execute_result"
    }
   ],
   "source": [
    "# Create a set of random latitude and longitude combinations.\n",
    "lats = np.random.uniform(low=-90.000, high=90.000, size=1500)\n",
    "lngs = np.random.uniform(low=-180.000, high=180.000, size=1500)\n",
    "lat_lngs = zip(lats, lngs)\n",
    "lat_lngs"
   ]
  },
  {
   "cell_type": "code",
   "execution_count": 3,
   "metadata": {},
   "outputs": [],
   "source": [
    "# Add the latitudes and longitudes to a list.\n",
    "coordinates = list(lat_lngs)"
   ]
  },
  {
   "cell_type": "code",
   "execution_count": 4,
   "metadata": {},
   "outputs": [],
   "source": [
    "# Use the citipy module to determine city based on latitude and longitude.\n",
    "from citipy import citipy"
   ]
  },
  {
   "cell_type": "code",
   "execution_count": 5,
   "metadata": {},
   "outputs": [
    {
     "data": {
      "text/plain": [
       "611"
      ]
     },
     "execution_count": 5,
     "metadata": {},
     "output_type": "execute_result"
    }
   ],
   "source": [
    "# Create a list for holding the cities.\n",
    "cities = []\n",
    "# Identify the nearest city for each latitude and longitude combination.\n",
    "for coordinate in coordinates:\n",
    "    city = citipy.nearest_city(coordinate[0], coordinate[1]).city_name\n",
    "\n",
    "    # If the city is unique, then we will add it to the cities list.\n",
    "    if city not in cities:\n",
    "        cities.append(city)\n",
    "# Print the city count to confirm sufficient count.\n",
    "len(cities)"
   ]
  },
  {
   "cell_type": "code",
   "execution_count": 6,
   "metadata": {},
   "outputs": [],
   "source": [
    "import requests \n",
    "from config import weather_api_key"
   ]
  },
  {
   "cell_type": "code",
   "execution_count": 7,
   "metadata": {},
   "outputs": [
    {
     "name": "stdout",
     "output_type": "stream",
     "text": [
      "http://api.openweathermap.org/data/2.5/weather?units=Imperial&APPID=a77414ceb13dc7b7f8781106de8688af\n"
     ]
    }
   ],
   "source": [
    "# Starting URL for Weather Map API Call.\n",
    "url = \"http://api.openweathermap.org/data/2.5/weather?units=Imperial&APPID=\" + weather_api_key\n",
    "print(url)"
   ]
  },
  {
   "cell_type": "code",
   "execution_count": 8,
   "metadata": {},
   "outputs": [
    {
     "name": "stdout",
     "output_type": "stream",
     "text": [
      "http://api.openweathermap.org/data/2.5/weather?units=Imperial&APPID=a77414ceb13dc7b7f8781106de8688af&q=Boston\n"
     ]
    }
   ],
   "source": [
    "# Create an endpoint URL for a city.\n",
    "city_url = url + \"&q=\" + \"Boston\"\n",
    "print(city_url)"
   ]
  },
  {
   "cell_type": "code",
   "execution_count": 9,
   "metadata": {},
   "outputs": [
    {
     "data": {
      "text/plain": [
       "<Response [200]>"
      ]
     },
     "execution_count": 9,
     "metadata": {},
     "output_type": "execute_result"
    }
   ],
   "source": [
    "# Make a 'Get' request for the city weather.\n",
    "city_weather = requests.get(city_url)\n",
    "city_weather"
   ]
  },
  {
   "cell_type": "code",
   "execution_count": 10,
   "metadata": {},
   "outputs": [
    {
     "data": {
      "text/plain": [
       "<Response [404]>"
      ]
     },
     "execution_count": 10,
     "metadata": {},
     "output_type": "execute_result"
    }
   ],
   "source": [
    "# Create an endpoint URL for a city.\n",
    "city_url = url + \"&q=\" + \"Bston\"\n",
    "city_weather = requests.get(city_url)\n",
    "city_weather"
   ]
  },
  {
   "cell_type": "code",
   "execution_count": 11,
   "metadata": {},
   "outputs": [
    {
     "data": {
      "text/plain": [
       "<Response [200]>"
      ]
     },
     "execution_count": 11,
     "metadata": {},
     "output_type": "execute_result"
    }
   ],
   "source": [
    "# Create an endpoint URL for a city.\n",
    "city_url = url + \"&q=\" + \"Boston\"\n",
    "city_weather = requests.get(city_url)\n",
    "city_weather"
   ]
  },
  {
   "cell_type": "code",
   "execution_count": 12,
   "metadata": {},
   "outputs": [
    {
     "data": {
      "text/plain": [
       "'{\"coord\":{\"lon\":-71.0598,\"lat\":42.3584},\"weather\":[{\"id\":803,\"main\":\"Clouds\",\"description\":\"broken clouds\",\"icon\":\"04d\"}],\"base\":\"stations\",\"main\":{\"temp\":34.7,\"feels_like\":24.26,\"temp_min\":33.01,\"temp_max\":37,\"pressure\":1019,\"humidity\":64},\"visibility\":10000,\"wind\":{\"speed\":10.36,\"deg\":270},\"clouds\":{\"all\":75},\"dt\":1610464588,\"sys\":{\"type\":1,\"id\":3486,\"country\":\"US\",\"sunrise\":1610453510,\"sunset\":1610487184},\"timezone\":-18000,\"id\":4930956,\"name\":\"Boston\",\"cod\":200}'"
      ]
     },
     "execution_count": 12,
     "metadata": {},
     "output_type": "execute_result"
    }
   ],
   "source": [
    "# Get the text of the 'Get' request.\n",
    "city_weather.text"
   ]
  },
  {
   "cell_type": "code",
   "execution_count": 13,
   "metadata": {},
   "outputs": [
    {
     "data": {
      "text/plain": [
       "{'coord': {'lon': -71.0598, 'lat': 42.3584},\n",
       " 'weather': [{'id': 803,\n",
       "   'main': 'Clouds',\n",
       "   'description': 'broken clouds',\n",
       "   'icon': '04d'}],\n",
       " 'base': 'stations',\n",
       " 'main': {'temp': 34.7,\n",
       "  'feels_like': 24.26,\n",
       "  'temp_min': 33.01,\n",
       "  'temp_max': 37,\n",
       "  'pressure': 1019,\n",
       "  'humidity': 64},\n",
       " 'visibility': 10000,\n",
       " 'wind': {'speed': 10.36, 'deg': 270},\n",
       " 'clouds': {'all': 75},\n",
       " 'dt': 1610464588,\n",
       " 'sys': {'type': 1,\n",
       "  'id': 3486,\n",
       "  'country': 'US',\n",
       "  'sunrise': 1610453510,\n",
       "  'sunset': 1610487184},\n",
       " 'timezone': -18000,\n",
       " 'id': 4930956,\n",
       " 'name': 'Boston',\n",
       " 'cod': 200}"
      ]
     },
     "execution_count": 13,
     "metadata": {},
     "output_type": "execute_result"
    }
   ],
   "source": [
    "# Get the JSON text of the 'Get' request.\n",
    "city_weather.json()"
   ]
  },
  {
   "cell_type": "code",
   "execution_count": 14,
   "metadata": {},
   "outputs": [
    {
     "name": "stdout",
     "output_type": "stream",
     "text": [
      "City Weather found.\n"
     ]
    }
   ],
   "source": [
    "# Create an endpoint URL for a city.\n",
    "city_url = url + \"&q=\" + \"Boston\"\n",
    "city_weather = requests.get(city_url)\n",
    "if city_weather.status_code == 200:\n",
    "    print(f\"City Weather found.\")\n",
    "else:\n",
    "    print(f\"City weather not found.\")"
   ]
  },
  {
   "cell_type": "code",
   "execution_count": 15,
   "metadata": {},
   "outputs": [
    {
     "name": "stdout",
     "output_type": "stream",
     "text": [
      "City Weather found.\n"
     ]
    }
   ],
   "source": [
    "# Create an endpoint URL for a city.\n",
    "city_url = url + \"&q=\" + \"Boston\"\n",
    "city_weather = requests.get(city_url)\n",
    "if city_weather.json():\n",
    "    print(f\"City Weather found.\")\n",
    "else:\n",
    "    print(f\"City weather not found.\")"
   ]
  },
  {
   "cell_type": "code",
   "execution_count": 16,
   "metadata": {},
   "outputs": [
    {
     "name": "stdout",
     "output_type": "stream",
     "text": [
      "http://api.openweathermap.org/data/2.5/weather?units=Imperial&APPID=a77414ceb13dc7b7f8781106de8688af&q=Boston\n"
     ]
    }
   ],
   "source": [
    "print(city_url)"
   ]
  },
  {
   "cell_type": "code",
   "execution_count": 17,
   "metadata": {},
   "outputs": [
    {
     "data": {
      "text/plain": [
       "{'coord': {'lon': -71.0598, 'lat': 42.3584},\n",
       " 'weather': [{'id': 803,\n",
       "   'main': 'Clouds',\n",
       "   'description': 'broken clouds',\n",
       "   'icon': '04d'}],\n",
       " 'base': 'stations',\n",
       " 'main': {'temp': 34.7,\n",
       "  'feels_like': 24.26,\n",
       "  'temp_min': 33.01,\n",
       "  'temp_max': 37,\n",
       "  'pressure': 1019,\n",
       "  'humidity': 64},\n",
       " 'visibility': 10000,\n",
       " 'wind': {'speed': 10.36, 'deg': 270},\n",
       " 'clouds': {'all': 75},\n",
       " 'dt': 1610464588,\n",
       " 'sys': {'type': 1,\n",
       "  'id': 3486,\n",
       "  'country': 'US',\n",
       "  'sunrise': 1610453510,\n",
       "  'sunset': 1610487184},\n",
       " 'timezone': -18000,\n",
       " 'id': 4930956,\n",
       " 'name': 'Boston',\n",
       " 'cod': 200}"
      ]
     },
     "execution_count": 17,
     "metadata": {},
     "output_type": "execute_result"
    }
   ],
   "source": [
    "# Create an endpoint URL for a city.\n",
    "city_url = url + \"&q=\" + \"Boston\"\n",
    "city_weather = requests.get(city_url)\n",
    "city_weather.json()"
   ]
  },
  {
   "cell_type": "code",
   "execution_count": 18,
   "metadata": {},
   "outputs": [],
   "source": [
    "# Get the JSON data.\n",
    "boston_data = city_weather.json()"
   ]
  },
  {
   "cell_type": "code",
   "execution_count": 19,
   "metadata": {},
   "outputs": [
    {
     "data": {
      "text/plain": [
       "{'type': 1,\n",
       " 'id': 3486,\n",
       " 'country': 'US',\n",
       " 'sunrise': 1610453510,\n",
       " 'sunset': 1610487184}"
      ]
     },
     "execution_count": 19,
     "metadata": {},
     "output_type": "execute_result"
    }
   ],
   "source": [
    "boston_data[\"sys\"]"
   ]
  },
  {
   "cell_type": "code",
   "execution_count": 20,
   "metadata": {},
   "outputs": [
    {
     "data": {
      "text/plain": [
       "'US'"
      ]
     },
     "execution_count": 20,
     "metadata": {},
     "output_type": "execute_result"
    }
   ],
   "source": [
    "boston_data[\"sys\"][\"country\"]"
   ]
  },
  {
   "cell_type": "code",
   "execution_count": 21,
   "metadata": {},
   "outputs": [
    {
     "data": {
      "text/plain": [
       "1610464588"
      ]
     },
     "execution_count": 21,
     "metadata": {},
     "output_type": "execute_result"
    }
   ],
   "source": [
    "boston_data[\"dt\"]"
   ]
  },
  {
   "cell_type": "code",
   "execution_count": 22,
   "metadata": {},
   "outputs": [
    {
     "name": "stdout",
     "output_type": "stream",
     "text": [
      "42.3584 -71.0598 37 64 75 10.36\n"
     ]
    }
   ],
   "source": [
    "lat = boston_data[\"coord\"][\"lat\"]\n",
    "lng = boston_data[\"coord\"][\"lon\"]\n",
    "max_temp = boston_data[\"main\"][\"temp_max\"]\n",
    "humidity = boston_data[\"main\"][\"humidity\"]\n",
    "clouds = boston_data[\"clouds\"][\"all\"]\n",
    "wind = boston_data[\"wind\"][\"speed\"]\n",
    "print(lat, lng, max_temp, humidity, clouds, wind)"
   ]
  },
  {
   "cell_type": "code",
   "execution_count": 23,
   "metadata": {},
   "outputs": [
    {
     "data": {
      "text/plain": [
       "'2021-01-12 15:16:28'"
      ]
     },
     "execution_count": 23,
     "metadata": {},
     "output_type": "execute_result"
    }
   ],
   "source": [
    "# Import the datetime module from the datetime library.\n",
    "from datetime import datetime\n",
    "# Get the date from the JSON file.\n",
    "date = boston_data[\"dt\"]\n",
    "# Convert the UTC date to a date format with year, month, day, hours, minutes, and seconds.\n",
    "datetime.utcfromtimestamp(date).strftime('%Y-%m-%d %H:%M:%S')"
   ]
  },
  {
   "cell_type": "code",
   "execution_count": 24,
   "metadata": {},
   "outputs": [
    {
     "name": "stdout",
     "output_type": "stream",
     "text": [
      "Beginning Data Retrieval     \n",
      "-----------------------------\n"
     ]
    }
   ],
   "source": [
    "\n",
    "# Create an empty list to hold the weather data.\n",
    "city_data = []\n",
    "# Print the beginning of the logging.\n",
    "print(\"Beginning Data Retrieval     \")\n",
    "print(\"-----------------------------\")\n",
    "\n",
    "# Create counters.\n",
    "record_count = 1\n",
    "set_count = 1"
   ]
  },
  {
   "cell_type": "code",
   "execution_count": 25,
   "metadata": {},
   "outputs": [
    {
     "name": "stdout",
     "output_type": "stream",
     "text": [
      "Processing Record 1 of Set 1 | severo-kurilsk\n",
      "Processing Record 2 of Set 1 | ushuaia\n",
      "Processing Record 3 of Set 1 | olafsvik\n",
      "Processing Record 4 of Set 1 | mahebourg\n",
      "Processing Record 5 of Set 1 | upernavik\n",
      "Processing Record 6 of Set 1 | illoqqortoormiut\n",
      "City not found. Skipping...\n",
      "Processing Record 7 of Set 1 | barrow\n",
      "Processing Record 8 of Set 1 | dolbeau\n",
      "City not found. Skipping...\n",
      "Processing Record 9 of Set 1 | ballina\n",
      "Processing Record 10 of Set 1 | mys shmidta\n",
      "City not found. Skipping...\n",
      "Processing Record 11 of Set 1 | formosa do rio preto\n",
      "Processing Record 12 of Set 1 | spornoye\n",
      "Processing Record 13 of Set 1 | belushya guba\n",
      "City not found. Skipping...\n",
      "Processing Record 14 of Set 1 | rikitea\n",
      "Processing Record 15 of Set 1 | mackay\n",
      "Processing Record 16 of Set 1 | tuktoyaktuk\n",
      "Processing Record 17 of Set 1 | albany\n",
      "Processing Record 18 of Set 1 | lata\n",
      "Processing Record 19 of Set 1 | mormugao\n",
      "Processing Record 20 of Set 1 | chapais\n",
      "Processing Record 21 of Set 1 | tutoia\n",
      "Processing Record 22 of Set 1 | la ronge\n",
      "Processing Record 23 of Set 1 | provideniya\n",
      "Processing Record 24 of Set 1 | torbay\n",
      "Processing Record 25 of Set 1 | port alfred\n",
      "Processing Record 26 of Set 1 | amderma\n",
      "City not found. Skipping...\n",
      "Processing Record 27 of Set 1 | avarua\n",
      "Processing Record 28 of Set 1 | vao\n",
      "Processing Record 29 of Set 1 | staryy nadym\n",
      "Processing Record 30 of Set 1 | samusu\n",
      "City not found. Skipping...\n",
      "Processing Record 31 of Set 1 | brownfield\n",
      "Processing Record 32 of Set 1 | natitingou\n",
      "Processing Record 33 of Set 1 | aiquile\n",
      "Processing Record 34 of Set 1 | changuinola\n",
      "Processing Record 35 of Set 1 | pitimbu\n",
      "Processing Record 36 of Set 1 | palmas\n",
      "Processing Record 37 of Set 1 | cape town\n",
      "Processing Record 38 of Set 1 | araouane\n",
      "Processing Record 39 of Set 1 | yellowknife\n",
      "Processing Record 40 of Set 1 | thompson\n",
      "Processing Record 41 of Set 1 | el reno\n",
      "Processing Record 42 of Set 1 | koutiala\n",
      "Processing Record 43 of Set 1 | beringovskiy\n",
      "Processing Record 44 of Set 1 | santa rosa\n",
      "Processing Record 45 of Set 1 | gravelbourg\n",
      "Processing Record 46 of Set 1 | bukachacha\n",
      "Processing Record 47 of Set 1 | mataura\n",
      "Processing Record 48 of Set 1 | agsu\n",
      "City not found. Skipping...\n",
      "Processing Record 49 of Set 1 | borogontsy\n",
      "Processing Record 50 of Set 1 | jamestown\n",
      "Processing Record 1 of Set 2 | jalu\n",
      "Processing Record 2 of Set 2 | busselton\n",
      "Processing Record 3 of Set 2 | codrington\n",
      "Processing Record 4 of Set 2 | tamandare\n",
      "Processing Record 5 of Set 2 | shingu\n",
      "Processing Record 6 of Set 2 | muyezerskiy\n",
      "Processing Record 7 of Set 2 | mar del plata\n",
      "Processing Record 8 of Set 2 | roma\n",
      "Processing Record 9 of Set 2 | geraldton\n",
      "Processing Record 10 of Set 2 | quelimane\n",
      "Processing Record 11 of Set 2 | ossora\n",
      "Processing Record 12 of Set 2 | vila velha\n",
      "Processing Record 13 of Set 2 | port hedland\n",
      "Processing Record 14 of Set 2 | japura\n",
      "Processing Record 15 of Set 2 | kununurra\n",
      "Processing Record 16 of Set 2 | longlac\n",
      "City not found. Skipping...\n",
      "Processing Record 17 of Set 2 | hermanus\n",
      "Processing Record 18 of Set 2 | beruwala\n",
      "Processing Record 19 of Set 2 | cayenne\n",
      "Processing Record 20 of Set 2 | hovd\n",
      "Processing Record 21 of Set 2 | puerto ayora\n",
      "Processing Record 22 of Set 2 | punta arenas\n",
      "Processing Record 23 of Set 2 | grand river south east\n",
      "City not found. Skipping...\n",
      "Processing Record 24 of Set 2 | osoyoos\n",
      "Processing Record 25 of Set 2 | nikolskoye\n",
      "Processing Record 26 of Set 2 | mananjary\n",
      "Processing Record 27 of Set 2 | iwanai\n",
      "Processing Record 28 of Set 2 | santa isabel do rio negro\n",
      "Processing Record 29 of Set 2 | new norfolk\n",
      "Processing Record 30 of Set 2 | butaritari\n",
      "Processing Record 31 of Set 2 | kells\n",
      "Processing Record 32 of Set 2 | olinda\n",
      "Processing Record 33 of Set 2 | kulhudhuffushi\n",
      "Processing Record 34 of Set 2 | phrai bung\n",
      "City not found. Skipping...\n",
      "Processing Record 35 of Set 2 | gaomi\n",
      "Processing Record 36 of Set 2 | georgetown\n",
      "Processing Record 37 of Set 2 | ahipara\n",
      "Processing Record 38 of Set 2 | bassano\n",
      "Processing Record 39 of Set 2 | saint-francois\n",
      "Processing Record 40 of Set 2 | attawapiskat\n",
      "City not found. Skipping...\n",
      "Processing Record 41 of Set 2 | challapata\n",
      "Processing Record 42 of Set 2 | ati\n",
      "Processing Record 43 of Set 2 | hobart\n",
      "Processing Record 44 of Set 2 | el paso\n",
      "Processing Record 45 of Set 2 | tsihombe\n",
      "City not found. Skipping...\n",
      "Processing Record 46 of Set 2 | furstenfeldbruck\n",
      "City not found. Skipping...\n",
      "Processing Record 47 of Set 2 | eyl\n",
      "Processing Record 48 of Set 2 | vaini\n",
      "Processing Record 49 of Set 2 | hasaki\n",
      "Processing Record 50 of Set 2 | atuona\n",
      "Processing Record 1 of Set 3 | umzimvubu\n",
      "City not found. Skipping...\n",
      "Processing Record 2 of Set 3 | mbuji-mayi\n",
      "Processing Record 3 of Set 3 | voi\n",
      "Processing Record 4 of Set 3 | dauriya\n",
      "Processing Record 5 of Set 3 | toliary\n",
      "City not found. Skipping...\n",
      "Processing Record 6 of Set 3 | a\n",
      "City not found. Skipping...\n",
      "Processing Record 7 of Set 3 | camacha\n",
      "Processing Record 8 of Set 3 | norman wells\n",
      "Processing Record 9 of Set 3 | chivilcoy\n",
      "Processing Record 10 of Set 3 | castro\n",
      "Processing Record 11 of Set 3 | klaksvik\n",
      "Processing Record 12 of Set 3 | vestmannaeyjar\n",
      "Processing Record 13 of Set 3 | kanchipuram\n",
      "Processing Record 14 of Set 3 | coquimbo\n",
      "Processing Record 15 of Set 3 | jacareacanga\n",
      "Processing Record 16 of Set 3 | sioux lookout\n",
      "Processing Record 17 of Set 3 | utiroa\n",
      "City not found. Skipping...\n",
      "Processing Record 18 of Set 3 | taolanaro\n",
      "City not found. Skipping...\n",
      "Processing Record 19 of Set 3 | ribeira grande\n",
      "Processing Record 20 of Set 3 | vangaindrano\n",
      "Processing Record 21 of Set 3 | lukovetskiy\n",
      "Processing Record 22 of Set 3 | chokurdakh\n",
      "Processing Record 23 of Set 3 | stepnogorsk\n",
      "Processing Record 24 of Set 3 | hilo\n",
      "Processing Record 25 of Set 3 | hithadhoo\n",
      "Processing Record 26 of Set 3 | husavik\n",
      "Processing Record 27 of Set 3 | tumen\n",
      "Processing Record 28 of Set 3 | victor harbor\n",
      "Processing Record 29 of Set 3 | mandal\n",
      "Processing Record 30 of Set 3 | sacramento\n",
      "Processing Record 31 of Set 3 | monte patria\n",
      "Processing Record 32 of Set 3 | mabaruma\n",
      "Processing Record 33 of Set 3 | pevek\n",
      "Processing Record 34 of Set 3 | kourou\n",
      "Processing Record 35 of Set 3 | banjar\n",
      "Processing Record 36 of Set 3 | tuatapere\n",
      "Processing Record 37 of Set 3 | steamboat springs\n",
      "Processing Record 38 of Set 3 | saint george\n",
      "Processing Record 39 of Set 3 | pisco\n",
      "Processing Record 40 of Set 3 | kerekegyhaza\n",
      "Processing Record 41 of Set 3 | samarai\n",
      "Processing Record 42 of Set 3 | atambua\n",
      "Processing Record 43 of Set 3 | dikson\n",
      "Processing Record 44 of Set 3 | kahului\n",
      "Processing Record 45 of Set 3 | airai\n",
      "Processing Record 46 of Set 3 | zhitikara\n",
      "City not found. Skipping...\n",
      "Processing Record 47 of Set 3 | ormara\n",
      "Processing Record 48 of Set 3 | umuahia\n",
      "Processing Record 49 of Set 3 | bluff\n",
      "Processing Record 50 of Set 3 | makung\n",
      "City not found. Skipping...\n",
      "Processing Record 1 of Set 4 | thinadhoo\n",
      "Processing Record 2 of Set 4 | bredasdorp\n",
      "Processing Record 3 of Set 4 | villa juarez\n",
      "Processing Record 4 of Set 4 | sa kaeo\n",
      "Processing Record 5 of Set 4 | elliot lake\n",
      "Processing Record 6 of Set 4 | saskylakh\n",
      "Processing Record 7 of Set 4 | saleaula\n",
      "City not found. Skipping...\n",
      "Processing Record 8 of Set 4 | clyde river\n",
      "Processing Record 9 of Set 4 | chagda\n",
      "City not found. Skipping...\n",
      "Processing Record 10 of Set 4 | maragogi\n",
      "Processing Record 11 of Set 4 | muros\n",
      "Processing Record 12 of Set 4 | goure\n",
      "Processing Record 13 of Set 4 | faanui\n",
      "Processing Record 14 of Set 4 | bethel\n",
      "Processing Record 15 of Set 4 | sorland\n",
      "Processing Record 16 of Set 4 | port elizabeth\n",
      "Processing Record 17 of Set 4 | bilma\n",
      "Processing Record 18 of Set 4 | bonfim\n",
      "Processing Record 19 of Set 4 | vaitupu\n",
      "City not found. Skipping...\n",
      "Processing Record 20 of Set 4 | guerrero negro\n",
      "Processing Record 21 of Set 4 | fairbanks\n",
      "Processing Record 22 of Set 4 | phonhong\n",
      "Processing Record 23 of Set 4 | butwal\n",
      "Processing Record 24 of Set 4 | xiamen\n",
      "Processing Record 25 of Set 4 | umm lajj\n",
      "Processing Record 26 of Set 4 | kuito\n",
      "Processing Record 27 of Set 4 | kapaa\n",
      "Processing Record 28 of Set 4 | nyandoma\n",
      "Processing Record 29 of Set 4 | nisia floresta\n",
      "Processing Record 30 of Set 4 | hobyo\n",
      "Processing Record 31 of Set 4 | victoria\n",
      "Processing Record 32 of Set 4 | sinnamary\n",
      "Processing Record 33 of Set 4 | sao joao da barra\n"
     ]
    },
    {
     "name": "stdout",
     "output_type": "stream",
     "text": [
      "Processing Record 34 of Set 4 | linhares\n",
      "Processing Record 35 of Set 4 | tasiilaq\n",
      "Processing Record 36 of Set 4 | praia da vitoria\n",
      "Processing Record 37 of Set 4 | severodvinsk\n",
      "Processing Record 38 of Set 4 | asau\n",
      "Processing Record 39 of Set 4 | carnarvon\n",
      "Processing Record 40 of Set 4 | port-cartier\n",
      "Processing Record 41 of Set 4 | alofi\n",
      "Processing Record 42 of Set 4 | terra santa\n",
      "Processing Record 43 of Set 4 | sarangani\n",
      "Processing Record 44 of Set 4 | takoradi\n",
      "Processing Record 45 of Set 4 | kamenskoye\n",
      "City not found. Skipping...\n",
      "Processing Record 46 of Set 4 | eureka\n",
      "Processing Record 47 of Set 4 | khashtarak\n",
      "Processing Record 48 of Set 4 | pangnirtung\n",
      "Processing Record 49 of Set 4 | karaul\n",
      "City not found. Skipping...\n",
      "Processing Record 50 of Set 4 | tolaga bay\n",
      "Processing Record 1 of Set 5 | strezhevoy\n",
      "Processing Record 2 of Set 5 | aksum\n",
      "Processing Record 3 of Set 5 | crestview\n",
      "Processing Record 4 of Set 5 | tibacuy\n",
      "Processing Record 5 of Set 5 | fortuna\n",
      "Processing Record 6 of Set 5 | saldanha\n",
      "Processing Record 7 of Set 5 | isla mujeres\n",
      "Processing Record 8 of Set 5 | kupang\n",
      "Processing Record 9 of Set 5 | saint-philippe\n",
      "Processing Record 10 of Set 5 | dobrinka\n",
      "Processing Record 11 of Set 5 | price\n",
      "Processing Record 12 of Set 5 | cherskiy\n",
      "Processing Record 13 of Set 5 | cidreira\n",
      "Processing Record 14 of Set 5 | stuttgart\n",
      "Processing Record 15 of Set 5 | grand bend\n",
      "Processing Record 16 of Set 5 | lieksa\n",
      "Processing Record 17 of Set 5 | tumannyy\n",
      "City not found. Skipping...\n",
      "Processing Record 18 of Set 5 | plettenberg bay\n",
      "Processing Record 19 of Set 5 | cabo san lucas\n",
      "Processing Record 20 of Set 5 | maralal\n",
      "Processing Record 21 of Set 5 | arraial do cabo\n",
      "Processing Record 22 of Set 5 | isangel\n",
      "Processing Record 23 of Set 5 | koumac\n",
      "Processing Record 24 of Set 5 | los llanos de aridane\n",
      "Processing Record 25 of Set 5 | avera\n",
      "Processing Record 26 of Set 5 | ancud\n",
      "Processing Record 27 of Set 5 | port-de-paix\n",
      "City not found. Skipping...\n",
      "Processing Record 28 of Set 5 | harper\n",
      "Processing Record 29 of Set 5 | kholtoson\n",
      "Processing Record 30 of Set 5 | camacupa\n",
      "Processing Record 31 of Set 5 | lebu\n",
      "Processing Record 32 of Set 5 | marcona\n",
      "City not found. Skipping...\n",
      "Processing Record 33 of Set 5 | chapayeve\n",
      "Processing Record 34 of Set 5 | kodiak\n",
      "Processing Record 35 of Set 5 | bonavista\n",
      "Processing Record 36 of Set 5 | ano mera\n",
      "Processing Record 37 of Set 5 | comodoro rivadavia\n",
      "Processing Record 38 of Set 5 | sur\n",
      "Processing Record 39 of Set 5 | sentyabrskiy\n",
      "City not found. Skipping...\n",
      "Processing Record 40 of Set 5 | nome\n",
      "Processing Record 41 of Set 5 | westport\n",
      "Processing Record 42 of Set 5 | cuyo\n",
      "Processing Record 43 of Set 5 | broken hill\n",
      "Processing Record 44 of Set 5 | svetlogorsk\n",
      "Processing Record 45 of Set 5 | qaanaaq\n",
      "Processing Record 46 of Set 5 | gamba\n",
      "Processing Record 47 of Set 5 | chuy\n",
      "Processing Record 48 of Set 5 | mandurah\n",
      "Processing Record 49 of Set 5 | tiznit\n",
      "Processing Record 50 of Set 5 | yirol\n",
      "City not found. Skipping...\n",
      "Processing Record 1 of Set 6 | huarmey\n",
      "Processing Record 2 of Set 6 | rodrigues alves\n",
      "Processing Record 3 of Set 6 | leh\n",
      "Processing Record 4 of Set 6 | kavaratti\n",
      "Processing Record 5 of Set 6 | bambous virieux\n",
      "Processing Record 6 of Set 6 | manavalakurichi\n",
      "Processing Record 7 of Set 6 | acarau\n",
      "Processing Record 8 of Set 6 | te anau\n",
      "Processing Record 9 of Set 6 | palana\n",
      "Processing Record 10 of Set 6 | kuchinarai\n",
      "Processing Record 11 of Set 6 | mnogovershinnyy\n",
      "Processing Record 12 of Set 6 | mogadishu\n",
      "Processing Record 13 of Set 6 | hjelset\n",
      "Processing Record 14 of Set 6 | kiama\n",
      "Processing Record 15 of Set 6 | lujan\n",
      "Processing Record 16 of Set 6 | esperance\n",
      "Processing Record 17 of Set 6 | amahai\n",
      "Processing Record 18 of Set 6 | balkhash\n",
      "Processing Record 19 of Set 6 | radovan\n",
      "Processing Record 20 of Set 6 | ugoofaaru\n",
      "Processing Record 21 of Set 6 | quatre cocos\n",
      "Processing Record 22 of Set 6 | barabai\n",
      "Processing Record 23 of Set 6 | luba\n",
      "Processing Record 24 of Set 6 | dunedin\n",
      "Processing Record 25 of Set 6 | raudeberg\n",
      "Processing Record 26 of Set 6 | touros\n",
      "Processing Record 27 of Set 6 | casablanca\n",
      "Processing Record 28 of Set 6 | barentsburg\n",
      "City not found. Skipping...\n",
      "Processing Record 29 of Set 6 | jiangyou\n",
      "Processing Record 30 of Set 6 | laguna\n",
      "Processing Record 31 of Set 6 | malinovoye ozero\n",
      "Processing Record 32 of Set 6 | markova\n",
      "Processing Record 33 of Set 6 | bata\n",
      "Processing Record 34 of Set 6 | bogorodskoye\n",
      "Processing Record 35 of Set 6 | lazaro cardenas\n",
      "Processing Record 36 of Set 6 | port hardy\n",
      "Processing Record 37 of Set 6 | san andres\n",
      "Processing Record 38 of Set 6 | bengkulu\n",
      "Processing Record 39 of Set 6 | miri\n",
      "Processing Record 40 of Set 6 | maarianhamina\n",
      "Processing Record 41 of Set 6 | zhigansk\n",
      "Processing Record 42 of Set 6 | sharjah\n",
      "Processing Record 43 of Set 6 | ambilobe\n",
      "Processing Record 44 of Set 6 | murgab\n",
      "Processing Record 45 of Set 6 | grand gaube\n",
      "Processing Record 46 of Set 6 | sosnogorsk\n",
      "Processing Record 47 of Set 6 | lompoc\n",
      "Processing Record 48 of Set 6 | sieradz\n",
      "Processing Record 49 of Set 6 | gobabis\n",
      "Processing Record 50 of Set 6 | saint-georges\n",
      "Processing Record 1 of Set 7 | ilulissat\n",
      "Processing Record 2 of Set 7 | nelson bay\n",
      "Processing Record 3 of Set 7 | opuwo\n",
      "Processing Record 4 of Set 7 | sidi bu zayd\n",
      "City not found. Skipping...\n",
      "Processing Record 5 of Set 7 | caravelas\n",
      "Processing Record 6 of Set 7 | serik\n",
      "Processing Record 7 of Set 7 | el dorado\n",
      "Processing Record 8 of Set 7 | yendi\n",
      "Processing Record 9 of Set 7 | port-gentil\n",
      "Processing Record 10 of Set 7 | nossa senhora da gloria\n",
      "Processing Record 11 of Set 7 | belmonte\n",
      "Processing Record 12 of Set 7 | leningradskiy\n",
      "Processing Record 13 of Set 7 | laredo\n",
      "Processing Record 14 of Set 7 | altus\n",
      "Processing Record 15 of Set 7 | marzuq\n",
      "Processing Record 16 of Set 7 | orichi\n",
      "Processing Record 17 of Set 7 | kaitangata\n",
      "Processing Record 18 of Set 7 | matay\n",
      "Processing Record 19 of Set 7 | murgeni\n",
      "Processing Record 20 of Set 7 | birao\n",
      "Processing Record 21 of Set 7 | gat\n",
      "Processing Record 22 of Set 7 | yalta\n",
      "Processing Record 23 of Set 7 | cabedelo\n",
      "Processing Record 24 of Set 7 | constitucion\n",
      "Processing Record 25 of Set 7 | tignere\n",
      "Processing Record 26 of Set 7 | goderich\n",
      "Processing Record 27 of Set 7 | bolungarvik\n",
      "City not found. Skipping...\n",
      "Processing Record 28 of Set 7 | jardim\n",
      "Processing Record 29 of Set 7 | necochea\n",
      "Processing Record 30 of Set 7 | katangli\n",
      "Processing Record 31 of Set 7 | longyearbyen\n",
      "Processing Record 32 of Set 7 | inhambane\n",
      "Processing Record 33 of Set 7 | namibe\n",
      "Processing Record 34 of Set 7 | hihifo\n",
      "City not found. Skipping...\n",
      "Processing Record 35 of Set 7 | tiksi\n",
      "Processing Record 36 of Set 7 | dhandhuka\n",
      "Processing Record 37 of Set 7 | candolim\n",
      "Processing Record 38 of Set 7 | dudinka\n",
      "Processing Record 39 of Set 7 | jesup\n",
      "Processing Record 40 of Set 7 | nantucket\n",
      "Processing Record 41 of Set 7 | dakar\n",
      "Processing Record 42 of Set 7 | liling\n",
      "Processing Record 43 of Set 7 | seoul\n",
      "Processing Record 44 of Set 7 | kamaishi\n",
      "Processing Record 45 of Set 7 | kalanguy\n",
      "Processing Record 46 of Set 7 | mehran\n",
      "Processing Record 47 of Set 7 | xuddur\n",
      "Processing Record 48 of Set 7 | salto\n",
      "Processing Record 49 of Set 7 | sitka\n",
      "Processing Record 50 of Set 7 | elat\n",
      "Processing Record 1 of Set 8 | bandarbeyla\n",
      "Processing Record 2 of Set 8 | labrea\n",
      "Processing Record 3 of Set 8 | doctor pedro p. pena\n",
      "City not found. Skipping...\n",
      "Processing Record 4 of Set 8 | bahia honda\n",
      "Processing Record 5 of Set 8 | tura\n",
      "Processing Record 6 of Set 8 | mirnyy\n",
      "Processing Record 7 of Set 8 | nishihara\n",
      "Processing Record 8 of Set 8 | manzil tamim\n",
      "City not found. Skipping...\n",
      "Processing Record 9 of Set 8 | mahon\n",
      "Processing Record 10 of Set 8 | zhuanghe\n",
      "Processing Record 11 of Set 8 | shitanjing\n",
      "Processing Record 12 of Set 8 | anloga\n",
      "Processing Record 13 of Set 8 | varazdin\n",
      "Processing Record 14 of Set 8 | leninskiy\n",
      "Processing Record 15 of Set 8 | rio verde de mato grosso\n",
      "Processing Record 16 of Set 8 | khatanga\n",
      "Processing Record 17 of Set 8 | zemio\n",
      "Processing Record 18 of Set 8 | isabela\n",
      "Processing Record 19 of Set 8 | saint andrews\n",
      "Processing Record 20 of Set 8 | egvekinot\n",
      "Processing Record 21 of Set 8 | bac lieu\n",
      "Processing Record 22 of Set 8 | arshan\n",
      "Processing Record 23 of Set 8 | ponta do sol\n",
      "Processing Record 24 of Set 8 | fort beaufort\n"
     ]
    },
    {
     "name": "stdout",
     "output_type": "stream",
     "text": [
      "Processing Record 25 of Set 8 | souillac\n",
      "Processing Record 26 of Set 8 | tabiauea\n",
      "City not found. Skipping...\n",
      "Processing Record 27 of Set 8 | antofagasta\n",
      "Processing Record 28 of Set 8 | katsuura\n",
      "Processing Record 29 of Set 8 | chaa-khol\n",
      "City not found. Skipping...\n",
      "Processing Record 30 of Set 8 | portoferraio\n",
      "Processing Record 31 of Set 8 | vilyuysk\n",
      "Processing Record 32 of Set 8 | raymond\n",
      "Processing Record 33 of Set 8 | tual\n",
      "Processing Record 34 of Set 8 | kindu\n",
      "Processing Record 35 of Set 8 | yertarskiy\n",
      "Processing Record 36 of Set 8 | mezen\n",
      "Processing Record 37 of Set 8 | buala\n",
      "Processing Record 38 of Set 8 | bathsheba\n",
      "Processing Record 39 of Set 8 | pasighat\n",
      "Processing Record 40 of Set 8 | shenzhen\n",
      "Processing Record 41 of Set 8 | buraydah\n",
      "Processing Record 42 of Set 8 | thanh hoa\n",
      "Processing Record 43 of Set 8 | capitao poco\n",
      "Processing Record 44 of Set 8 | faya\n",
      "Processing Record 45 of Set 8 | yinchuan\n",
      "Processing Record 46 of Set 8 | yucca valley\n",
      "Processing Record 47 of Set 8 | radomsko\n",
      "Processing Record 48 of Set 8 | bilibino\n",
      "Processing Record 49 of Set 8 | mergui\n",
      "City not found. Skipping...\n",
      "Processing Record 50 of Set 8 | howard springs\n",
      "Processing Record 1 of Set 9 | zilair\n",
      "Processing Record 2 of Set 9 | sechura\n",
      "Processing Record 3 of Set 9 | ningan\n",
      "City not found. Skipping...\n",
      "Processing Record 4 of Set 9 | kuybysheve\n",
      "Processing Record 5 of Set 9 | ypsonas\n",
      "Processing Record 6 of Set 9 | wahran\n",
      "City not found. Skipping...\n",
      "Processing Record 7 of Set 9 | pedernales\n",
      "Processing Record 8 of Set 9 | sao jose do belmonte\n",
      "Processing Record 9 of Set 9 | ndele\n",
      "Processing Record 10 of Set 9 | revyakino\n",
      "Processing Record 11 of Set 9 | vardo\n",
      "Processing Record 12 of Set 9 | aswan\n",
      "Processing Record 13 of Set 9 | vancouver\n",
      "Processing Record 14 of Set 9 | ngunguru\n",
      "Processing Record 15 of Set 9 | moose factory\n",
      "Processing Record 16 of Set 9 | kruisfontein\n",
      "Processing Record 17 of Set 9 | alibag\n",
      "Processing Record 18 of Set 9 | oistins\n",
      "Processing Record 19 of Set 9 | tocopilla\n",
      "Processing Record 20 of Set 9 | sibu\n",
      "Processing Record 21 of Set 9 | walvis bay\n",
      "Processing Record 22 of Set 9 | beni suef\n",
      "Processing Record 23 of Set 9 | davila\n",
      "Processing Record 24 of Set 9 | oktyabrskiy\n",
      "Processing Record 25 of Set 9 | nuuk\n",
      "Processing Record 26 of Set 9 | farafangana\n",
      "Processing Record 27 of Set 9 | touba\n",
      "Processing Record 28 of Set 9 | krasnyy kut\n",
      "Processing Record 29 of Set 9 | portland\n",
      "Processing Record 30 of Set 9 | escalerillas\n",
      "Processing Record 31 of Set 9 | nova russas\n",
      "Processing Record 32 of Set 9 | coihaique\n",
      "Processing Record 33 of Set 9 | yerbogachen\n",
      "Processing Record 34 of Set 9 | porto belo\n",
      "Processing Record 35 of Set 9 | tunceli\n",
      "Processing Record 36 of Set 9 | rabo de peixe\n",
      "Processing Record 37 of Set 9 | kemin\n",
      "Processing Record 38 of Set 9 | kabansk\n",
      "Processing Record 39 of Set 9 | waitati\n",
      "Processing Record 40 of Set 9 | jinchang\n",
      "Processing Record 41 of Set 9 | issoudun\n",
      "Processing Record 42 of Set 9 | traralgon\n",
      "Processing Record 43 of Set 9 | cap malheureux\n",
      "Processing Record 44 of Set 9 | zangakatun\n",
      "Processing Record 45 of Set 9 | morrope\n",
      "Processing Record 46 of Set 9 | bam\n",
      "Processing Record 47 of Set 9 | trincomalee\n",
      "Processing Record 48 of Set 9 | madras\n",
      "Processing Record 49 of Set 9 | charleston\n",
      "Processing Record 50 of Set 9 | sanmenxia\n",
      "Processing Record 1 of Set 10 | hirara\n",
      "Processing Record 2 of Set 10 | puerto baquerizo moreno\n",
      "Processing Record 3 of Set 10 | pandan\n",
      "Processing Record 4 of Set 10 | haines junction\n",
      "Processing Record 5 of Set 10 | zhob\n",
      "Processing Record 6 of Set 10 | bella vista\n",
      "Processing Record 7 of Set 10 | el badari\n",
      "City not found. Skipping...\n",
      "Processing Record 8 of Set 10 | craig\n",
      "Processing Record 9 of Set 10 | yusva\n",
      "City not found. Skipping...\n",
      "Processing Record 10 of Set 10 | roros\n",
      "Processing Record 11 of Set 10 | huainan\n",
      "Processing Record 12 of Set 10 | mimongo\n",
      "Processing Record 13 of Set 10 | soyo\n",
      "Processing Record 14 of Set 10 | kitimat\n",
      "Processing Record 15 of Set 10 | aklavik\n",
      "Processing Record 16 of Set 10 | nizhniy kuranakh\n",
      "Processing Record 17 of Set 10 | heihe\n",
      "Processing Record 18 of Set 10 | makakilo city\n",
      "Processing Record 19 of Set 10 | camopi\n",
      "Processing Record 20 of Set 10 | piranshahr\n",
      "Processing Record 21 of Set 10 | port lincoln\n",
      "Processing Record 22 of Set 10 | kenai\n",
      "Processing Record 23 of Set 10 | demirci\n",
      "Processing Record 24 of Set 10 | mazagao\n",
      "Processing Record 25 of Set 10 | ramjibanpur\n",
      "Processing Record 26 of Set 10 | pustoshka\n",
      "Processing Record 27 of Set 10 | ust-kamchatsk\n",
      "City not found. Skipping...\n",
      "Processing Record 28 of Set 10 | chulucanas\n",
      "Processing Record 29 of Set 10 | hofn\n",
      "Processing Record 30 of Set 10 | turukhansk\n",
      "Processing Record 31 of Set 10 | uige\n",
      "Processing Record 32 of Set 10 | nevelsk\n",
      "Processing Record 33 of Set 10 | aban\n",
      "Processing Record 34 of Set 10 | aflu\n",
      "City not found. Skipping...\n",
      "Processing Record 35 of Set 10 | teya\n",
      "Processing Record 36 of Set 10 | jutai\n",
      "Processing Record 37 of Set 10 | at-bashi\n",
      "Processing Record 38 of Set 10 | luganville\n",
      "Processing Record 39 of Set 10 | salalah\n",
      "Processing Record 40 of Set 10 | christchurch\n",
      "Processing Record 41 of Set 10 | shelburne\n",
      "Processing Record 42 of Set 10 | brenes\n",
      "Processing Record 43 of Set 10 | aquiraz\n",
      "Processing Record 44 of Set 10 | halifax\n",
      "Processing Record 45 of Set 10 | torbat-e jam\n",
      "Processing Record 46 of Set 10 | zaysan\n",
      "Processing Record 47 of Set 10 | iskateley\n",
      "Processing Record 48 of Set 10 | kavieng\n",
      "Processing Record 49 of Set 10 | saint-augustin\n",
      "Processing Record 50 of Set 10 | dingle\n",
      "Processing Record 1 of Set 11 | aplahoue\n",
      "Processing Record 2 of Set 11 | tombouctou\n",
      "Processing Record 3 of Set 11 | charlestown\n",
      "Processing Record 4 of Set 11 | aykhal\n",
      "Processing Record 5 of Set 11 | saint anthony\n",
      "Processing Record 6 of Set 11 | bajo baudo\n",
      "City not found. Skipping...\n",
      "Processing Record 7 of Set 11 | kangaatsiaq\n",
      "Processing Record 8 of Set 11 | jaguaribe\n",
      "Processing Record 9 of Set 11 | pervomayskoye\n",
      "Processing Record 10 of Set 11 | shakhtinsk\n",
      "Processing Record 11 of Set 11 | wakkanai\n",
      "Processing Record 12 of Set 11 | kajaani\n",
      "Processing Record 13 of Set 11 | san ramon\n",
      "Processing Record 14 of Set 11 | nguiu\n",
      "City not found. Skipping...\n",
      "Processing Record 15 of Set 11 | benalla\n",
      "Processing Record 16 of Set 11 | san cristobal\n",
      "Processing Record 17 of Set 11 | namatanai\n",
      "Processing Record 18 of Set 11 | mandalgovi\n",
      "Processing Record 19 of Set 11 | mushie\n",
      "Processing Record 20 of Set 11 | sao filipe\n",
      "Processing Record 21 of Set 11 | tilichiki\n",
      "Processing Record 22 of Set 11 | talnakh\n",
      "Processing Record 23 of Set 11 | pangai\n",
      "Processing Record 24 of Set 11 | burkhala\n",
      "City not found. Skipping...\n",
      "Processing Record 25 of Set 11 | predivinsk\n",
      "Processing Record 26 of Set 11 | muriwai beach\n",
      "Processing Record 27 of Set 11 | conceicao do mato dentro\n",
      "Processing Record 28 of Set 11 | lorengau\n",
      "Processing Record 29 of Set 11 | anadyr\n",
      "Processing Record 30 of Set 11 | dossor\n",
      "Processing Record 31 of Set 11 | narsaq\n",
      "Processing Record 32 of Set 11 | gorno-chuyskiy\n",
      "City not found. Skipping...\n",
      "Processing Record 33 of Set 11 | pingshan\n",
      "Processing Record 34 of Set 11 | trutnov\n",
      "Processing Record 35 of Set 11 | fuzhou\n",
      "Processing Record 36 of Set 11 | east london\n",
      "Processing Record 37 of Set 11 | cockburn harbour\n",
      "City not found. Skipping...\n",
      "Processing Record 38 of Set 11 | port augusta\n",
      "Processing Record 39 of Set 11 | daru\n",
      "Processing Record 40 of Set 11 | resistencia\n",
      "Processing Record 41 of Set 11 | porto-vecchio\n",
      "Processing Record 42 of Set 11 | eresos\n",
      "Processing Record 43 of Set 11 | angoram\n",
      "Processing Record 44 of Set 11 | mumford\n",
      "Processing Record 45 of Set 11 | raga\n",
      "Processing Record 46 of Set 11 | sataua\n",
      "City not found. Skipping...\n",
      "Processing Record 47 of Set 11 | davenda\n",
      "Processing Record 48 of Set 11 | salihorsk\n",
      "Processing Record 49 of Set 11 | alyangula\n",
      "Processing Record 50 of Set 11 | basco\n",
      "Processing Record 1 of Set 12 | kloulklubed\n",
      "Processing Record 2 of Set 12 | nipawin\n",
      "Processing Record 3 of Set 12 | flin flon\n",
      "Processing Record 4 of Set 12 | vanavara\n",
      "Processing Record 5 of Set 12 | jiroft\n",
      "City not found. Skipping...\n",
      "Processing Record 6 of Set 12 | marion\n",
      "Processing Record 7 of Set 12 | kailua\n",
      "Processing Record 8 of Set 12 | kouango\n",
      "Processing Record 9 of Set 12 | mount isa\n",
      "Processing Record 10 of Set 12 | werl\n"
     ]
    },
    {
     "name": "stdout",
     "output_type": "stream",
     "text": [
      "Processing Record 11 of Set 12 | berlevag\n",
      "Processing Record 12 of Set 12 | ellsworth\n",
      "Processing Record 13 of Set 12 | nouadhibou\n",
      "Processing Record 14 of Set 12 | dolinsk\n",
      "Processing Record 15 of Set 12 | praia\n",
      "Processing Record 16 of Set 12 | kieta\n",
      "Processing Record 17 of Set 12 | kandrian\n",
      "Processing Record 18 of Set 12 | sambava\n",
      "Processing Record 19 of Set 12 | palmer\n",
      "Processing Record 20 of Set 12 | shimoda\n",
      "Processing Record 21 of Set 12 | enshi\n",
      "Processing Record 22 of Set 12 | udimskiy\n",
      "Processing Record 23 of Set 12 | mahibadhoo\n",
      "Processing Record 24 of Set 12 | sovetskiy\n",
      "Processing Record 25 of Set 12 | linqing\n",
      "Processing Record 26 of Set 12 | dekar\n",
      "Processing Record 27 of Set 12 | beyneu\n",
      "Processing Record 28 of Set 12 | lasa\n",
      "Processing Record 29 of Set 12 | lima\n",
      "Processing Record 30 of Set 12 | kamenka\n",
      "Processing Record 31 of Set 12 | camana\n",
      "Processing Record 32 of Set 12 | morondava\n",
      "Processing Record 33 of Set 12 | medvedka\n",
      "Processing Record 34 of Set 12 | peniche\n",
      "Processing Record 35 of Set 12 | kotido\n",
      "Processing Record 36 of Set 12 | havre\n",
      "Processing Record 37 of Set 12 | kuala pilah\n",
      "Processing Record 38 of Set 12 | lagoa\n",
      "Processing Record 39 of Set 12 | tillabery\n",
      "City not found. Skipping...\n",
      "Processing Record 40 of Set 12 | shenjiamen\n",
      "Processing Record 41 of Set 12 | pandan niog\n",
      "Processing Record 42 of Set 12 | port blair\n",
      "Processing Record 43 of Set 12 | warrington\n",
      "Processing Record 44 of Set 12 | cururupu\n",
      "Processing Record 45 of Set 12 | wuwei\n",
      "Processing Record 46 of Set 12 | longhua\n",
      "Processing Record 47 of Set 12 | mana\n",
      "Processing Record 48 of Set 12 | dondo\n",
      "Processing Record 49 of Set 12 | nioro\n",
      "Processing Record 50 of Set 12 | nanortalik\n",
      "Processing Record 1 of Set 13 | placido de castro\n",
      "Processing Record 2 of Set 13 | trinidad\n",
      "Processing Record 3 of Set 13 | etchojoa\n",
      "Processing Record 4 of Set 13 | aksarka\n",
      "Processing Record 5 of Set 13 | woodward\n",
      "Processing Record 6 of Set 13 | san remo\n",
      "Processing Record 7 of Set 13 | vadso\n",
      "Processing Record 8 of Set 13 | stornoway\n",
      "Processing Record 9 of Set 13 | pehowa\n",
      "Processing Record 10 of Set 13 | nazareno\n",
      "Processing Record 11 of Set 13 | harbour breton\n",
      "-----------------------------\n",
      "Data Retrieval Complete      \n",
      "-----------------------------\n"
     ]
    }
   ],
   "source": [
    "# Loop through all the cities in the list.\n",
    "for i, city in enumerate(cities):\n",
    "\n",
    "    # Group cities in sets of 50 for logging purposes.\n",
    "    if (i % 50 == 0 and i >= 50):\n",
    "        set_count += 1\n",
    "        record_count = 1\n",
    "    # Create endpoint URL with each city.\n",
    "    city_url = url + \"&q=\" + city.replace(\" \",\"+\")\n",
    "\n",
    "    # Log the URL, record, and set numbers and the city.\n",
    "    print(f\"Processing Record {record_count} of Set {set_count} | {city}\")\n",
    "    # Add 1 to the record count.\n",
    "    record_count += 1\n",
    "# Run an API request for each of the cities.\n",
    "    try:\n",
    "        # Parse the JSON and retrieve data.\n",
    "        city_weather = requests.get(city_url).json()\n",
    "        # Parse out the needed data.\n",
    "        city_lat = city_weather[\"coord\"][\"lat\"]\n",
    "        city_lng = city_weather[\"coord\"][\"lon\"]\n",
    "        city_max_temp = city_weather[\"main\"][\"temp_max\"]\n",
    "        city_humidity = city_weather[\"main\"][\"humidity\"]\n",
    "        city_clouds = city_weather[\"clouds\"][\"all\"]\n",
    "        city_wind = city_weather[\"wind\"][\"speed\"]\n",
    "        city_country = city_weather[\"sys\"][\"country\"]\n",
    "        # Convert the date to ISO standard.\n",
    "        city_date = datetime.utcfromtimestamp(city_weather[\"dt\"]).strftime('%Y-%m-%d %H:%M:%S')\n",
    "        # Append the city information into city_data list.\n",
    "        city_data.append({\"City\": city.title(),\n",
    "                          \"Lat\": city_lat,\n",
    "                          \"Lng\": city_lng,\n",
    "                          \"Max Temp\": city_max_temp,\n",
    "                          \"Humidity\": city_humidity,\n",
    "                          \"Cloudiness\": city_clouds,\n",
    "                          \"Wind Speed\": city_wind,\n",
    "                          \"Country\": city_country,\n",
    "                          \"Date\": city_date})\n",
    "\n",
    "# If an error is experienced, skip the city.\n",
    "    except:\n",
    "        print(\"City not found. Skipping...\")\n",
    "        pass\n",
    "\n",
    "# Indicate that Data Loading is complete.\n",
    "print(\"-----------------------------\")\n",
    "print(\"Data Retrieval Complete      \")\n",
    "print(\"-----------------------------\")\n",
    "\n"
   ]
  },
  {
   "cell_type": "code",
   "execution_count": 26,
   "metadata": {},
   "outputs": [
    {
     "data": {
      "text/html": [
       "<div>\n",
       "<style scoped>\n",
       "    .dataframe tbody tr th:only-of-type {\n",
       "        vertical-align: middle;\n",
       "    }\n",
       "\n",
       "    .dataframe tbody tr th {\n",
       "        vertical-align: top;\n",
       "    }\n",
       "\n",
       "    .dataframe thead th {\n",
       "        text-align: right;\n",
       "    }\n",
       "</style>\n",
       "<table border=\"1\" class=\"dataframe\">\n",
       "  <thead>\n",
       "    <tr style=\"text-align: right;\">\n",
       "      <th></th>\n",
       "      <th>City</th>\n",
       "      <th>Lat</th>\n",
       "      <th>Lng</th>\n",
       "      <th>Max Temp</th>\n",
       "      <th>Humidity</th>\n",
       "      <th>Cloudiness</th>\n",
       "      <th>Wind Speed</th>\n",
       "      <th>Country</th>\n",
       "      <th>Date</th>\n",
       "    </tr>\n",
       "  </thead>\n",
       "  <tbody>\n",
       "    <tr>\n",
       "      <th>0</th>\n",
       "      <td>Severo-Kurilsk</td>\n",
       "      <td>50.6789</td>\n",
       "      <td>156.1250</td>\n",
       "      <td>17.83</td>\n",
       "      <td>90</td>\n",
       "      <td>96</td>\n",
       "      <td>15.75</td>\n",
       "      <td>RU</td>\n",
       "      <td>2021-01-12 15:17:59</td>\n",
       "    </tr>\n",
       "    <tr>\n",
       "      <th>1</th>\n",
       "      <td>Ushuaia</td>\n",
       "      <td>-54.8000</td>\n",
       "      <td>-68.3000</td>\n",
       "      <td>46.40</td>\n",
       "      <td>46</td>\n",
       "      <td>75</td>\n",
       "      <td>14.97</td>\n",
       "      <td>AR</td>\n",
       "      <td>2021-01-12 15:17:59</td>\n",
       "    </tr>\n",
       "    <tr>\n",
       "      <th>2</th>\n",
       "      <td>Olafsvik</td>\n",
       "      <td>64.8945</td>\n",
       "      <td>-23.7142</td>\n",
       "      <td>35.10</td>\n",
       "      <td>82</td>\n",
       "      <td>83</td>\n",
       "      <td>15.37</td>\n",
       "      <td>IS</td>\n",
       "      <td>2021-01-12 15:17:59</td>\n",
       "    </tr>\n",
       "    <tr>\n",
       "      <th>3</th>\n",
       "      <td>Mahebourg</td>\n",
       "      <td>-20.4081</td>\n",
       "      <td>57.7000</td>\n",
       "      <td>80.60</td>\n",
       "      <td>89</td>\n",
       "      <td>40</td>\n",
       "      <td>17.27</td>\n",
       "      <td>MU</td>\n",
       "      <td>2021-01-12 15:16:16</td>\n",
       "    </tr>\n",
       "    <tr>\n",
       "      <th>4</th>\n",
       "      <td>Upernavik</td>\n",
       "      <td>72.7868</td>\n",
       "      <td>-56.1549</td>\n",
       "      <td>19.53</td>\n",
       "      <td>96</td>\n",
       "      <td>100</td>\n",
       "      <td>3.29</td>\n",
       "      <td>GL</td>\n",
       "      <td>2021-01-12 15:17:59</td>\n",
       "    </tr>\n",
       "    <tr>\n",
       "      <th>5</th>\n",
       "      <td>Barrow</td>\n",
       "      <td>71.2906</td>\n",
       "      <td>-156.7887</td>\n",
       "      <td>1.40</td>\n",
       "      <td>78</td>\n",
       "      <td>90</td>\n",
       "      <td>23.02</td>\n",
       "      <td>US</td>\n",
       "      <td>2021-01-12 15:15:01</td>\n",
       "    </tr>\n",
       "    <tr>\n",
       "      <th>6</th>\n",
       "      <td>Ballina</td>\n",
       "      <td>-28.8667</td>\n",
       "      <td>153.5667</td>\n",
       "      <td>66.20</td>\n",
       "      <td>88</td>\n",
       "      <td>40</td>\n",
       "      <td>3.44</td>\n",
       "      <td>AU</td>\n",
       "      <td>2021-01-12 15:18:00</td>\n",
       "    </tr>\n",
       "    <tr>\n",
       "      <th>7</th>\n",
       "      <td>Formosa Do Rio Preto</td>\n",
       "      <td>-11.0483</td>\n",
       "      <td>-45.1931</td>\n",
       "      <td>97.84</td>\n",
       "      <td>39</td>\n",
       "      <td>7</td>\n",
       "      <td>0.81</td>\n",
       "      <td>BR</td>\n",
       "      <td>2021-01-12 15:18:00</td>\n",
       "    </tr>\n",
       "    <tr>\n",
       "      <th>8</th>\n",
       "      <td>Spornoye</td>\n",
       "      <td>50.8448</td>\n",
       "      <td>37.2913</td>\n",
       "      <td>26.60</td>\n",
       "      <td>80</td>\n",
       "      <td>75</td>\n",
       "      <td>4.47</td>\n",
       "      <td>RU</td>\n",
       "      <td>2021-01-12 15:18:00</td>\n",
       "    </tr>\n",
       "    <tr>\n",
       "      <th>9</th>\n",
       "      <td>Rikitea</td>\n",
       "      <td>-23.1203</td>\n",
       "      <td>-134.9692</td>\n",
       "      <td>77.59</td>\n",
       "      <td>78</td>\n",
       "      <td>8</td>\n",
       "      <td>18.66</td>\n",
       "      <td>PF</td>\n",
       "      <td>2021-01-12 15:18:01</td>\n",
       "    </tr>\n",
       "  </tbody>\n",
       "</table>\n",
       "</div>"
      ],
      "text/plain": [
       "                   City      Lat       Lng  Max Temp  Humidity  Cloudiness  \\\n",
       "0        Severo-Kurilsk  50.6789  156.1250     17.83        90          96   \n",
       "1               Ushuaia -54.8000  -68.3000     46.40        46          75   \n",
       "2              Olafsvik  64.8945  -23.7142     35.10        82          83   \n",
       "3             Mahebourg -20.4081   57.7000     80.60        89          40   \n",
       "4             Upernavik  72.7868  -56.1549     19.53        96         100   \n",
       "5                Barrow  71.2906 -156.7887      1.40        78          90   \n",
       "6               Ballina -28.8667  153.5667     66.20        88          40   \n",
       "7  Formosa Do Rio Preto -11.0483  -45.1931     97.84        39           7   \n",
       "8              Spornoye  50.8448   37.2913     26.60        80          75   \n",
       "9               Rikitea -23.1203 -134.9692     77.59        78           8   \n",
       "\n",
       "   Wind Speed Country                 Date  \n",
       "0       15.75      RU  2021-01-12 15:17:59  \n",
       "1       14.97      AR  2021-01-12 15:17:59  \n",
       "2       15.37      IS  2021-01-12 15:17:59  \n",
       "3       17.27      MU  2021-01-12 15:16:16  \n",
       "4        3.29      GL  2021-01-12 15:17:59  \n",
       "5       23.02      US  2021-01-12 15:15:01  \n",
       "6        3.44      AU  2021-01-12 15:18:00  \n",
       "7        0.81      BR  2021-01-12 15:18:00  \n",
       "8        4.47      RU  2021-01-12 15:18:00  \n",
       "9       18.66      PF  2021-01-12 15:18:01  "
      ]
     },
     "execution_count": 26,
     "metadata": {},
     "output_type": "execute_result"
    }
   ],
   "source": [
    "# Convert the array of dictionaries to a Pandas DataFrame.\n",
    "city_data_df = pd.DataFrame(city_data)\n",
    "city_data_df.head(10)"
   ]
  },
  {
   "cell_type": "code",
   "execution_count": 27,
   "metadata": {},
   "outputs": [
    {
     "data": {
      "text/html": [
       "<div>\n",
       "<style scoped>\n",
       "    .dataframe tbody tr th:only-of-type {\n",
       "        vertical-align: middle;\n",
       "    }\n",
       "\n",
       "    .dataframe tbody tr th {\n",
       "        vertical-align: top;\n",
       "    }\n",
       "\n",
       "    .dataframe thead th {\n",
       "        text-align: right;\n",
       "    }\n",
       "</style>\n",
       "<table border=\"1\" class=\"dataframe\">\n",
       "  <thead>\n",
       "    <tr style=\"text-align: right;\">\n",
       "      <th></th>\n",
       "      <th>City</th>\n",
       "      <th>Country</th>\n",
       "      <th>Date</th>\n",
       "      <th>Lat</th>\n",
       "      <th>Lng</th>\n",
       "      <th>Max Temp</th>\n",
       "      <th>Humidity</th>\n",
       "      <th>Cloudiness</th>\n",
       "      <th>Wind Speed</th>\n",
       "    </tr>\n",
       "  </thead>\n",
       "  <tbody>\n",
       "    <tr>\n",
       "      <th>0</th>\n",
       "      <td>Severo-Kurilsk</td>\n",
       "      <td>RU</td>\n",
       "      <td>2021-01-12 15:17:59</td>\n",
       "      <td>50.6789</td>\n",
       "      <td>156.1250</td>\n",
       "      <td>17.83</td>\n",
       "      <td>90</td>\n",
       "      <td>96</td>\n",
       "      <td>15.75</td>\n",
       "    </tr>\n",
       "    <tr>\n",
       "      <th>1</th>\n",
       "      <td>Ushuaia</td>\n",
       "      <td>AR</td>\n",
       "      <td>2021-01-12 15:17:59</td>\n",
       "      <td>-54.8000</td>\n",
       "      <td>-68.3000</td>\n",
       "      <td>46.40</td>\n",
       "      <td>46</td>\n",
       "      <td>75</td>\n",
       "      <td>14.97</td>\n",
       "    </tr>\n",
       "    <tr>\n",
       "      <th>2</th>\n",
       "      <td>Olafsvik</td>\n",
       "      <td>IS</td>\n",
       "      <td>2021-01-12 15:17:59</td>\n",
       "      <td>64.8945</td>\n",
       "      <td>-23.7142</td>\n",
       "      <td>35.10</td>\n",
       "      <td>82</td>\n",
       "      <td>83</td>\n",
       "      <td>15.37</td>\n",
       "    </tr>\n",
       "    <tr>\n",
       "      <th>3</th>\n",
       "      <td>Mahebourg</td>\n",
       "      <td>MU</td>\n",
       "      <td>2021-01-12 15:16:16</td>\n",
       "      <td>-20.4081</td>\n",
       "      <td>57.7000</td>\n",
       "      <td>80.60</td>\n",
       "      <td>89</td>\n",
       "      <td>40</td>\n",
       "      <td>17.27</td>\n",
       "    </tr>\n",
       "    <tr>\n",
       "      <th>4</th>\n",
       "      <td>Upernavik</td>\n",
       "      <td>GL</td>\n",
       "      <td>2021-01-12 15:17:59</td>\n",
       "      <td>72.7868</td>\n",
       "      <td>-56.1549</td>\n",
       "      <td>19.53</td>\n",
       "      <td>96</td>\n",
       "      <td>100</td>\n",
       "      <td>3.29</td>\n",
       "    </tr>\n",
       "    <tr>\n",
       "      <th>...</th>\n",
       "      <td>...</td>\n",
       "      <td>...</td>\n",
       "      <td>...</td>\n",
       "      <td>...</td>\n",
       "      <td>...</td>\n",
       "      <td>...</td>\n",
       "      <td>...</td>\n",
       "      <td>...</td>\n",
       "      <td>...</td>\n",
       "    </tr>\n",
       "    <tr>\n",
       "      <th>553</th>\n",
       "      <td>Vadso</td>\n",
       "      <td>NO</td>\n",
       "      <td>2021-01-12 15:19:36</td>\n",
       "      <td>70.0744</td>\n",
       "      <td>29.7487</td>\n",
       "      <td>10.40</td>\n",
       "      <td>61</td>\n",
       "      <td>0</td>\n",
       "      <td>16.11</td>\n",
       "    </tr>\n",
       "    <tr>\n",
       "      <th>554</th>\n",
       "      <td>Stornoway</td>\n",
       "      <td>GB</td>\n",
       "      <td>2021-01-12 15:19:36</td>\n",
       "      <td>58.2093</td>\n",
       "      <td>-6.3865</td>\n",
       "      <td>39.99</td>\n",
       "      <td>81</td>\n",
       "      <td>40</td>\n",
       "      <td>3.44</td>\n",
       "    </tr>\n",
       "    <tr>\n",
       "      <th>555</th>\n",
       "      <td>Pehowa</td>\n",
       "      <td>IN</td>\n",
       "      <td>2021-01-12 15:19:36</td>\n",
       "      <td>29.9833</td>\n",
       "      <td>76.5833</td>\n",
       "      <td>50.61</td>\n",
       "      <td>49</td>\n",
       "      <td>0</td>\n",
       "      <td>5.53</td>\n",
       "    </tr>\n",
       "    <tr>\n",
       "      <th>556</th>\n",
       "      <td>Nazareno</td>\n",
       "      <td>MX</td>\n",
       "      <td>2021-01-12 15:19:36</td>\n",
       "      <td>25.3833</td>\n",
       "      <td>-103.4167</td>\n",
       "      <td>33.80</td>\n",
       "      <td>80</td>\n",
       "      <td>1</td>\n",
       "      <td>3.00</td>\n",
       "    </tr>\n",
       "    <tr>\n",
       "      <th>557</th>\n",
       "      <td>Harbour Breton</td>\n",
       "      <td>CA</td>\n",
       "      <td>2021-01-12 15:19:36</td>\n",
       "      <td>47.4833</td>\n",
       "      <td>-55.7983</td>\n",
       "      <td>30.92</td>\n",
       "      <td>90</td>\n",
       "      <td>100</td>\n",
       "      <td>9.44</td>\n",
       "    </tr>\n",
       "  </tbody>\n",
       "</table>\n",
       "<p>558 rows × 9 columns</p>\n",
       "</div>"
      ],
      "text/plain": [
       "               City Country                 Date      Lat       Lng  Max Temp  \\\n",
       "0    Severo-Kurilsk      RU  2021-01-12 15:17:59  50.6789  156.1250     17.83   \n",
       "1           Ushuaia      AR  2021-01-12 15:17:59 -54.8000  -68.3000     46.40   \n",
       "2          Olafsvik      IS  2021-01-12 15:17:59  64.8945  -23.7142     35.10   \n",
       "3         Mahebourg      MU  2021-01-12 15:16:16 -20.4081   57.7000     80.60   \n",
       "4         Upernavik      GL  2021-01-12 15:17:59  72.7868  -56.1549     19.53   \n",
       "..              ...     ...                  ...      ...       ...       ...   \n",
       "553           Vadso      NO  2021-01-12 15:19:36  70.0744   29.7487     10.40   \n",
       "554       Stornoway      GB  2021-01-12 15:19:36  58.2093   -6.3865     39.99   \n",
       "555          Pehowa      IN  2021-01-12 15:19:36  29.9833   76.5833     50.61   \n",
       "556        Nazareno      MX  2021-01-12 15:19:36  25.3833 -103.4167     33.80   \n",
       "557  Harbour Breton      CA  2021-01-12 15:19:36  47.4833  -55.7983     30.92   \n",
       "\n",
       "     Humidity  Cloudiness  Wind Speed  \n",
       "0          90          96       15.75  \n",
       "1          46          75       14.97  \n",
       "2          82          83       15.37  \n",
       "3          89          40       17.27  \n",
       "4          96         100        3.29  \n",
       "..        ...         ...         ...  \n",
       "553        61           0       16.11  \n",
       "554        81          40        3.44  \n",
       "555        49           0        5.53  \n",
       "556        80           1        3.00  \n",
       "557        90         100        9.44  \n",
       "\n",
       "[558 rows x 9 columns]"
      ]
     },
     "execution_count": 27,
     "metadata": {},
     "output_type": "execute_result"
    }
   ],
   "source": [
    "#reorder columns \n",
    "new_column_order = [\"City\", \"Country\", \"Date\", \"Lat\", \"Lng\", \"Max Temp\", \"Humidity\", \"Cloudiness\", \"Wind Speed\"]\n",
    "\n",
    "city_data_df = city_data_df[new_column_order]\n",
    "city_data_df"
   ]
  },
  {
   "cell_type": "code",
   "execution_count": 36,
   "metadata": {},
   "outputs": [],
   "source": [
    "# Create the output file (CSV).\n",
    "output_data_file = \"weather_data/cities.csv\"\n",
    "# Export the City_Data into a CSV.\n",
    "city_data_df.to_csv(output_data_file, index_label=\"City_ID\")"
   ]
  },
  {
   "cell_type": "code",
   "execution_count": 37,
   "metadata": {},
   "outputs": [],
   "source": [
    "# Extract relevant fields from the DataFrame for plotting.\n",
    "lats = city_data_df[\"Lat\"]\n",
    "max_temps = city_data_df[\"Max Temp\"]\n",
    "humidity = city_data_df[\"Humidity\"]\n",
    "cloudiness = city_data_df[\"Cloudiness\"]\n",
    "wind_speed = city_data_df[\"Wind Speed\"]"
   ]
  },
  {
   "cell_type": "code",
   "execution_count": 38,
   "metadata": {},
   "outputs": [
    {
     "data": {
      "text/plain": [
       "1610464998.9487295"
      ]
     },
     "execution_count": 38,
     "metadata": {},
     "output_type": "execute_result"
    }
   ],
   "source": [
    "# Import the time module.\n",
    "import time\n",
    "# Get today's date in seconds.\n",
    "today = time.time()\n",
    "today"
   ]
  },
  {
   "cell_type": "code",
   "execution_count": 39,
   "metadata": {},
   "outputs": [
    {
     "data": {
      "text/plain": [
       "'01/12/21'"
      ]
     },
     "execution_count": 39,
     "metadata": {},
     "output_type": "execute_result"
    }
   ],
   "source": [
    "today = time.strftime(\"%x\")\n",
    "today"
   ]
  },
  {
   "cell_type": "code",
   "execution_count": 40,
   "metadata": {},
   "outputs": [
    {
     "data": {
      "image/png": "[encoded data removed]",
      "text/plain": [
       "<Figure size 432x288 with 1 Axes>"
      ]
     },
     "metadata": {
      "needs_background": "light"
     },
     "output_type": "display_data"
    }
   ],
   "source": [
    "# Import time module\n",
    "import time\n",
    "\n",
    "# Build the scatter plot for latitude vs. max temperature.\n",
    "plt.scatter(lats,\n",
    "            max_temps,\n",
    "            edgecolor=\"black\", linewidths=1, marker=\"o\",\n",
    "            alpha=0.8, label=\"Cities\")\n",
    "\n",
    "# Incorporate the other graph properties.\n",
    "plt.title(f\"City Latitude vs. Max Temperature \"+ time.strftime(\"%x\"))\n",
    "plt.ylabel(\"Max Temperature (F)\")\n",
    "plt.xlabel(\"Latitude\")\n",
    "plt.grid(True)\n",
    "\n",
    "# Save the figure.\n",
    "plt.savefig(\"weather_data/Fig1.png\")\n",
    "\n",
    "# Show plot.\n",
    "plt.show()"
   ]
  },
  {
   "cell_type": "code",
   "execution_count": 41,
   "metadata": {},
   "outputs": [
    {
     "data": {
      "image/png": "[encoded data removed]",
      "text/plain": [
       "<Figure size 432x288 with 1 Axes>"
      ]
     },
     "metadata": {
      "needs_background": "light"
     },
     "output_type": "display_data"
    }
   ],
   "source": [
    "# Build the scatter plots for latitude vs. humidity.\n",
    "plt.scatter(lats,\n",
    "            humidity,\n",
    "            edgecolor=\"black\", linewidths=1, marker=\"o\",\n",
    "            alpha=0.8, label=\"Cities\")\n",
    "\n",
    "# Incorporate the other graph properties.\n",
    "plt.title(f\"City Latitude vs. Humidity \"+ time.strftime(\"%x\"))\n",
    "plt.ylabel(\"Humidity (%)\")\n",
    "plt.xlabel(\"Latitude\")\n",
    "plt.grid(True)\n",
    "# Save the figure.\n",
    "plt.savefig(\"weather_data/Fig2.png\")\n",
    "# Show plot.\n",
    "plt.show()"
   ]
  },
  {
   "cell_type": "code",
   "execution_count": 42,
   "metadata": {},
   "outputs": [
    {
     "data": {
      "image/png": "[encoded data removed]",
      "text/plain": [
       "<Figure size 432x288 with 1 Axes>"
      ]
     },
     "metadata": {
      "needs_background": "light"
     },
     "output_type": "display_data"
    }
   ],
   "source": [
    "# Build the scatter plots for latitude vs. cloudiness.\n",
    "plt.scatter(lats,\n",
    "            cloudiness,\n",
    "            edgecolor=\"black\", linewidths=1, marker=\"o\",\n",
    "            alpha=0.8, label=\"Cities\")\n",
    "\n",
    "# Incorporate the other graph properties.\n",
    "plt.title(f\"City Latitude vs. Cloudiness (%) \"+ time.strftime(\"%x\"))\n",
    "plt.ylabel(\"Cloudiness (%)\")\n",
    "plt.xlabel(\"Latitude\")\n",
    "plt.grid(True)\n",
    "# Save the figure.\n",
    "plt.savefig(\"weather_data/Fig3.png\")\n",
    "# Show plot.\n",
    "plt.show()"
   ]
  },
  {
   "cell_type": "code",
   "execution_count": 43,
   "metadata": {},
   "outputs": [
    {
     "data": {
      "image/png": "[encoded data removed]",
      "text/plain": [
       "<Figure size 432x288 with 1 Axes>"
      ]
     },
     "metadata": {
      "needs_background": "light"
     },
     "output_type": "display_data"
    }
   ],
   "source": [
    "# Build the scatter plots for latitude vs. wind speed.\n",
    "plt.scatter(lats,\n",
    "            wind_speed,\n",
    "            edgecolor=\"black\", linewidths=1, marker=\"o\",\n",
    "            alpha=0.8, label=\"Cities\")\n",
    "\n",
    "# Incorporate the other graph properties.\n",
    "plt.title(f\"City Latitude vs. Wind Speed \"+ time.strftime(\"%x\"))\n",
    "plt.ylabel(\"Wind Speed (mph)\")\n",
    "plt.xlabel(\"Latitude\")\n",
    "plt.grid(True)\n",
    "# Save the figure.\n",
    "plt.savefig(\"weather_data/Fig4.png\")\n",
    "# Show plot.\n",
    "plt.show()"
   ]
  },
  {
   "cell_type": "code",
   "execution_count": 44,
   "metadata": {},
   "outputs": [],
   "source": [
    "from scipy.stats import linregress"
   ]
  },
  {
   "cell_type": "code",
   "execution_count": 45,
   "metadata": {},
   "outputs": [],
   "source": [
    "# Create a function to create perform linear regression on the weather data\n",
    "# and plot a regression line and the equation with the data.\n",
    "# def plot_linear_regression(x_values, y_values, title, y_label, text_coordinates):\n",
    "\n",
    "# Import linregress\n",
    "#     from scipy.stats import linregress\n",
    "\n",
    "# Create a function to create perform linear regression on the weather data\n",
    "# and plot a regression line and the equation with the data.\n",
    "def plot_linear_regression(x_values, y_values, title, y_label, text_coordinates):\n",
    "\n",
    "    # Run regression on hemisphere weather data.\n",
    "    (slope, intercept, r_value, p_value, std_err) = linregress(x_values, y_values)\n",
    "\n",
    "    # Calculate the regression line \"y values\" from the slope and intercept.\n",
    "    regress_values = x_values * slope + intercept\n",
    "    # Get the equation of the line.\n",
    "    line_eq = \"y = \" + str(round(slope,2)) + \"x + \" + str(round(intercept,2))\n",
    "    # Create a scatter plot and plot the regression line.\n",
    "    plt.scatter(x_values,y_values)\n",
    "    plt.plot(x_values,regress_values,\"r\")\n",
    "    # Annotate the text for the line equation.\n",
    "    plt.annotate(line_eq, text_coordinates, fontsize=15, color=\"red\")\n",
    "    plt.xlabel('Latitude')\n",
    "    plt.ylabel(y_label)\n",
    "    plt.show()"
   ]
  },
  {
   "cell_type": "code",
   "execution_count": 46,
   "metadata": {},
   "outputs": [
    {
     "data": {
      "text/plain": [
       "City                         Lata\n",
       "Country                        PT\n",
       "Date          2021-01-12 15:18:01\n",
       "Lat                       40.1629\n",
       "Lng                       -8.3327\n",
       "Max Temp                    55.99\n",
       "Humidity                       56\n",
       "Cloudiness                      0\n",
       "Wind Speed                      3\n",
       "Name: 13, dtype: object"
      ]
     },
     "execution_count": 46,
     "metadata": {},
     "output_type": "execute_result"
    }
   ],
   "source": [
    "index13 = city_data_df.loc[13]\n",
    "index13 \n"
   ]
  },
  {
   "cell_type": "code",
   "execution_count": 47,
   "metadata": {},
   "outputs": [
    {
     "data": {
      "text/plain": [
       "0       True\n",
       "1      False\n",
       "2       True\n",
       "3      False\n",
       "4       True\n",
       "       ...  \n",
       "553     True\n",
       "554     True\n",
       "555     True\n",
       "556     True\n",
       "557     True\n",
       "Name: Lat, Length: 558, dtype: bool"
      ]
     },
     "execution_count": 47,
     "metadata": {},
     "output_type": "execute_result"
    }
   ],
   "source": [
    "city_data_df[\"Lat\"] >= 0"
   ]
  },
  {
   "cell_type": "code",
   "execution_count": 48,
   "metadata": {},
   "outputs": [
    {
     "data": {
      "text/html": [
       "<div>\n",
       "<style scoped>\n",
       "    .dataframe tbody tr th:only-of-type {\n",
       "        vertical-align: middle;\n",
       "    }\n",
       "\n",
       "    .dataframe tbody tr th {\n",
       "        vertical-align: top;\n",
       "    }\n",
       "\n",
       "    .dataframe thead th {\n",
       "        text-align: right;\n",
       "    }\n",
       "</style>\n",
       "<table border=\"1\" class=\"dataframe\">\n",
       "  <thead>\n",
       "    <tr style=\"text-align: right;\">\n",
       "      <th></th>\n",
       "      <th>City</th>\n",
       "      <th>Country</th>\n",
       "      <th>Date</th>\n",
       "      <th>Lat</th>\n",
       "      <th>Lng</th>\n",
       "      <th>Max Temp</th>\n",
       "      <th>Humidity</th>\n",
       "      <th>Cloudiness</th>\n",
       "      <th>Wind Speed</th>\n",
       "    </tr>\n",
       "  </thead>\n",
       "  <tbody>\n",
       "    <tr>\n",
       "      <th>0</th>\n",
       "      <td>Severo-Kurilsk</td>\n",
       "      <td>RU</td>\n",
       "      <td>2021-01-12 15:17:59</td>\n",
       "      <td>50.6789</td>\n",
       "      <td>156.1250</td>\n",
       "      <td>17.83</td>\n",
       "      <td>90</td>\n",
       "      <td>96</td>\n",
       "      <td>15.75</td>\n",
       "    </tr>\n",
       "    <tr>\n",
       "      <th>2</th>\n",
       "      <td>Olafsvik</td>\n",
       "      <td>IS</td>\n",
       "      <td>2021-01-12 15:17:59</td>\n",
       "      <td>64.8945</td>\n",
       "      <td>-23.7142</td>\n",
       "      <td>35.10</td>\n",
       "      <td>82</td>\n",
       "      <td>83</td>\n",
       "      <td>15.37</td>\n",
       "    </tr>\n",
       "    <tr>\n",
       "      <th>4</th>\n",
       "      <td>Upernavik</td>\n",
       "      <td>GL</td>\n",
       "      <td>2021-01-12 15:17:59</td>\n",
       "      <td>72.7868</td>\n",
       "      <td>-56.1549</td>\n",
       "      <td>19.53</td>\n",
       "      <td>96</td>\n",
       "      <td>100</td>\n",
       "      <td>3.29</td>\n",
       "    </tr>\n",
       "    <tr>\n",
       "      <th>5</th>\n",
       "      <td>Barrow</td>\n",
       "      <td>US</td>\n",
       "      <td>2021-01-12 15:15:01</td>\n",
       "      <td>71.2906</td>\n",
       "      <td>-156.7887</td>\n",
       "      <td>1.40</td>\n",
       "      <td>78</td>\n",
       "      <td>90</td>\n",
       "      <td>23.02</td>\n",
       "    </tr>\n",
       "    <tr>\n",
       "      <th>8</th>\n",
       "      <td>Spornoye</td>\n",
       "      <td>RU</td>\n",
       "      <td>2021-01-12 15:18:00</td>\n",
       "      <td>50.8448</td>\n",
       "      <td>37.2913</td>\n",
       "      <td>26.60</td>\n",
       "      <td>80</td>\n",
       "      <td>75</td>\n",
       "      <td>4.47</td>\n",
       "    </tr>\n",
       "    <tr>\n",
       "      <th>...</th>\n",
       "      <td>...</td>\n",
       "      <td>...</td>\n",
       "      <td>...</td>\n",
       "      <td>...</td>\n",
       "      <td>...</td>\n",
       "      <td>...</td>\n",
       "      <td>...</td>\n",
       "      <td>...</td>\n",
       "      <td>...</td>\n",
       "    </tr>\n",
       "    <tr>\n",
       "      <th>553</th>\n",
       "      <td>Vadso</td>\n",
       "      <td>NO</td>\n",
       "      <td>2021-01-12 15:19:36</td>\n",
       "      <td>70.0744</td>\n",
       "      <td>29.7487</td>\n",
       "      <td>10.40</td>\n",
       "      <td>61</td>\n",
       "      <td>0</td>\n",
       "      <td>16.11</td>\n",
       "    </tr>\n",
       "    <tr>\n",
       "      <th>554</th>\n",
       "      <td>Stornoway</td>\n",
       "      <td>GB</td>\n",
       "      <td>2021-01-12 15:19:36</td>\n",
       "      <td>58.2093</td>\n",
       "      <td>-6.3865</td>\n",
       "      <td>39.99</td>\n",
       "      <td>81</td>\n",
       "      <td>40</td>\n",
       "      <td>3.44</td>\n",
       "    </tr>\n",
       "    <tr>\n",
       "      <th>555</th>\n",
       "      <td>Pehowa</td>\n",
       "      <td>IN</td>\n",
       "      <td>2021-01-12 15:19:36</td>\n",
       "      <td>29.9833</td>\n",
       "      <td>76.5833</td>\n",
       "      <td>50.61</td>\n",
       "      <td>49</td>\n",
       "      <td>0</td>\n",
       "      <td>5.53</td>\n",
       "    </tr>\n",
       "    <tr>\n",
       "      <th>556</th>\n",
       "      <td>Nazareno</td>\n",
       "      <td>MX</td>\n",
       "      <td>2021-01-12 15:19:36</td>\n",
       "      <td>25.3833</td>\n",
       "      <td>-103.4167</td>\n",
       "      <td>33.80</td>\n",
       "      <td>80</td>\n",
       "      <td>1</td>\n",
       "      <td>3.00</td>\n",
       "    </tr>\n",
       "    <tr>\n",
       "      <th>557</th>\n",
       "      <td>Harbour Breton</td>\n",
       "      <td>CA</td>\n",
       "      <td>2021-01-12 15:19:36</td>\n",
       "      <td>47.4833</td>\n",
       "      <td>-55.7983</td>\n",
       "      <td>30.92</td>\n",
       "      <td>90</td>\n",
       "      <td>100</td>\n",
       "      <td>9.44</td>\n",
       "    </tr>\n",
       "  </tbody>\n",
       "</table>\n",
       "<p>382 rows × 9 columns</p>\n",
       "</div>"
      ],
      "text/plain": [
       "               City Country                 Date      Lat       Lng  Max Temp  \\\n",
       "0    Severo-Kurilsk      RU  2021-01-12 15:17:59  50.6789  156.1250     17.83   \n",
       "2          Olafsvik      IS  2021-01-12 15:17:59  64.8945  -23.7142     35.10   \n",
       "4         Upernavik      GL  2021-01-12 15:17:59  72.7868  -56.1549     19.53   \n",
       "5            Barrow      US  2021-01-12 15:15:01  71.2906 -156.7887      1.40   \n",
       "8          Spornoye      RU  2021-01-12 15:18:00  50.8448   37.2913     26.60   \n",
       "..              ...     ...                  ...      ...       ...       ...   \n",
       "553           Vadso      NO  2021-01-12 15:19:36  70.0744   29.7487     10.40   \n",
       "554       Stornoway      GB  2021-01-12 15:19:36  58.2093   -6.3865     39.99   \n",
       "555          Pehowa      IN  2021-01-12 15:19:36  29.9833   76.5833     50.61   \n",
       "556        Nazareno      MX  2021-01-12 15:19:36  25.3833 -103.4167     33.80   \n",
       "557  Harbour Breton      CA  2021-01-12 15:19:36  47.4833  -55.7983     30.92   \n",
       "\n",
       "     Humidity  Cloudiness  Wind Speed  \n",
       "0          90          96       15.75  \n",
       "2          82          83       15.37  \n",
       "4          96         100        3.29  \n",
       "5          78          90       23.02  \n",
       "8          80          75        4.47  \n",
       "..        ...         ...         ...  \n",
       "553        61           0       16.11  \n",
       "554        81          40        3.44  \n",
       "555        49           0        5.53  \n",
       "556        80           1        3.00  \n",
       "557        90         100        9.44  \n",
       "\n",
       "[382 rows x 9 columns]"
      ]
     },
     "execution_count": 48,
     "metadata": {},
     "output_type": "execute_result"
    }
   ],
   "source": [
    "#return a dataframe with all data fitting the criteria for lats greate than or equal to zero \n",
    "city_data_df.loc[(city_data_df[\"Lat\"] >= 0)]"
   ]
  },
  {
   "cell_type": "code",
   "execution_count": 49,
   "metadata": {},
   "outputs": [],
   "source": [
    "northern_hemi_df = city_data_df.loc[(city_data_df[\"Lat\"] >= 0)].head()"
   ]
  },
  {
   "cell_type": "code",
   "execution_count": 50,
   "metadata": {},
   "outputs": [],
   "source": [
    "# Create Northern and Southern Hemisphere DataFrames.\n",
    "northern_hemi_df = city_data_df.loc[(city_data_df[\"Lat\"] >= 0)]\n",
    "southern_hemi_df = city_data_df.loc[(city_data_df[\"Lat\"] < 0)]"
   ]
  },
  {
   "cell_type": "code",
   "execution_count": 51,
   "metadata": {},
   "outputs": [
    {
     "data": {
      "image/png": "[encoded data removed]",
      "text/plain": [
       "<Figure size 432x288 with 1 Axes>"
      ]
     },
     "metadata": {
      "needs_background": "light"
     },
     "output_type": "display_data"
    }
   ],
   "source": [
    "# Linear regression on the Northern Hemisphere\n",
    "x_values = northern_hemi_df[\"Lat\"]\n",
    "y_values = northern_hemi_df[\"Max Temp\"]\n",
    "# Call the function.\n",
    "plot_linear_regression(x_values, y_values,\n",
    "                       'Linear Regression on the Northern Hemisphere \\\n",
    "                        for Maximum Temperature', 'Max Temp',(10,40))"
   ]
  },
  {
   "cell_type": "code",
   "execution_count": 52,
   "metadata": {},
   "outputs": [
    {
     "data": {
      "image/png": "[encoded data removed]",
      "text/plain": [
       "<Figure size 432x288 with 1 Axes>"
      ]
     },
     "metadata": {
      "needs_background": "light"
     },
     "output_type": "display_data"
    }
   ],
   "source": [
    "# Linear regression on the Southern Hemisphere\n",
    "x_values = southern_hemi_df[\"Lat\"]\n",
    "y_values = southern_hemi_df[\"Max Temp\"]\n",
    "# Call the function.\n",
    "plot_linear_regression(x_values, y_values,\n",
    "                       'Linear Regression on the Southern Hemisphere \\\n",
    "                        for Maximum Temperature', 'Max Temp',(-50,90))"
   ]
  },
  {
   "cell_type": "code",
   "execution_count": 53,
   "metadata": {},
   "outputs": [
    {
     "data": {
      "image/png": "[encoded data removed]",
      "text/plain": [
       "<Figure size 432x288 with 1 Axes>"
      ]
     },
     "metadata": {
      "needs_background": "light"
     },
     "output_type": "display_data"
    }
   ],
   "source": [
    "# Linear regression on the Northern Hemisphere\n",
    "x_values = northern_hemi_df[\"Lat\"]\n",
    "y_values = northern_hemi_df[\"Humidity\"]\n",
    "# Call the function.\n",
    "plot_linear_regression(x_values, y_values,\n",
    "                       'Linear Regression on the Northern Hemisphere \\\n",
    "                        for % Humidity', '% Humidity',(40,10))"
   ]
  },
  {
   "cell_type": "code",
   "execution_count": 54,
   "metadata": {},
   "outputs": [
    {
     "data": {
      "image/png": "[encoded data removed]",
      "text/plain": [
       "<Figure size 432x288 with 1 Axes>"
      ]
     },
     "metadata": {
      "needs_background": "light"
     },
     "output_type": "display_data"
    }
   ],
   "source": [
    "# Linear regression on the Southern Hemisphere\n",
    "x_values = southern_hemi_df[\"Lat\"]\n",
    "y_values = southern_hemi_df[\"Humidity\"]\n",
    "# Call the function.\n",
    "plot_linear_regression(x_values, y_values,\n",
    "                       'Linear Regression on the Southern Hemisphere \\\n",
    "                        for % Humidity', '% Humidity',(-50,15))"
   ]
  },
  {
   "cell_type": "code",
   "execution_count": 55,
   "metadata": {},
   "outputs": [
    {
     "data": {
      "image/png": "[encoded data removed]",
      "text/plain": [
       "<Figure size 432x288 with 1 Axes>"
      ]
     },
     "metadata": {
      "needs_background": "light"
     },
     "output_type": "display_data"
    }
   ],
   "source": [
    "# Linear regression on the Northern Hemisphere\n",
    "x_values = northern_hemi_df[\"Lat\"]\n",
    "y_values = northern_hemi_df[\"Cloudiness\"]\n",
    "# Call the function.\n",
    "plot_linear_regression(x_values, y_values,\n",
    "                       'Linear Regression on the Northern Hemisphere \\\n",
    "                        for % Cloudiness', '% Cloudiness',(40,10))"
   ]
  },
  {
   "cell_type": "code",
   "execution_count": 56,
   "metadata": {},
   "outputs": [
    {
     "data": {
      "image/png": "[encoded data removed]",
      "text/plain": [
       "<Figure size 432x288 with 1 Axes>"
      ]
     },
     "metadata": {
      "needs_background": "light"
     },
     "output_type": "display_data"
    }
   ],
   "source": [
    "# Linear regression on the Southern Hemisphere\n",
    "x_values = southern_hemi_df[\"Lat\"]\n",
    "y_values = southern_hemi_df[\"Cloudiness\"]\n",
    "# Call the function.\n",
    "plot_linear_regression(x_values, y_values,\n",
    "                       'Linear Regression on the Southern Hemisphere \\\n",
    "                        for % Cloudiness', '% Cloudiness',(-50,60))"
   ]
  },
  {
   "cell_type": "code",
   "execution_count": 57,
   "metadata": {},
   "outputs": [
    {
     "data": {
      "image/png": "[encoded data removed]",
      "text/plain": [
       "<Figure size 432x288 with 1 Axes>"
      ]
     },
     "metadata": {
      "needs_background": "light"
     },
     "output_type": "display_data"
    }
   ],
   "source": [
    "# Linear regression on the Northern Hemisphere\n",
    "x_values = northern_hemi_df[\"Lat\"]\n",
    "y_values = northern_hemi_df[\"Wind Speed\"]\n",
    "# Call the function.\n",
    "plot_linear_regression(x_values, y_values,\n",
    "                       'Linear Regression on the Northern Hemisphere \\\n",
    "                        for Wind Speed', 'Wind Speed',(40,35))"
   ]
  },
  {
   "cell_type": "code",
   "execution_count": 58,
   "metadata": {},
   "outputs": [
    {
     "data": {
      "image/png": "[encoded data removed]",
      "text/plain": [
       "<Figure size 432x288 with 1 Axes>"
      ]
     },
     "metadata": {
      "needs_background": "light"
     },
     "output_type": "display_data"
    }
   ],
   "source": [
    "# Linear regression on the Southern Hemisphere\n",
    "x_values = southern_hemi_df[\"Lat\"]\n",
    "y_values = southern_hemi_df[\"Wind Speed\"]\n",
    "# Call the function.\n",
    "plot_linear_regression(x_values, y_values,\n",
    "                       'Linear Regression on the Southern Hemisphere \\\n",
    "                        for Wind Speed', 'Wind Speed',(-50,35))"
   ]
  },
  {
   "cell_type": "code",
   "execution_count": 59,
   "metadata": {},
   "outputs": [],
   "source": [
    "# Import the dependencies.\n",
    "import pandas as pd\n",
    "import gmaps\n",
    "import requests\n",
    "# Import the API key.\n",
    "from config import g_key"
   ]
  },
  {
   "cell_type": "code",
   "execution_count": 60,
   "metadata": {},
   "outputs": [
    {
     "data": {
      "text/html": [
       "<div>\n",
       "<style scoped>\n",
       "    .dataframe tbody tr th:only-of-type {\n",
       "        vertical-align: middle;\n",
       "    }\n",
       "\n",
       "    .dataframe tbody tr th {\n",
       "        vertical-align: top;\n",
       "    }\n",
       "\n",
       "    .dataframe thead th {\n",
       "        text-align: right;\n",
       "    }\n",
       "</style>\n",
       "<table border=\"1\" class=\"dataframe\">\n",
       "  <thead>\n",
       "    <tr style=\"text-align: right;\">\n",
       "      <th></th>\n",
       "      <th>City_ID</th>\n",
       "      <th>City</th>\n",
       "      <th>Country</th>\n",
       "      <th>Date</th>\n",
       "      <th>Lat</th>\n",
       "      <th>Lng</th>\n",
       "      <th>Max Temp</th>\n",
       "      <th>Humidity</th>\n",
       "      <th>Cloudiness</th>\n",
       "      <th>Wind Speed</th>\n",
       "    </tr>\n",
       "  </thead>\n",
       "  <tbody>\n",
       "    <tr>\n",
       "      <th>0</th>\n",
       "      <td>0</td>\n",
       "      <td>Severo-Kurilsk</td>\n",
       "      <td>RU</td>\n",
       "      <td>2021-01-12 15:17:59</td>\n",
       "      <td>50.6789</td>\n",
       "      <td>156.1250</td>\n",
       "      <td>17.83</td>\n",
       "      <td>90</td>\n",
       "      <td>96</td>\n",
       "      <td>15.75</td>\n",
       "    </tr>\n",
       "    <tr>\n",
       "      <th>1</th>\n",
       "      <td>1</td>\n",
       "      <td>Ushuaia</td>\n",
       "      <td>AR</td>\n",
       "      <td>2021-01-12 15:17:59</td>\n",
       "      <td>-54.8000</td>\n",
       "      <td>-68.3000</td>\n",
       "      <td>46.40</td>\n",
       "      <td>46</td>\n",
       "      <td>75</td>\n",
       "      <td>14.97</td>\n",
       "    </tr>\n",
       "    <tr>\n",
       "      <th>2</th>\n",
       "      <td>2</td>\n",
       "      <td>Olafsvik</td>\n",
       "      <td>IS</td>\n",
       "      <td>2021-01-12 15:17:59</td>\n",
       "      <td>64.8945</td>\n",
       "      <td>-23.7142</td>\n",
       "      <td>35.10</td>\n",
       "      <td>82</td>\n",
       "      <td>83</td>\n",
       "      <td>15.37</td>\n",
       "    </tr>\n",
       "    <tr>\n",
       "      <th>3</th>\n",
       "      <td>3</td>\n",
       "      <td>Mahebourg</td>\n",
       "      <td>MU</td>\n",
       "      <td>2021-01-12 15:16:16</td>\n",
       "      <td>-20.4081</td>\n",
       "      <td>57.7000</td>\n",
       "      <td>80.60</td>\n",
       "      <td>89</td>\n",
       "      <td>40</td>\n",
       "      <td>17.27</td>\n",
       "    </tr>\n",
       "    <tr>\n",
       "      <th>4</th>\n",
       "      <td>4</td>\n",
       "      <td>Upernavik</td>\n",
       "      <td>GL</td>\n",
       "      <td>2021-01-12 15:17:59</td>\n",
       "      <td>72.7868</td>\n",
       "      <td>-56.1549</td>\n",
       "      <td>19.53</td>\n",
       "      <td>96</td>\n",
       "      <td>100</td>\n",
       "      <td>3.29</td>\n",
       "    </tr>\n",
       "  </tbody>\n",
       "</table>\n",
       "</div>"
      ],
      "text/plain": [
       "   City_ID            City Country                 Date      Lat       Lng  \\\n",
       "0        0  Severo-Kurilsk      RU  2021-01-12 15:17:59  50.6789  156.1250   \n",
       "1        1         Ushuaia      AR  2021-01-12 15:17:59 -54.8000  -68.3000   \n",
       "2        2        Olafsvik      IS  2021-01-12 15:17:59  64.8945  -23.7142   \n",
       "3        3       Mahebourg      MU  2021-01-12 15:16:16 -20.4081   57.7000   \n",
       "4        4       Upernavik      GL  2021-01-12 15:17:59  72.7868  -56.1549   \n",
       "\n",
       "   Max Temp  Humidity  Cloudiness  Wind Speed  \n",
       "0     17.83        90          96       15.75  \n",
       "1     46.40        46          75       14.97  \n",
       "2     35.10        82          83       15.37  \n",
       "3     80.60        89          40       17.27  \n",
       "4     19.53        96         100        3.29  "
      ]
     },
     "execution_count": 60,
     "metadata": {},
     "output_type": "execute_result"
    }
   ],
   "source": [
    "# Store the CSV you saved created in part one into a DataFrame.\n",
    "city_data_df = pd.read_csv(\"weather_data/cities.csv\")\n",
    "city_data_df.head()"
   ]
  },
  {
   "cell_type": "code",
   "execution_count": 61,
   "metadata": {
    "scrolled": true
   },
   "outputs": [
    {
     "data": {
      "text/plain": [
       "City_ID         int64\n",
       "City           object\n",
       "Country        object\n",
       "Date           object\n",
       "Lat           float64\n",
       "Lng           float64\n",
       "Max Temp      float64\n",
       "Humidity        int64\n",
       "Cloudiness      int64\n",
       "Wind Speed    float64\n",
       "dtype: object"
      ]
     },
     "execution_count": 61,
     "metadata": {},
     "output_type": "execute_result"
    }
   ],
   "source": [
    "city_data_df.dtypes"
   ]
  },
  {
   "cell_type": "code",
   "execution_count": 62,
   "metadata": {},
   "outputs": [],
   "source": [
    "# Configure gmaps to use your Google API key.\n",
    "gmaps.configure(api_key=g_key)"
   ]
  },
  {
   "cell_type": "code",
   "execution_count": 63,
   "metadata": {},
   "outputs": [],
   "source": [
    "# Get the maximum temperature.\n",
    "max_temp = city_data_df[\"Max Temp\"]\n",
    "temps = []\n",
    "for temp in max_temp:\n",
    "    temps.append(max(temp, 0))"
   ]
  },
  {
   "cell_type": "code",
   "execution_count": 64,
   "metadata": {},
   "outputs": [
    {
     "data": {
      "application/vnd.jupyter.widget-view+json": {
       "model_id": "6fe8af24c26549c7bbd854b4fc4843ab",
       "version_major": 2,
       "version_minor": 0
      },
      "text/plain": [
       "Figure(layout=FigureLayout(height='420px'))"
      ]
     },
     "metadata": {},
     "output_type": "display_data"
    }
   ],
   "source": [
    "# Heatmap of temperature\n",
    "# Get the latitude and longitude.\n",
    "locations = city_data_df[[\"Lat\", \"Lng\"]]\n",
    "# Get the maximum temperature.\n",
    "max_temp = city_data_df[\"Max Temp\"]\n",
    "# Assign the figure variable.\n",
    "fig = gmaps.figure()\n",
    "# add a zoom level\n",
    "fig = gmaps.figure(center=(30.0, 31.0), zoom_level=1.5)\n",
    "# Assign the heatmap variable.\n",
    "#heat_layer = gmaps.heatmap_layer(locations, weights=temps)\n",
    "#heat_layer = gmaps.heatmap_layer(locations, weights=[max(temp, 0) for temp in max_temp])\n",
    "heat_layer = gmaps.heatmap_layer(locations, weights=temps, dissipating=False, max_intensity=300, point_radius=4)\n",
    "# Add the heatmap layer.\n",
    "fig.add_layer(heat_layer)\n",
    "\n",
    "# Call the figure to plot the data.\n",
    "fig"
   ]
  },
  {
   "cell_type": "code",
   "execution_count": 65,
   "metadata": {},
   "outputs": [
    {
     "data": {
      "application/vnd.jupyter.widget-view+json": {
       "model_id": "deb61118594a415482d261c551eff2dd",
       "version_major": 2,
       "version_minor": 0
      },
      "text/plain": [
       "Figure(layout=FigureLayout(height='420px'))"
      ]
     },
     "metadata": {},
     "output_type": "display_data"
    }
   ],
   "source": [
    "# Heatmap of percent humidity\n",
    "locations = city_data_df[[\"Lat\", \"Lng\"]]\n",
    "humidity = city_data_df[\"Humidity\"]\n",
    "fig = gmaps.figure(center=(30.0, 31.0), zoom_level=1.5)\n",
    "heat_layer = gmaps.heatmap_layer(locations, weights=humidity, dissipating=False, max_intensity=300, point_radius=4)\n",
    "\n",
    "fig.add_layer(heat_layer)\n",
    "# Call the figure to plot the data.\n",
    "fig"
   ]
  },
  {
   "cell_type": "code",
   "execution_count": 66,
   "metadata": {},
   "outputs": [
    {
     "data": {
      "application/vnd.jupyter.widget-view+json": {
       "model_id": "9ef464e860954566a6531446bb24384e",
       "version_major": 2,
       "version_minor": 0
      },
      "text/plain": [
       "Figure(layout=FigureLayout(height='420px'))"
      ]
     },
     "metadata": {},
     "output_type": "display_data"
    }
   ],
   "source": [
    "# Heatmap of percent humidity\n",
    "locations = city_data_df[[\"Lat\", \"Lng\"]]\n",
    "wind = city_data_df[\"Wind Speed\"]\n",
    "fig = gmaps.figure(center=(30.0, 31.0), zoom_level=1.5)\n",
    "heat_layer = gmaps.heatmap_layer(locations, weights=wind, dissipating=False, max_intensity=300, point_radius=4)\n",
    "\n",
    "fig.add_layer(heat_layer)\n",
    "# Call the figure to plot the data.\n",
    "fig"
   ]
  },
  {
   "cell_type": "code",
   "execution_count": 67,
   "metadata": {},
   "outputs": [
    {
     "name": "stdout",
     "output_type": "stream",
     "text": [
      "What is the minimum temperature you would like for your trip? 75\n",
      "What is the maximum temperature you would like for your trip? 90\n"
     ]
    }
   ],
   "source": [
    "# Ask the customer to add a minimum and maximum temperature value.\n",
    "min_temp = float(input(\"What is the minimum temperature you would like for your trip? \"))\n",
    "max_temp = float(input(\"What is the maximum temperature you would like for your trip? \"))"
   ]
  },
  {
   "cell_type": "code",
   "execution_count": 68,
   "metadata": {},
   "outputs": [
    {
     "data": {
      "text/html": [
       "<div>\n",
       "<style scoped>\n",
       "    .dataframe tbody tr th:only-of-type {\n",
       "        vertical-align: middle;\n",
       "    }\n",
       "\n",
       "    .dataframe tbody tr th {\n",
       "        vertical-align: top;\n",
       "    }\n",
       "\n",
       "    .dataframe thead th {\n",
       "        text-align: right;\n",
       "    }\n",
       "</style>\n",
       "<table border=\"1\" class=\"dataframe\">\n",
       "  <thead>\n",
       "    <tr style=\"text-align: right;\">\n",
       "      <th></th>\n",
       "      <th>City_ID</th>\n",
       "      <th>City</th>\n",
       "      <th>Country</th>\n",
       "      <th>Date</th>\n",
       "      <th>Lat</th>\n",
       "      <th>Lng</th>\n",
       "      <th>Max Temp</th>\n",
       "      <th>Humidity</th>\n",
       "      <th>Cloudiness</th>\n",
       "      <th>Wind Speed</th>\n",
       "    </tr>\n",
       "  </thead>\n",
       "  <tbody>\n",
       "    <tr>\n",
       "      <th>3</th>\n",
       "      <td>3</td>\n",
       "      <td>Mahebourg</td>\n",
       "      <td>MU</td>\n",
       "      <td>2021-01-12 15:16:16</td>\n",
       "      <td>-20.4081</td>\n",
       "      <td>57.7000</td>\n",
       "      <td>80.60</td>\n",
       "      <td>89</td>\n",
       "      <td>40</td>\n",
       "      <td>17.27</td>\n",
       "    </tr>\n",
       "    <tr>\n",
       "      <th>9</th>\n",
       "      <td>9</td>\n",
       "      <td>Rikitea</td>\n",
       "      <td>PF</td>\n",
       "      <td>2021-01-12 15:18:01</td>\n",
       "      <td>-23.1203</td>\n",
       "      <td>-134.9692</td>\n",
       "      <td>77.59</td>\n",
       "      <td>78</td>\n",
       "      <td>8</td>\n",
       "      <td>18.66</td>\n",
       "    </tr>\n",
       "    <tr>\n",
       "      <th>10</th>\n",
       "      <td>10</td>\n",
       "      <td>Mackay</td>\n",
       "      <td>AU</td>\n",
       "      <td>2021-01-12 15:18:01</td>\n",
       "      <td>-21.1500</td>\n",
       "      <td>149.2000</td>\n",
       "      <td>78.80</td>\n",
       "      <td>83</td>\n",
       "      <td>75</td>\n",
       "      <td>16.11</td>\n",
       "    </tr>\n",
       "    <tr>\n",
       "      <th>14</th>\n",
       "      <td>14</td>\n",
       "      <td>Mormugao</td>\n",
       "      <td>IN</td>\n",
       "      <td>2021-01-12 15:18:02</td>\n",
       "      <td>15.4000</td>\n",
       "      <td>73.8000</td>\n",
       "      <td>82.40</td>\n",
       "      <td>65</td>\n",
       "      <td>40</td>\n",
       "      <td>4.61</td>\n",
       "    </tr>\n",
       "    <tr>\n",
       "      <th>16</th>\n",
       "      <td>16</td>\n",
       "      <td>Tutoia</td>\n",
       "      <td>BR</td>\n",
       "      <td>2021-01-12 15:18:02</td>\n",
       "      <td>-2.7619</td>\n",
       "      <td>-42.2744</td>\n",
       "      <td>89.60</td>\n",
       "      <td>58</td>\n",
       "      <td>20</td>\n",
       "      <td>14.97</td>\n",
       "    </tr>\n",
       "    <tr>\n",
       "      <th>21</th>\n",
       "      <td>21</td>\n",
       "      <td>Avarua</td>\n",
       "      <td>CK</td>\n",
       "      <td>2021-01-12 15:18:03</td>\n",
       "      <td>-21.2078</td>\n",
       "      <td>-159.7750</td>\n",
       "      <td>78.80</td>\n",
       "      <td>78</td>\n",
       "      <td>61</td>\n",
       "      <td>8.05</td>\n",
       "    </tr>\n",
       "    <tr>\n",
       "      <th>22</th>\n",
       "      <td>22</td>\n",
       "      <td>Vao</td>\n",
       "      <td>NC</td>\n",
       "      <td>2021-01-12 15:18:03</td>\n",
       "      <td>-22.6667</td>\n",
       "      <td>167.4833</td>\n",
       "      <td>78.33</td>\n",
       "      <td>84</td>\n",
       "      <td>100</td>\n",
       "      <td>18.75</td>\n",
       "    </tr>\n",
       "    <tr>\n",
       "      <th>28</th>\n",
       "      <td>28</td>\n",
       "      <td>Pitimbu</td>\n",
       "      <td>BR</td>\n",
       "      <td>2021-01-12 15:18:04</td>\n",
       "      <td>-7.4706</td>\n",
       "      <td>-34.8086</td>\n",
       "      <td>84.20</td>\n",
       "      <td>70</td>\n",
       "      <td>75</td>\n",
       "      <td>12.66</td>\n",
       "    </tr>\n",
       "    <tr>\n",
       "      <th>29</th>\n",
       "      <td>29</td>\n",
       "      <td>Palmas</td>\n",
       "      <td>BR</td>\n",
       "      <td>2021-01-12 15:17:50</td>\n",
       "      <td>-10.2128</td>\n",
       "      <td>-48.3603</td>\n",
       "      <td>86.00</td>\n",
       "      <td>74</td>\n",
       "      <td>40</td>\n",
       "      <td>3.44</td>\n",
       "    </tr>\n",
       "    <tr>\n",
       "      <th>30</th>\n",
       "      <td>30</td>\n",
       "      <td>Cape Town</td>\n",
       "      <td>ZA</td>\n",
       "      <td>2021-01-12 15:18:05</td>\n",
       "      <td>-33.9258</td>\n",
       "      <td>18.4232</td>\n",
       "      <td>78.01</td>\n",
       "      <td>61</td>\n",
       "      <td>0</td>\n",
       "      <td>17.27</td>\n",
       "    </tr>\n",
       "  </tbody>\n",
       "</table>\n",
       "</div>"
      ],
      "text/plain": [
       "    City_ID       City Country                 Date      Lat       Lng  \\\n",
       "3         3  Mahebourg      MU  2021-01-12 15:16:16 -20.4081   57.7000   \n",
       "9         9    Rikitea      PF  2021-01-12 15:18:01 -23.1203 -134.9692   \n",
       "10       10     Mackay      AU  2021-01-12 15:18:01 -21.1500  149.2000   \n",
       "14       14   Mormugao      IN  2021-01-12 15:18:02  15.4000   73.8000   \n",
       "16       16     Tutoia      BR  2021-01-12 15:18:02  -2.7619  -42.2744   \n",
       "21       21     Avarua      CK  2021-01-12 15:18:03 -21.2078 -159.7750   \n",
       "22       22        Vao      NC  2021-01-12 15:18:03 -22.6667  167.4833   \n",
       "28       28    Pitimbu      BR  2021-01-12 15:18:04  -7.4706  -34.8086   \n",
       "29       29     Palmas      BR  2021-01-12 15:17:50 -10.2128  -48.3603   \n",
       "30       30  Cape Town      ZA  2021-01-12 15:18:05 -33.9258   18.4232   \n",
       "\n",
       "    Max Temp  Humidity  Cloudiness  Wind Speed  \n",
       "3      80.60        89          40       17.27  \n",
       "9      77.59        78           8       18.66  \n",
       "10     78.80        83          75       16.11  \n",
       "14     82.40        65          40        4.61  \n",
       "16     89.60        58          20       14.97  \n",
       "21     78.80        78          61        8.05  \n",
       "22     78.33        84         100       18.75  \n",
       "28     84.20        70          75       12.66  \n",
       "29     86.00        74          40        3.44  \n",
       "30     78.01        61           0       17.27  "
      ]
     },
     "execution_count": 68,
     "metadata": {},
     "output_type": "execute_result"
    }
   ],
   "source": [
    "# Filter the dataset to find the cities that fit the criteria.\n",
    "preferred_cities_df = city_data_df.loc[(city_data_df[\"Max Temp\"] <= max_temp) & \\\n",
    "                                       (city_data_df[\"Max Temp\"] >= min_temp)]\n",
    "preferred_cities_df.head(10)"
   ]
  },
  {
   "cell_type": "code",
   "execution_count": 69,
   "metadata": {},
   "outputs": [
    {
     "data": {
      "text/plain": [
       "City_ID       173\n",
       "City          173\n",
       "Country       170\n",
       "Date          173\n",
       "Lat           173\n",
       "Lng           173\n",
       "Max Temp      173\n",
       "Humidity      173\n",
       "Cloudiness    173\n",
       "Wind Speed    173\n",
       "dtype: int64"
      ]
     },
     "execution_count": 69,
     "metadata": {},
     "output_type": "execute_result"
    }
   ],
   "source": [
    "preferred_cities_df.count()"
   ]
  },
  {
   "cell_type": "code",
   "execution_count": 70,
   "metadata": {},
   "outputs": [
    {
     "data": {
      "text/html": [
       "<div>\n",
       "<style scoped>\n",
       "    .dataframe tbody tr th:only-of-type {\n",
       "        vertical-align: middle;\n",
       "    }\n",
       "\n",
       "    .dataframe tbody tr th {\n",
       "        vertical-align: top;\n",
       "    }\n",
       "\n",
       "    .dataframe thead th {\n",
       "        text-align: right;\n",
       "    }\n",
       "</style>\n",
       "<table border=\"1\" class=\"dataframe\">\n",
       "  <thead>\n",
       "    <tr style=\"text-align: right;\">\n",
       "      <th></th>\n",
       "      <th>City</th>\n",
       "      <th>Country</th>\n",
       "      <th>Max Temp</th>\n",
       "      <th>Lat</th>\n",
       "      <th>Lng</th>\n",
       "      <th>Hotel Name</th>\n",
       "    </tr>\n",
       "  </thead>\n",
       "  <tbody>\n",
       "    <tr>\n",
       "      <th>3</th>\n",
       "      <td>Mahebourg</td>\n",
       "      <td>MU</td>\n",
       "      <td>80.60</td>\n",
       "      <td>-20.4081</td>\n",
       "      <td>57.7000</td>\n",
       "      <td></td>\n",
       "    </tr>\n",
       "    <tr>\n",
       "      <th>9</th>\n",
       "      <td>Rikitea</td>\n",
       "      <td>PF</td>\n",
       "      <td>77.59</td>\n",
       "      <td>-23.1203</td>\n",
       "      <td>-134.9692</td>\n",
       "      <td></td>\n",
       "    </tr>\n",
       "    <tr>\n",
       "      <th>10</th>\n",
       "      <td>Mackay</td>\n",
       "      <td>AU</td>\n",
       "      <td>78.80</td>\n",
       "      <td>-21.1500</td>\n",
       "      <td>149.2000</td>\n",
       "      <td></td>\n",
       "    </tr>\n",
       "    <tr>\n",
       "      <th>14</th>\n",
       "      <td>Mormugao</td>\n",
       "      <td>IN</td>\n",
       "      <td>82.40</td>\n",
       "      <td>15.4000</td>\n",
       "      <td>73.8000</td>\n",
       "      <td></td>\n",
       "    </tr>\n",
       "    <tr>\n",
       "      <th>16</th>\n",
       "      <td>Tutoia</td>\n",
       "      <td>BR</td>\n",
       "      <td>89.60</td>\n",
       "      <td>-2.7619</td>\n",
       "      <td>-42.2744</td>\n",
       "      <td></td>\n",
       "    </tr>\n",
       "    <tr>\n",
       "      <th>21</th>\n",
       "      <td>Avarua</td>\n",
       "      <td>CK</td>\n",
       "      <td>78.80</td>\n",
       "      <td>-21.2078</td>\n",
       "      <td>-159.7750</td>\n",
       "      <td></td>\n",
       "    </tr>\n",
       "    <tr>\n",
       "      <th>22</th>\n",
       "      <td>Vao</td>\n",
       "      <td>NC</td>\n",
       "      <td>78.33</td>\n",
       "      <td>-22.6667</td>\n",
       "      <td>167.4833</td>\n",
       "      <td></td>\n",
       "    </tr>\n",
       "    <tr>\n",
       "      <th>28</th>\n",
       "      <td>Pitimbu</td>\n",
       "      <td>BR</td>\n",
       "      <td>84.20</td>\n",
       "      <td>-7.4706</td>\n",
       "      <td>-34.8086</td>\n",
       "      <td></td>\n",
       "    </tr>\n",
       "    <tr>\n",
       "      <th>29</th>\n",
       "      <td>Palmas</td>\n",
       "      <td>BR</td>\n",
       "      <td>86.00</td>\n",
       "      <td>-10.2128</td>\n",
       "      <td>-48.3603</td>\n",
       "      <td></td>\n",
       "    </tr>\n",
       "    <tr>\n",
       "      <th>30</th>\n",
       "      <td>Cape Town</td>\n",
       "      <td>ZA</td>\n",
       "      <td>78.01</td>\n",
       "      <td>-33.9258</td>\n",
       "      <td>18.4232</td>\n",
       "      <td></td>\n",
       "    </tr>\n",
       "  </tbody>\n",
       "</table>\n",
       "</div>"
      ],
      "text/plain": [
       "         City Country  Max Temp      Lat       Lng Hotel Name\n",
       "3   Mahebourg      MU     80.60 -20.4081   57.7000           \n",
       "9     Rikitea      PF     77.59 -23.1203 -134.9692           \n",
       "10     Mackay      AU     78.80 -21.1500  149.2000           \n",
       "14   Mormugao      IN     82.40  15.4000   73.8000           \n",
       "16     Tutoia      BR     89.60  -2.7619  -42.2744           \n",
       "21     Avarua      CK     78.80 -21.2078 -159.7750           \n",
       "22        Vao      NC     78.33 -22.6667  167.4833           \n",
       "28    Pitimbu      BR     84.20  -7.4706  -34.8086           \n",
       "29     Palmas      BR     86.00 -10.2128  -48.3603           \n",
       "30  Cape Town      ZA     78.01 -33.9258   18.4232           "
      ]
     },
     "execution_count": 70,
     "metadata": {},
     "output_type": "execute_result"
    }
   ],
   "source": [
    "# Create DataFrame called hotel_df to store hotel names along with city, country, max temp, and coordinates.\n",
    "hotel_df = preferred_cities_df[[\"City\", \"Country\", \"Max Temp\", \"Lat\", \"Lng\"]].copy()\n",
    "hotel_df[\"Hotel Name\"] = \"\"\n",
    "hotel_df.head(10)"
   ]
  },
  {
   "cell_type": "code",
   "execution_count": 71,
   "metadata": {},
   "outputs": [
    {
     "data": {
      "text/html": [
       "<div>\n",
       "<style scoped>\n",
       "    .dataframe tbody tr th:only-of-type {\n",
       "        vertical-align: middle;\n",
       "    }\n",
       "\n",
       "    .dataframe tbody tr th {\n",
       "        vertical-align: top;\n",
       "    }\n",
       "\n",
       "    .dataframe thead th {\n",
       "        text-align: right;\n",
       "    }\n",
       "</style>\n",
       "<table border=\"1\" class=\"dataframe\">\n",
       "  <thead>\n",
       "    <tr style=\"text-align: right;\">\n",
       "      <th></th>\n",
       "      <th>City</th>\n",
       "      <th>Country</th>\n",
       "      <th>Max Temp</th>\n",
       "      <th>Lat</th>\n",
       "      <th>Lng</th>\n",
       "      <th>Hotel Name</th>\n",
       "    </tr>\n",
       "  </thead>\n",
       "  <tbody>\n",
       "    <tr>\n",
       "      <th>3</th>\n",
       "      <td>Mahebourg</td>\n",
       "      <td>MU</td>\n",
       "      <td>80.60</td>\n",
       "      <td>-20.4081</td>\n",
       "      <td>57.7000</td>\n",
       "      <td></td>\n",
       "    </tr>\n",
       "    <tr>\n",
       "      <th>9</th>\n",
       "      <td>Rikitea</td>\n",
       "      <td>PF</td>\n",
       "      <td>77.59</td>\n",
       "      <td>-23.1203</td>\n",
       "      <td>-134.9692</td>\n",
       "      <td></td>\n",
       "    </tr>\n",
       "    <tr>\n",
       "      <th>10</th>\n",
       "      <td>Mackay</td>\n",
       "      <td>AU</td>\n",
       "      <td>78.80</td>\n",
       "      <td>-21.1500</td>\n",
       "      <td>149.2000</td>\n",
       "      <td></td>\n",
       "    </tr>\n",
       "    <tr>\n",
       "      <th>14</th>\n",
       "      <td>Mormugao</td>\n",
       "      <td>IN</td>\n",
       "      <td>82.40</td>\n",
       "      <td>15.4000</td>\n",
       "      <td>73.8000</td>\n",
       "      <td></td>\n",
       "    </tr>\n",
       "    <tr>\n",
       "      <th>16</th>\n",
       "      <td>Tutoia</td>\n",
       "      <td>BR</td>\n",
       "      <td>89.60</td>\n",
       "      <td>-2.7619</td>\n",
       "      <td>-42.2744</td>\n",
       "      <td></td>\n",
       "    </tr>\n",
       "    <tr>\n",
       "      <th>21</th>\n",
       "      <td>Avarua</td>\n",
       "      <td>CK</td>\n",
       "      <td>78.80</td>\n",
       "      <td>-21.2078</td>\n",
       "      <td>-159.7750</td>\n",
       "      <td></td>\n",
       "    </tr>\n",
       "    <tr>\n",
       "      <th>22</th>\n",
       "      <td>Vao</td>\n",
       "      <td>NC</td>\n",
       "      <td>78.33</td>\n",
       "      <td>-22.6667</td>\n",
       "      <td>167.4833</td>\n",
       "      <td></td>\n",
       "    </tr>\n",
       "    <tr>\n",
       "      <th>28</th>\n",
       "      <td>Pitimbu</td>\n",
       "      <td>BR</td>\n",
       "      <td>84.20</td>\n",
       "      <td>-7.4706</td>\n",
       "      <td>-34.8086</td>\n",
       "      <td></td>\n",
       "    </tr>\n",
       "    <tr>\n",
       "      <th>29</th>\n",
       "      <td>Palmas</td>\n",
       "      <td>BR</td>\n",
       "      <td>86.00</td>\n",
       "      <td>-10.2128</td>\n",
       "      <td>-48.3603</td>\n",
       "      <td></td>\n",
       "    </tr>\n",
       "    <tr>\n",
       "      <th>30</th>\n",
       "      <td>Cape Town</td>\n",
       "      <td>ZA</td>\n",
       "      <td>78.01</td>\n",
       "      <td>-33.9258</td>\n",
       "      <td>18.4232</td>\n",
       "      <td></td>\n",
       "    </tr>\n",
       "  </tbody>\n",
       "</table>\n",
       "</div>"
      ],
      "text/plain": [
       "         City Country  Max Temp      Lat       Lng Hotel Name\n",
       "3   Mahebourg      MU     80.60 -20.4081   57.7000           \n",
       "9     Rikitea      PF     77.59 -23.1203 -134.9692           \n",
       "10     Mackay      AU     78.80 -21.1500  149.2000           \n",
       "14   Mormugao      IN     82.40  15.4000   73.8000           \n",
       "16     Tutoia      BR     89.60  -2.7619  -42.2744           \n",
       "21     Avarua      CK     78.80 -21.2078 -159.7750           \n",
       "22        Vao      NC     78.33 -22.6667  167.4833           \n",
       "28    Pitimbu      BR     84.20  -7.4706  -34.8086           \n",
       "29     Palmas      BR     86.00 -10.2128  -48.3603           \n",
       "30  Cape Town      ZA     78.01 -33.9258   18.4232           "
      ]
     },
     "execution_count": 71,
     "metadata": {},
     "output_type": "execute_result"
    }
   ],
   "source": [
    "# Create DataFrame called hotel_df to store hotel names along with city, country, max temp, and coordinates.\n",
    "hotel_df = preferred_cities_df[[\"City\", \"Country\", \"Max Temp\", \"Lat\", \"Lng\"]].copy()\n",
    "hotel_df[\"Hotel Name\"] = \"\"\n",
    "hotel_df.head(10) "
   ]
  },
  {
   "cell_type": "code",
   "execution_count": 72,
   "metadata": {},
   "outputs": [],
   "source": [
    "# Set parameters to search for a hotel.\n",
    "params = {\n",
    "    \"radius\": 5000,\n",
    "    \"type\": \"lodging\",\n",
    "    \"key\": g_key\n",
    "}"
   ]
  },
  {
   "cell_type": "code",
   "execution_count": 73,
   "metadata": {},
   "outputs": [
    {
     "ename": "IndexError",
     "evalue": "list index out of range",
     "output_type": "error",
     "traceback": [
      "\u001b[1;31m---------------------------------------------------------------------------\u001b[0m",
      "\u001b[1;31mIndexError\u001b[0m                                Traceback (most recent call last)",
      "\u001b[1;32m<ipython-input-73-ed03c0401e29>\u001b[0m in \u001b[0;36m<module>\u001b[1;34m\u001b[0m\n\u001b[0;32m     13\u001b[0m     \u001b[0mhotels\u001b[0m \u001b[1;33m=\u001b[0m \u001b[0mrequests\u001b[0m\u001b[1;33m.\u001b[0m\u001b[0mget\u001b[0m\u001b[1;33m(\u001b[0m\u001b[0mbase_url\u001b[0m\u001b[1;33m,\u001b[0m \u001b[0mparams\u001b[0m\u001b[1;33m=\u001b[0m\u001b[0mparams\u001b[0m\u001b[1;33m)\u001b[0m\u001b[1;33m.\u001b[0m\u001b[0mjson\u001b[0m\u001b[1;33m(\u001b[0m\u001b[1;33m)\u001b[0m\u001b[1;33m\u001b[0m\u001b[1;33m\u001b[0m\u001b[0m\n\u001b[0;32m     14\u001b[0m     \u001b[1;31m# Grab the first hotel from the results and store the name.\u001b[0m\u001b[1;33m\u001b[0m\u001b[1;33m\u001b[0m\u001b[1;33m\u001b[0m\u001b[0m\n\u001b[1;32m---> 15\u001b[1;33m     \u001b[0mhotel_df\u001b[0m\u001b[1;33m.\u001b[0m\u001b[0mloc\u001b[0m\u001b[1;33m[\u001b[0m\u001b[0mindex\u001b[0m\u001b[1;33m,\u001b[0m \u001b[1;34m\"Hotel Name\"\u001b[0m\u001b[1;33m]\u001b[0m \u001b[1;33m=\u001b[0m \u001b[0mhotels\u001b[0m\u001b[1;33m[\u001b[0m\u001b[1;34m\"results\"\u001b[0m\u001b[1;33m]\u001b[0m\u001b[1;33m[\u001b[0m\u001b[1;36m0\u001b[0m\u001b[1;33m]\u001b[0m\u001b[1;33m[\u001b[0m\u001b[1;34m\"name\"\u001b[0m\u001b[1;33m]\u001b[0m\u001b[1;33m\u001b[0m\u001b[1;33m\u001b[0m\u001b[0m\n\u001b[0m\u001b[0;32m     16\u001b[0m     \u001b[1;31m# Grab the first hotel from the results and store the name.\u001b[0m\u001b[1;33m\u001b[0m\u001b[1;33m\u001b[0m\u001b[1;33m\u001b[0m\u001b[0m\n\u001b[0;32m     17\u001b[0m     \u001b[1;32mtry\u001b[0m\u001b[1;33m:\u001b[0m\u001b[1;33m\u001b[0m\u001b[1;33m\u001b[0m\u001b[0m\n",
      "\u001b[1;31mIndexError\u001b[0m: list index out of range"
     ]
    }
   ],
   "source": [
    "# Iterate through the DataFrame.\n",
    "for index, row in hotel_df.iterrows():\n",
    "    # Get the latitude and longitude.\n",
    "    lat = row[\"Lat\"]\n",
    "    lng = row[\"Lng\"]\n",
    "\n",
    "    # Add the latitude and longitude to location key for the params dictionary.\n",
    "    params[\"location\"] = f\"{lat},{lng}\"\n",
    "\n",
    "    # Use the search term: \"lodging\" and our latitude and longitude.\n",
    "    base_url = \"https://maps.googleapis.com/maps/api/place/nearbysearch/json\"\n",
    "    # Make request and get the JSON data from the search.\n",
    "    hotels = requests.get(base_url, params=params).json()\n",
    "    # Grab the first hotel from the results and store the name.\n",
    "    hotel_df.loc[index, \"Hotel Name\"] = hotels[\"results\"][0][\"name\"]\n",
    "    # Grab the first hotel from the results and store the name.\n",
    "    try:\n",
    "        hotel_df.loc[index, \"Hotel Name\"] = hotels[\"results\"][0][\"name\"]\n",
    "    except:\n",
    "        print(\"Hotel not found... skipping.\")\n",
    "                                                             \n",
    "        "
   ]
  },
  {
   "cell_type": "code",
   "execution_count": null,
   "metadata": {},
   "outputs": [],
   "source": [
    "# Add a heatmap of temperature for the vacation spots.\n",
    "locations = hotel_df[[\"Lat\", \"Lng\"]]\n",
    "max_temp = hotel_df[\"Max Temp\"]\n",
    "fig = gmaps.figure(center=(30.0, 31.0), zoom_level=1.5)\n",
    "heat_layer = gmaps.heatmap_layer(locations, weights=max_temp, dissipating=False,\n",
    "             max_intensity=300, point_radius=4)\n",
    "\n",
    "fig.add_layer(heat_layer)\n",
    "# Call the figure to plot the data.\n",
    "fig"
   ]
  },
  {
   "cell_type": "code",
   "execution_count": null,
   "metadata": {},
   "outputs": [],
   "source": [
    "# Add a heatmap of temperature for the vacation spots and marker for each city.\n",
    "locations = hotel_df[[\"Lat\", \"Lng\"]]\n",
    "max_temp = hotel_df[\"Max Temp\"]\n",
    "fig = gmaps.figure(center=(30.0, 31.0), zoom_level=1.5)\n",
    "heat_layer = gmaps.heatmap_layer(locations, weights=max_temp,\n",
    "             dissipating=False, max_intensity=300, point_radius=4)\n",
    "marker_layer = gmaps.marker_layer(locations)\n",
    "fig.add_layer(heat_layer)\n",
    "fig.add_layer(marker_layer)\n",
    "# Call the figure to plot the data.\n",
    "fig"
   ]
  },
  {
   "cell_type": "code",
   "execution_count": null,
   "metadata": {},
   "outputs": [],
   "source": [
    "info_box_template = \"\"\"\n",
    "<dl>\n",
    "<dt>Name</dt><dd>{column1}</dd>\n",
    "<dt>Another name</dt><dd>{column2}</dd>\n",
    "</dl>\n",
    "\"\"\""
   ]
  },
  {
   "cell_type": "code",
   "execution_count": null,
   "metadata": {},
   "outputs": [],
   "source": [
    "info_box_template = \"\"\"\n",
    "<dl>\n",
    "<dt>Hotel Name</dt><dd>{Hotel Name}</dd>\n",
    "<dt>City</dt><dd>{City}</dd>\n",
    "<dt>Country</dt><dd>{Country}</dd>\n",
    "<dt>Max Temp</dt><dd>{Max Temp} °F</dd>\n",
    "</dl>\n",
    "\"\"\""
   ]
  },
  {
   "cell_type": "code",
   "execution_count": null,
   "metadata": {},
   "outputs": [],
   "source": [
    "# Store the DataFrame Row.\n",
    "hotel_info = [info_box_template.format(**row) for index, row in hotel_df.iterrows()]"
   ]
  },
  {
   "cell_type": "code",
   "execution_count": null,
   "metadata": {},
   "outputs": [],
   "source": [
    "# Add a heatmap of temperature for the vacation spots and a pop-up marker for each city.\n",
    "locations = hotel_df[[\"Lat\", \"Lng\"]]\n",
    "max_temp = hotel_df[\"Max Temp\"]\n",
    "fig = gmaps.figure(center=(30.0, 31.0), zoom_level=1.5)\n",
    "heat_layer = gmaps.heatmap_layer(locations, weights=max_temp,dissipating=False,\n",
    "             max_intensity=300, point_radius=4)\n",
    "marker_layer = gmaps.marker_layer(locations, info_box_content=hotel_info)\n",
    "fig.add_layer(heat_layer)\n",
    "fig.add_layer(marker_layer)\n",
    "\n",
    "# Call the figure to plot the data.\n",
    "fig"
   ]
  },
  {
   "cell_type": "code",
   "execution_count": null,
   "metadata": {},
   "outputs": [],
   "source": []
  },
  {
   "cell_type": "code",
   "execution_count": null,
   "metadata": {},
   "outputs": [],
   "source": []
  },
  {
   "cell_type": "code",
   "execution_count": null,
   "metadata": {},
   "outputs": [],
   "source": []
  },
  {
   "cell_type": "code",
   "execution_count": null,
   "metadata": {},
   "outputs": [],
   "source": []
  }
 ],
 "metadata": {
  "kernelspec": {
   "display_name": "PythonData",
   "language": "python",
   "name": "pythondata"
  },
  "language_info": {
   "codemirror_mode": {
    "name": "ipython",
    "version": 3
   },
   "file_extension": ".py",
   "mimetype": "text/x-python",
   "name": "python",
   "nbconvert_exporter": "python",
   "pygments_lexer": "ipython3",
   "version": "3.7.9"
  }
 },
 "nbformat": 4,
 "nbformat_minor": 4
}
